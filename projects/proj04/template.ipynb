{
 "cells": [
  {
   "cell_type": "markdown",
   "metadata": {},
   "source": [
    "# Your Title Here\n",
    "\n",
    "**Name(s)**: (your name(s) here)\n",
    "\n",
    "**Website Link**: (your website link)"
   ]
  },
  {
   "cell_type": "code",
   "execution_count": 12,
   "metadata": {
    "ExecuteTime": {
     "end_time": "2019-10-31T23:36:28.652554Z",
     "start_time": "2019-10-31T23:36:27.180520Z"
    }
   },
   "outputs": [],
   "source": [
    "import pandas as pd\n",
    "import numpy as np\n",
    "from pathlib import Path\n",
    "\n",
    "import plotly.express as px\n",
    "pd.options.plotting.backend = 'plotly'\n",
    "\n",
    "from dsc80_utils import * # Feel free to uncomment and use this."
   ]
  },
  {
   "cell_type": "code",
   "execution_count": 13,
   "metadata": {},
   "outputs": [
    {
     "data": {
      "text/html": [
       "<div>\n",
       "<style scoped>\n",
       "    .dataframe tbody tr th:only-of-type {\n",
       "        vertical-align: middle;\n",
       "    }\n",
       "\n",
       "    .dataframe tbody tr th {\n",
       "        vertical-align: top;\n",
       "    }\n",
       "\n",
       "    .dataframe thead th {\n",
       "        text-align: right;\n",
       "    }\n",
       "</style>\n",
       "<table border=\"1\" class=\"dataframe\">\n",
       "  <thead>\n",
       "    <tr style=\"text-align: right;\">\n",
       "      <th></th>\n",
       "      <th>YEAR</th>\n",
       "      <th>MONTH</th>\n",
       "      <th>U.S._STATE</th>\n",
       "      <th>POSTAL.CODE</th>\n",
       "      <th>...</th>\n",
       "      <th>PCT_WATER_TOT</th>\n",
       "      <th>PCT_WATER_INLAND</th>\n",
       "      <th>OUTAGE.START</th>\n",
       "      <th>OUTAGE.RESTORATION</th>\n",
       "    </tr>\n",
       "  </thead>\n",
       "  <tbody>\n",
       "    <tr>\n",
       "      <th>1</th>\n",
       "      <td>2011.0</td>\n",
       "      <td>7.0</td>\n",
       "      <td>Minnesota</td>\n",
       "      <td>MN</td>\n",
       "      <td>...</td>\n",
       "      <td>8.407334131</td>\n",
       "      <td>5.478742983</td>\n",
       "      <td>2011-07-01 17:00:00</td>\n",
       "      <td>2011-07-03 20:00:00</td>\n",
       "    </tr>\n",
       "    <tr>\n",
       "      <th>2</th>\n",
       "      <td>2014.0</td>\n",
       "      <td>5.0</td>\n",
       "      <td>Minnesota</td>\n",
       "      <td>MN</td>\n",
       "      <td>...</td>\n",
       "      <td>8.407334131</td>\n",
       "      <td>5.478742983</td>\n",
       "      <td>2014-05-11 18:38:00</td>\n",
       "      <td>2014-05-11 18:39:00</td>\n",
       "    </tr>\n",
       "    <tr>\n",
       "      <th>3</th>\n",
       "      <td>2010.0</td>\n",
       "      <td>10.0</td>\n",
       "      <td>Minnesota</td>\n",
       "      <td>MN</td>\n",
       "      <td>...</td>\n",
       "      <td>8.407334131</td>\n",
       "      <td>5.478742983</td>\n",
       "      <td>2010-10-26 20:00:00</td>\n",
       "      <td>2010-10-28 22:00:00</td>\n",
       "    </tr>\n",
       "    <tr>\n",
       "      <th>...</th>\n",
       "      <td>...</td>\n",
       "      <td>...</td>\n",
       "      <td>...</td>\n",
       "      <td>...</td>\n",
       "      <td>...</td>\n",
       "      <td>...</td>\n",
       "      <td>...</td>\n",
       "      <td>...</td>\n",
       "      <td>...</td>\n",
       "    </tr>\n",
       "    <tr>\n",
       "      <th>1532</th>\n",
       "      <td>2009.0</td>\n",
       "      <td>8.0</td>\n",
       "      <td>South Dakota</td>\n",
       "      <td>SD</td>\n",
       "      <td>...</td>\n",
       "      <td>1.692255822</td>\n",
       "      <td>1.692255822</td>\n",
       "      <td>2009-08-29 22:54:00</td>\n",
       "      <td>2009-08-29 23:53:00</td>\n",
       "    </tr>\n",
       "    <tr>\n",
       "      <th>1533</th>\n",
       "      <td>2009.0</td>\n",
       "      <td>8.0</td>\n",
       "      <td>South Dakota</td>\n",
       "      <td>SD</td>\n",
       "      <td>...</td>\n",
       "      <td>1.692255822</td>\n",
       "      <td>1.692255822</td>\n",
       "      <td>2009-08-29 11:00:00</td>\n",
       "      <td>2009-08-29 14:01:00</td>\n",
       "    </tr>\n",
       "    <tr>\n",
       "      <th>1534</th>\n",
       "      <td>2000.0</td>\n",
       "      <td>NaN</td>\n",
       "      <td>Alaska</td>\n",
       "      <td>AK</td>\n",
       "      <td>...</td>\n",
       "      <td>14.23884554</td>\n",
       "      <td>2.901181874</td>\n",
       "      <td>NaT</td>\n",
       "      <td>NaT</td>\n",
       "    </tr>\n",
       "  </tbody>\n",
       "</table>\n",
       "<p>1534 rows × 57 columns</p>\n",
       "</div>"
      ],
      "text/plain": [
       "        YEAR  MONTH    U.S._STATE POSTAL.CODE  ... PCT_WATER_TOT  \\\n",
       "1     2011.0    7.0     Minnesota          MN  ...   8.407334131   \n",
       "2     2014.0    5.0     Minnesota          MN  ...   8.407334131   \n",
       "3     2010.0   10.0     Minnesota          MN  ...   8.407334131   \n",
       "...      ...    ...           ...         ...  ...           ...   \n",
       "1532  2009.0    8.0  South Dakota          SD  ...   1.692255822   \n",
       "1533  2009.0    8.0  South Dakota          SD  ...   1.692255822   \n",
       "1534  2000.0    NaN        Alaska          AK  ...   14.23884554   \n",
       "\n",
       "     PCT_WATER_INLAND        OUTAGE.START  OUTAGE.RESTORATION  \n",
       "1         5.478742983 2011-07-01 17:00:00 2011-07-03 20:00:00  \n",
       "2         5.478742983 2014-05-11 18:38:00 2014-05-11 18:39:00  \n",
       "3         5.478742983 2010-10-26 20:00:00 2010-10-28 22:00:00  \n",
       "...               ...                 ...                 ...  \n",
       "1532      1.692255822 2009-08-29 22:54:00 2009-08-29 23:53:00  \n",
       "1533      1.692255822 2009-08-29 11:00:00 2009-08-29 14:01:00  \n",
       "1534      2.901181874                 NaT                 NaT  \n",
       "\n",
       "[1534 rows x 57 columns]"
      ]
     },
     "execution_count": 13,
     "metadata": {},
     "output_type": "execute_result"
    }
   ],
   "source": [
    "#import data and some cleaning\n",
    "outage_df = pd.read_csv('outage.csv' ,skiprows=5, header=0)\n",
    "outage_df = outage_df.iloc[1:,2:]\n",
    "outage_df['OUTAGE.START'] = pd.to_datetime(outage_df['OUTAGE.START.DATE'] +' '+ outage_df['OUTAGE.START.TIME'])\n",
    "outage_df['OUTAGE.RESTORATION'] = pd.to_datetime(outage_df['OUTAGE.RESTORATION.DATE'] + ' ' + outage_df['OUTAGE.RESTORATION.TIME'])\n",
    "outage_df"
   ]
  },
  {
   "cell_type": "markdown",
   "metadata": {},
   "source": [
    "## Step 1: Introduction"
   ]
  },
  {
   "cell_type": "code",
   "execution_count": 14,
   "metadata": {},
   "outputs": [
    {
     "data": {
      "text/plain": [
       "'\\nWhat is the impact on the number of people affected and demand loss caused by a power outage resulting from an accident,\\nand how does this impact vary with the duration of the outage?\\n'"
      ]
     },
     "execution_count": 14,
     "metadata": {},
     "output_type": "execute_result"
    }
   ],
   "source": [
    "'''\n",
    "What is the impact on the number of people affected and demand loss caused by a power outage resulting from an accident,\n",
    "and how does this impact vary with the duration of the outage?\n",
    "'''"
   ]
  },
  {
   "cell_type": "markdown",
   "metadata": {},
   "source": [
    "## Step 2: Data Cleaning and Exploratory Data Analysis"
   ]
  },
  {
   "cell_type": "code",
   "execution_count": 15,
   "metadata": {
    "ExecuteTime": {
     "end_time": "2019-10-31T23:36:28.657068Z",
     "start_time": "2019-10-31T23:36:28.654650Z"
    }
   },
   "outputs": [
    {
     "data": {
      "text/html": [
       "<div>                            <div id=\"d6952dc3-90e8-4c9e-a73f-94d2e535f8c5\" class=\"plotly-graph-div\" style=\"height:400px; width:600px;\"></div>            <script type=\"text/javascript\">                require([\"plotly\"], function(Plotly) {                    window.PLOTLYENV=window.PLOTLYENV || {};                                    if (document.getElementById(\"d6952dc3-90e8-4c9e-a73f-94d2e535f8c5\")) {                    Plotly.newPlot(                        \"d6952dc3-90e8-4c9e-a73f-94d2e535f8c5\",                        [{\"hovertemplate\":\"x=%{x}\\u003cbr\\u003eindex=%{y}\\u003cextra\\u003e\\u003c\\u002fextra\\u003e\",\"legendgroup\":\"\",\"marker\":{\"color\":\"#1F77B4\",\"symbol\":\"circle\"},\"mode\":\"markers\",\"name\":\"\",\"showlegend\":false,\"x\":[null,null,null,null,\"250\",null,null,\"75\",\"20\",null,null,null,\"0\",\"0\",null,\"926\",null,null,\"100\",null,null,null,\"0\",null,null,null,null,\"300\",null,null,null,\"300\",\"1\",null,\"494\",\"300\",null,null,null,null,\"359\",\"860\",null,null,\"140\",null,null,\"0\",\"850\",null,null,\"10\",\"15\",null,null,\"150\",null,\"0\",\"600\",\"30\",null,\"0\",null,null,\"424\",null,null,\"220\",null,\"24\",null,null,\"700\",\"250\",\"366\",\"82\",\"8881\",null,null,\"11000\",\"300\",\"585\",null,null,\"50\",\"75\",\"50\",null,null,null,\"55\",null,\"1826\",null,\"212\",\"82\",\"262\",\"0\",null,null,null,\"200\",null,null,null,null,null,null,\"310\",null,\"240\",null,\"60\",null,null,null,\"100\",\"240\",null,\"340\",\"378\",null,\"371\",null,null,null,\"210\",null,\"1007\",\"320\",\"125\",null,\"500\",\"218\",\"630\",null,\"400\",\"100\",\"540\",\"303\",\"350\",\"500\",\"75\",null,\"0\",\"1000\",null,null,\"700\",null,null,null,\"75\",\"408\",\"150\",\"190\",null,\"400\",null,\"0\",null,\"254\",\"500\",null,null,null,null,\"254\",\"350\",null,\"400\",null,\"12\",null,null,\"150\",null,null,null,\"380\",null,null,null,null,null,\"0\",\"265\",null,null,null,null,\"399\",null,\"485\",\"0\",\"1000\",null,\"260\",null,null,\"212\",\"179\",\"8087\",null,null,\"399\",\"0\",\"294\",null,null,\"1084\",\"476\",\"153\",null,\"491\",\"0\",\"350\",\"703\",null,null,\"1231\",\"221\",\"300\",\"220\",null,\"544\",null,\"339\",null,\"473\",null,null,null,\"1950\",null,\"400\",\"4000\",\"108\",\"920\",\"46\",null,\"100\",\"260\",\"117\",null,null,\"0\",\"0\",null,null,null,null,\"350\",\"176\",null,null,\"0\",\"51\",null,null,null,\"0\",\"300\",null,null,\"0\",null,\"328\",null,\"40\",null,\"0\",null,null,\"650\",null,null,\"1900\",null,\"219\",\"250\",\"746\",null,null,null,null,null,\"85\",null,null,null,null,\"672\",null,null,null,null,\"600\",null,\"0\",\"47\",\"15\",\"50\",null,\"57\",null,null,\"38\",null,null,\"535\",null,\"49\",null,\"0\",\"545\",null,null,\"1000\",null,\"1024\",null,\"425\",\"50\",null,null,\"0\",null,\"200\",null,null,null,\"41\",null,\"650\",null,\"500\",\"506\",\"217\",null,null,null,\"366\",null,null,\"30\",null,\"0\",\"0\",null,null,null,null,null,null,null,null,null,\"350\",null,null,null,\"127\",null,null,null,null,null,null,null,null,null,null,null,null,\"200\",\"200\",null,\"300\",null,\"371\",null,null,null,null,null,\"80\",null,null,null,null,null,null,\"300\",null,null,null,\"184\",null,\"250\",null,null,null,\"275\",\"0\",null,\"0\",\"150\",\"180\",null,null,\"1600\",null,\"200\",\"115\",\"260\",null,\"0\",null,\"0\",null,null,null,null,\"0\",null,\"0\",\"0\",null,null,null,null,null,\"0\",\"244\",\"0\",\"0\",null,\"0\",null,\"0\",null,null,\"900\",\"100\",null,\"420\",null,\"0\",null,null,null,\"0\",null,null,null,\"0\",null,\"9\",null,\"750\",null,null,null,\"175\",null,null,null,null,null,null,\"0\",null,\"0\",null,\"360\",\"150\",\"280\",null,\"50\",\"0\",null,\"630\",null,null,\"300\",null,null,\"1200\",null,null,\"5299\",null,null,null,\"455\",\"1000\",null,null,null,null,null,null,null,\"138\",\"0\",null,\"2\",null,null,\"960\",null,null,null,null,\"3963\",null,\"200\",\"440\",\"354\",\"300\",\"300\",null,\"270\",\"500\",null,null,\"0\",null,\"0\",null,\"0\",null,null,null,null,\"400\",null,\"0\",null,null,null,\"0\",null,\"0\",\"2000\",null,null,\"335\",null,\"0\",null,\"1\",null,\"1\",\"800\",\"375\",\"0\",\"625\",\"0\",null,null,null,\"0\",\"60\",\"160\",null,\"0\",\"0\",\"1500\",\"400\",\"480\",\"1114\",\"1465\",null,null,null,null,null,\"15\",\"630\",\"105\",null,null,null,null,null,null,\"156\",null,null,null,null,\"0\",\"389\",null,\"750\",null,null,null,\"200\",null,null,\"72\",null,\"87\",\"600\",null,null,null,null,\"546\",\"130\",null,\"90\",null,null,null,null,\"150\",null,null,null,\"0\",\"250\",\"110\",null,null,null,\"0\",null,null,null,null,null,null,null,null,\"342\",\"2\",null,null,null,\"600\",null,\"70\",\"21\",\"0\",\"0\",null,null,null,null,null,null,\"0\",\"6\",\"461\",\"0\",\"0\",null,null,\"0\",\"306\",\"0\",null,\"2818\",null,\"0\",\"0\",\"0\",null,\"0\",null,\"0\",\"0\",null,null,\"0\",null,\"316\",null,null,\"0\",null,\"0\",null,null,\"392\",\"294\",\"177\",null,\"0\",\"0\",\"420\",null,\"1000\",\"380\",\"11000\",\"500\",null,null,\"168\",\"250\",null,\"7000\",null,null,null,null,null,null,null,null,\"0\",null,\"400\",null,\"469\",null,\"0\",\"168\",\"430\",\"7\",\"206\",\"0\",null,null,null,null,null,\"475\",\"215\",\"70\",null,\"40\",null,\"300\",\"48\",null,\"3\",\"400\",null,\"600\",\"300\",\"500\",null,\"2\",null,\"1000\",\"300\",null,\"180\",null,\"40\",null,\"600\",\"400\",\"200\",\"250\",\"0\",\"1000\",\"0\",null,\"14435\",null,\"175\",null,\"1655\",null,\"1500\",\"0\",\"198\",\"400\",null,null,\"125\",\"55\",\"0\",null,\"90\",null,\"438\",\"0\",\"320\",null,null,\"0\",\"80\",\"215\",\"0\",null,null,\"0\",\"0\",null,null,null,null,null,null,\"500\",null,null,null,\"100\",\"450\",null,\"4545\",\"700\",\"450\",\"600\",\"300\",\"4853\",null,\"12\",\"210\",null,null,\"0\",null,\"32\",null,null,null,null,null,\"0\",null,null,null,\"0\",null,\"0\",null,\"350\",null,\"0\",null,null,null,null,null,null,null,\"140\",null,\"700\",\"3000\",null,\"400\",\"266\",\"300\",\"200\",\"10\",null,\"0\",null,\"135\",\"200\",null,null,\"0\",\"0\",null,null,\"210\",\"95\",\"0\",null,null,\"0\",\"0\",\"0\",\"0\",\"0\",null,\"0\",null,\"0\",null,\"0\",null,\"0\",\"0\",\"0\",null,null,\"0\",\"0\",null,null,null,\"0\",\"0\",\"0\",null,null,null,\"0\",\"0\",\"0\",null,null,null,null,\"0\",\"0\",null,\"400\",null,null,\"0\",null,\"750\",\"200\",null,null,null,\"225\",null,null,null,null,null,null,null,null,null,\"650\",\"82\",null,\"0\",\"100\",\"675\",null,\"200\",null,null,null,\"300\",null,null,null,\"0\",\"50\",\"108\",\"675\",\"400\",null,\"11202\",\"0\",\"675\",null,null,null,\"460\",null,null,null,null,\"0\",\"250\",null,\"150\",\"22934\",null,\"180\",\"100\",null,null,null,\"500\",\"417\",\"0\",\"200\",null,\"353\",null,\"300\",\"600\",null,null,null,\"676\",null,\"30\",null,\"460\",\"675\",\"200\",null,\"350\",null,null,null,null,null,null,null,null,null,\"150\",null,null,\"300\",\"32\",\"33\",null,\"200\",null,null,null,\"400\",\"40\",\"700\",null,null,\"300\",\"225\",null,null,\"103\",\"163\",null,null,\"350\",\"150\",\"120\",null,\"0\",null,\"0\",\"0\",\"3200\",null,\"0\",\"51\",null,\"280\",\"500\",\"0\",\"0\",\"1400\",\"250\",\"283\",null,\"0\",\"0\",\"318\",\"55\",\"6000\",\"0\",null,\"180\",\"350\",\"250\",\"148\",\"120\",\"140\",\"1800\",\"297\",\"2100\",\"113\",\"1250\",\"1100\",\"10000\",\"125\",\"1300\",\"0\",\"65\",\"125\",\"206\",\"150\",\"27\",null,\"483\",\"133\",\"41788\",\"4000\",\"0\",null,\"695\",\"197\",\"685\",\"2578\",\"240\",null,\"119\",null,\"13850\",null,\"595\",null,\"150\",null,\"360\",\"31\",null,\"180\",\"0\",\"630\",\"176\",\"300\",\"324\",\"30\",\"420\",\"150\",\"300\",null,\"220\",null,\"10\",\"140\",\"3\",\"2650\",\"308\",null,\"160\",\"5\",\"5\",\"0\",\"80\",\"55\",\"300\",\"90\",\"115\",\"400\",\"300\",null,\"120\",\"300\",\"150\",null,\"120\",null,null,\"360\",\"176\",\"7\",null,\"300\",\"200\",\"0\",\"91\",null,\"91\",null,\"318\",\"240\",null,null,\"864\",\"240\",null,null,\"130\",\"270\",\"15\",\"500\",\"500\",\"1000\",\"400\",\"500\",\"220\",\"240\",\"464\",\"0\",\"22\",\"324\",null,\"290\",\"300\",\"103\",\"100\",null,\"0\",\"110\",\"3\",\"160\",null,null,\"180\",\"160\",\"140\",null,\"24\",\"480\",\"136\",null,\"400\",null,\"350\",\"522\",\"160\",null,\"1\",null,\"295\",null,\"250\",\"800\",\"414\",\"512\",null,\"56\",\"250\",\"0\",\"88\",\"200\",null,\"5\",\"206\",\"130\",\"15\",null,\"0\",\"20\",\"3\",\"526\",\"10\",\"700\",null,null,null,null,\"300\",null,\"150\",\"208\",\"150\",\"9\",\"30\",\"91\",\"16\",\"390\",null,\"662\",\"280\",\"522\",\"0\",null,\"225\",null,\"300\",\"700\",\"451\",\"170\",\"5\",null,\"240\",\"1\",\"3900\",\"200\",\"220\",\"611\",\"300\",\"180\",\"300\",\"3300\",\"199\",\"29\",\"0\",\"22\",\"200\",\"150\",\"136\",null,null,null,\"211\",null,\"0\",\"1\",\"126\",\"75\",null,\"214\",null,\"0\",\"110\",null,\"150\",\"430\",null,null,\"4\",\"600\",null,null,null,null,\"22\",null,\"50\",null,\"45\",\"84\",\"0\",null,null,null,null,\"40\",\"650\",null,null,null,null,\"4\",\"900\",\"150\",\"0\",\"293\",null,\"120\",null,\"300\",\"143\",\"240\",\"188\",\"600\",\"520\",\"250\",\"790\",\"72\",null,\"950\",null,\"5000\",\"350\",\"475\",null,\"210\",\"850\",\"170\",\"400\",\"63\",\"300\",\"120\",\"100\",\"335\",null,null,\"250\",\"900\",\"600\",\"65\",\"650\",\"428\",\"400\",\"101\",\"0\",\"0\",null,\"6\",null,\"0\",null,\"1040\",null,null,\"0\",null,null,null,\"0\",\"0\",null,null,null,\"0\",\"0\",\"0\",\"10\",\"83\",\"150\",\"2200\",\"729\",\"312\",\"75\",\"620\",\"363\",\"100\",\"100\",\"221\",\"290\",\"1246\",\"854\",\"563\",null,\"0\",null,null,null,null,\"0\",\"130\",\"75\",null,\"0\",null,null,null,\"50\",null,\"0\",null,null,null,\"0\",\"500\",null,\"92\",null,null,\"30\",null,null,null,\"75\",null,null,null,\"300\",null,\"500\",\"0\",\"280\",null,\"8\",null,null,null,\"51\",null,\"0\",\"0\",\"340\",null,null,null,null,\"22700\",\"200\",null,null,\"630\",\"0\",\"1\",\"0\",\"0\",null,\"0\",null,null,\"0\",null,null,\"75\",null,\"50\",null,null,null,\"0\",\"0\",\"180\",null,null,null,\"0\",\"0\",\"0\",null,\"0\",\"0\",\"0\",null,null,\"0\",null,\"0\",\"0\",\"0\",null,\"0\",\"56\",null,null,\"0\",\"123\",\"0\",\"0\",null,\"150\",\"580\",null,\"0\",null,\"300\",\"428\",\"120\",\"0\",null,\"0\",\"550\",null,\"0\",null,\"500\",\"0\",null,null,\"200\",\"1060\",\"220\",\"110\",\"120\",\"1170\",\"290\",\"0\",\"157\",\"0\",\"0\",null,\"0\",\"0\",\"485\",\"155\",\"1650\",\"84\",\"373\",\"35\"],\"xaxis\":\"x\",\"y\":[1,2,3,4,5,6,7,8,9,10,11,12,13,14,15,16,17,18,19,20,21,22,23,24,25,26,27,28,29,30,31,32,33,34,35,36,37,38,39,40,41,42,43,44,45,46,47,48,49,50,51,52,53,54,55,56,57,58,59,60,61,62,63,64,65,66,67,68,69,70,71,72,73,74,75,76,77,78,79,80,81,82,83,84,85,86,87,88,89,90,91,92,93,94,95,96,97,98,99,100,101,102,103,104,105,106,107,108,109,110,111,112,113,114,115,116,117,118,119,120,121,122,123,124,125,126,127,128,129,130,131,132,133,134,135,136,137,138,139,140,141,142,143,144,145,146,147,148,149,150,151,152,153,154,155,156,157,158,159,160,161,162,163,164,165,166,167,168,169,170,171,172,173,174,175,176,177,178,179,180,181,182,183,184,185,186,187,188,189,190,191,192,193,194,195,196,197,198,199,200,201,202,203,204,205,206,207,208,209,210,211,212,213,214,215,216,217,218,219,220,221,222,223,224,225,226,227,228,229,230,231,232,233,234,235,236,237,238,239,240,241,242,243,244,245,246,247,248,249,250,251,252,253,254,255,256,257,258,259,260,261,262,263,264,265,266,267,268,269,270,271,272,273,274,275,276,277,278,279,280,281,282,283,284,285,286,287,288,289,290,291,292,293,294,295,296,297,298,299,300,301,302,303,304,305,306,307,308,309,310,311,312,313,314,315,316,317,318,319,320,321,322,323,324,325,326,327,328,329,330,331,332,333,334,335,336,337,338,339,340,341,342,343,344,345,346,347,348,349,350,351,352,353,354,355,356,357,358,359,360,361,362,363,364,365,366,367,368,369,370,371,372,373,374,375,376,377,378,379,380,381,382,383,384,385,386,387,388,389,390,391,392,393,394,395,396,397,398,399,400,401,402,403,404,405,406,407,408,409,410,411,412,413,414,415,416,417,418,419,420,421,422,423,424,425,426,427,428,429,430,431,432,433,434,435,436,437,438,439,440,441,442,443,444,445,446,447,448,449,450,451,452,453,454,455,456,457,458,459,460,461,462,463,464,465,466,467,468,469,470,471,472,473,474,475,476,477,478,479,480,481,482,483,484,485,486,487,488,489,490,491,492,493,494,495,496,497,498,499,500,501,502,503,504,505,506,507,508,509,510,511,512,513,514,515,516,517,518,519,520,521,522,523,524,525,526,527,528,529,530,531,532,533,534,535,536,537,538,539,540,541,542,543,544,545,546,547,548,549,550,551,552,553,554,555,556,557,558,559,560,561,562,563,564,565,566,567,568,569,570,571,572,573,574,575,576,577,578,579,580,581,582,583,584,585,586,587,588,589,590,591,592,593,594,595,596,597,598,599,600,601,602,603,604,605,606,607,608,609,610,611,612,613,614,615,616,617,618,619,620,621,622,623,624,625,626,627,628,629,630,631,632,633,634,635,636,637,638,639,640,641,642,643,644,645,646,647,648,649,650,651,652,653,654,655,656,657,658,659,660,661,662,663,664,665,666,667,668,669,670,671,672,673,674,675,676,677,678,679,680,681,682,683,684,685,686,687,688,689,690,691,692,693,694,695,696,697,698,699,700,701,702,703,704,705,706,707,708,709,710,711,712,713,714,715,716,717,718,719,720,721,722,723,724,725,726,727,728,729,730,731,732,733,734,735,736,737,738,739,740,741,742,743,744,745,746,747,748,749,750,751,752,753,754,755,756,757,758,759,760,761,762,763,764,765,766,767,768,769,770,771,772,773,774,775,776,777,778,779,780,781,782,783,784,785,786,787,788,789,790,791,792,793,794,795,796,797,798,799,800,801,802,803,804,805,806,807,808,809,810,811,812,813,814,815,816,817,818,819,820,821,822,823,824,825,826,827,828,829,830,831,832,833,834,835,836,837,838,839,840,841,842,843,844,845,846,847,848,849,850,851,852,853,854,855,856,857,858,859,860,861,862,863,864,865,866,867,868,869,870,871,872,873,874,875,876,877,878,879,880,881,882,883,884,885,886,887,888,889,890,891,892,893,894,895,896,897,898,899,900,901,902,903,904,905,906,907,908,909,910,911,912,913,914,915,916,917,918,919,920,921,922,923,924,925,926,927,928,929,930,931,932,933,934,935,936,937,938,939,940,941,942,943,944,945,946,947,948,949,950,951,952,953,954,955,956,957,958,959,960,961,962,963,964,965,966,967,968,969,970,971,972,973,974,975,976,977,978,979,980,981,982,983,984,985,986,987,988,989,990,991,992,993,994,995,996,997,998,999,1000,1001,1002,1003,1004,1005,1006,1007,1008,1009,1010,1011,1012,1013,1014,1015,1016,1017,1018,1019,1020,1021,1022,1023,1024,1025,1026,1027,1028,1029,1030,1031,1032,1033,1034,1035,1036,1037,1038,1039,1040,1041,1042,1043,1044,1045,1046,1047,1048,1049,1050,1051,1052,1053,1054,1055,1056,1057,1058,1059,1060,1061,1062,1063,1064,1065,1066,1067,1068,1069,1070,1071,1072,1073,1074,1075,1076,1077,1078,1079,1080,1081,1082,1083,1084,1085,1086,1087,1088,1089,1090,1091,1092,1093,1094,1095,1096,1097,1098,1099,1100,1101,1102,1103,1104,1105,1106,1107,1108,1109,1110,1111,1112,1113,1114,1115,1116,1117,1118,1119,1120,1121,1122,1123,1124,1125,1126,1127,1128,1129,1130,1131,1132,1133,1134,1135,1136,1137,1138,1139,1140,1141,1142,1143,1144,1145,1146,1147,1148,1149,1150,1151,1152,1153,1154,1155,1156,1157,1158,1159,1160,1161,1162,1163,1164,1165,1166,1167,1168,1169,1170,1171,1172,1173,1174,1175,1176,1177,1178,1179,1180,1181,1182,1183,1184,1185,1186,1187,1188,1189,1190,1191,1192,1193,1194,1195,1196,1197,1198,1199,1200,1201,1202,1203,1204,1205,1206,1207,1208,1209,1210,1211,1212,1213,1214,1215,1216,1217,1218,1219,1220,1221,1222,1223,1224,1225,1226,1227,1228,1229,1230,1231,1232,1233,1234,1235,1236,1237,1238,1239,1240,1241,1242,1243,1244,1245,1246,1247,1248,1249,1250,1251,1252,1253,1254,1255,1256,1257,1258,1259,1260,1261,1262,1263,1264,1265,1266,1267,1268,1269,1270,1271,1272,1273,1274,1275,1276,1277,1278,1279,1280,1281,1282,1283,1284,1285,1286,1287,1288,1289,1290,1291,1292,1293,1294,1295,1296,1297,1298,1299,1300,1301,1302,1303,1304,1305,1306,1307,1308,1309,1310,1311,1312,1313,1314,1315,1316,1317,1318,1319,1320,1321,1322,1323,1324,1325,1326,1327,1328,1329,1330,1331,1332,1333,1334,1335,1336,1337,1338,1339,1340,1341,1342,1343,1344,1345,1346,1347,1348,1349,1350,1351,1352,1353,1354,1355,1356,1357,1358,1359,1360,1361,1362,1363,1364,1365,1366,1367,1368,1369,1370,1371,1372,1373,1374,1375,1376,1377,1378,1379,1380,1381,1382,1383,1384,1385,1386,1387,1388,1389,1390,1391,1392,1393,1394,1395,1396,1397,1398,1399,1400,1401,1402,1403,1404,1405,1406,1407,1408,1409,1410,1411,1412,1413,1414,1415,1416,1417,1418,1419,1420,1421,1422,1423,1424,1425,1426,1427,1428,1429,1430,1431,1432,1433,1434,1435,1436,1437,1438,1439,1440,1441,1442,1443,1444,1445,1446,1447,1448,1449,1450,1451,1452,1453,1454,1455,1456,1457,1458,1459,1460,1461,1462,1463,1464,1465,1466,1467,1468,1469,1470,1471,1472,1473,1474,1475,1476,1477,1478,1479,1480,1481,1482,1483,1484,1485,1486,1487,1488,1489,1490,1491,1492,1493,1494,1495,1496,1497,1498,1499,1500,1501,1502,1503,1504,1505,1506,1507,1508,1509,1510,1511,1512,1513,1514,1515,1516,1517,1518,1519,1520,1521,1522,1523,1524,1525,1526,1527,1528,1529,1530,1531,1532,1533,1534],\"yaxis\":\"y\",\"type\":\"scattergl\"}],                        {\"template\":{\"data\":{\"barpolar\":[{\"marker\":{\"line\":{\"color\":\"white\",\"width\":0.5},\"pattern\":{\"fillmode\":\"overlay\",\"size\":10,\"solidity\":0.2}},\"type\":\"barpolar\"}],\"bar\":[{\"error_x\":{\"color\":\"rgb(36,36,36)\"},\"error_y\":{\"color\":\"rgb(36,36,36)\"},\"marker\":{\"line\":{\"color\":\"white\",\"width\":0.5},\"pattern\":{\"fillmode\":\"overlay\",\"size\":10,\"solidity\":0.2}},\"type\":\"bar\"}],\"carpet\":[{\"aaxis\":{\"endlinecolor\":\"rgb(36,36,36)\",\"gridcolor\":\"white\",\"linecolor\":\"white\",\"minorgridcolor\":\"white\",\"startlinecolor\":\"rgb(36,36,36)\"},\"baxis\":{\"endlinecolor\":\"rgb(36,36,36)\",\"gridcolor\":\"white\",\"linecolor\":\"white\",\"minorgridcolor\":\"white\",\"startlinecolor\":\"rgb(36,36,36)\"},\"type\":\"carpet\"}],\"choropleth\":[{\"colorbar\":{\"outlinewidth\":1,\"tickcolor\":\"rgb(36,36,36)\",\"ticks\":\"outside\"},\"type\":\"choropleth\"}],\"contourcarpet\":[{\"colorbar\":{\"outlinewidth\":1,\"tickcolor\":\"rgb(36,36,36)\",\"ticks\":\"outside\"},\"type\":\"contourcarpet\"}],\"contour\":[{\"colorbar\":{\"outlinewidth\":1,\"tickcolor\":\"rgb(36,36,36)\",\"ticks\":\"outside\"},\"colorscale\":[[0.0,\"#440154\"],[0.1111111111111111,\"#482878\"],[0.2222222222222222,\"#3e4989\"],[0.3333333333333333,\"#31688e\"],[0.4444444444444444,\"#26828e\"],[0.5555555555555556,\"#1f9e89\"],[0.6666666666666666,\"#35b779\"],[0.7777777777777778,\"#6ece58\"],[0.8888888888888888,\"#b5de2b\"],[1.0,\"#fde725\"]],\"type\":\"contour\"}],\"heatmapgl\":[{\"colorbar\":{\"outlinewidth\":1,\"tickcolor\":\"rgb(36,36,36)\",\"ticks\":\"outside\"},\"colorscale\":[[0.0,\"#440154\"],[0.1111111111111111,\"#482878\"],[0.2222222222222222,\"#3e4989\"],[0.3333333333333333,\"#31688e\"],[0.4444444444444444,\"#26828e\"],[0.5555555555555556,\"#1f9e89\"],[0.6666666666666666,\"#35b779\"],[0.7777777777777778,\"#6ece58\"],[0.8888888888888888,\"#b5de2b\"],[1.0,\"#fde725\"]],\"type\":\"heatmapgl\"}],\"heatmap\":[{\"colorbar\":{\"outlinewidth\":1,\"tickcolor\":\"rgb(36,36,36)\",\"ticks\":\"outside\"},\"colorscale\":[[0.0,\"#440154\"],[0.1111111111111111,\"#482878\"],[0.2222222222222222,\"#3e4989\"],[0.3333333333333333,\"#31688e\"],[0.4444444444444444,\"#26828e\"],[0.5555555555555556,\"#1f9e89\"],[0.6666666666666666,\"#35b779\"],[0.7777777777777778,\"#6ece58\"],[0.8888888888888888,\"#b5de2b\"],[1.0,\"#fde725\"]],\"type\":\"heatmap\"}],\"histogram2dcontour\":[{\"colorbar\":{\"outlinewidth\":1,\"tickcolor\":\"rgb(36,36,36)\",\"ticks\":\"outside\"},\"colorscale\":[[0.0,\"#440154\"],[0.1111111111111111,\"#482878\"],[0.2222222222222222,\"#3e4989\"],[0.3333333333333333,\"#31688e\"],[0.4444444444444444,\"#26828e\"],[0.5555555555555556,\"#1f9e89\"],[0.6666666666666666,\"#35b779\"],[0.7777777777777778,\"#6ece58\"],[0.8888888888888888,\"#b5de2b\"],[1.0,\"#fde725\"]],\"type\":\"histogram2dcontour\"}],\"histogram2d\":[{\"colorbar\":{\"outlinewidth\":1,\"tickcolor\":\"rgb(36,36,36)\",\"ticks\":\"outside\"},\"colorscale\":[[0.0,\"#440154\"],[0.1111111111111111,\"#482878\"],[0.2222222222222222,\"#3e4989\"],[0.3333333333333333,\"#31688e\"],[0.4444444444444444,\"#26828e\"],[0.5555555555555556,\"#1f9e89\"],[0.6666666666666666,\"#35b779\"],[0.7777777777777778,\"#6ece58\"],[0.8888888888888888,\"#b5de2b\"],[1.0,\"#fde725\"]],\"type\":\"histogram2d\"}],\"histogram\":[{\"marker\":{\"line\":{\"color\":\"white\",\"width\":0.6}},\"type\":\"histogram\"}],\"mesh3d\":[{\"colorbar\":{\"outlinewidth\":1,\"tickcolor\":\"rgb(36,36,36)\",\"ticks\":\"outside\"},\"type\":\"mesh3d\"}],\"parcoords\":[{\"line\":{\"colorbar\":{\"outlinewidth\":1,\"tickcolor\":\"rgb(36,36,36)\",\"ticks\":\"outside\"}},\"type\":\"parcoords\"}],\"pie\":[{\"automargin\":true,\"type\":\"pie\"}],\"scatter3d\":[{\"line\":{\"colorbar\":{\"outlinewidth\":1,\"tickcolor\":\"rgb(36,36,36)\",\"ticks\":\"outside\"}},\"marker\":{\"colorbar\":{\"outlinewidth\":1,\"tickcolor\":\"rgb(36,36,36)\",\"ticks\":\"outside\"}},\"type\":\"scatter3d\"}],\"scattercarpet\":[{\"marker\":{\"colorbar\":{\"outlinewidth\":1,\"tickcolor\":\"rgb(36,36,36)\",\"ticks\":\"outside\"}},\"type\":\"scattercarpet\"}],\"scattergeo\":[{\"marker\":{\"colorbar\":{\"outlinewidth\":1,\"tickcolor\":\"rgb(36,36,36)\",\"ticks\":\"outside\"}},\"type\":\"scattergeo\"}],\"scattergl\":[{\"marker\":{\"colorbar\":{\"outlinewidth\":1,\"tickcolor\":\"rgb(36,36,36)\",\"ticks\":\"outside\"}},\"type\":\"scattergl\"}],\"scattermapbox\":[{\"marker\":{\"colorbar\":{\"outlinewidth\":1,\"tickcolor\":\"rgb(36,36,36)\",\"ticks\":\"outside\"}},\"type\":\"scattermapbox\"}],\"scatterpolargl\":[{\"marker\":{\"colorbar\":{\"outlinewidth\":1,\"tickcolor\":\"rgb(36,36,36)\",\"ticks\":\"outside\"}},\"type\":\"scatterpolargl\"}],\"scatterpolar\":[{\"marker\":{\"colorbar\":{\"outlinewidth\":1,\"tickcolor\":\"rgb(36,36,36)\",\"ticks\":\"outside\"}},\"type\":\"scatterpolar\"}],\"scatter\":[{\"fillpattern\":{\"fillmode\":\"overlay\",\"size\":10,\"solidity\":0.2},\"type\":\"scatter\"}],\"scatterternary\":[{\"marker\":{\"colorbar\":{\"outlinewidth\":1,\"tickcolor\":\"rgb(36,36,36)\",\"ticks\":\"outside\"}},\"type\":\"scatterternary\"}],\"surface\":[{\"colorbar\":{\"outlinewidth\":1,\"tickcolor\":\"rgb(36,36,36)\",\"ticks\":\"outside\"},\"colorscale\":[[0.0,\"#440154\"],[0.1111111111111111,\"#482878\"],[0.2222222222222222,\"#3e4989\"],[0.3333333333333333,\"#31688e\"],[0.4444444444444444,\"#26828e\"],[0.5555555555555556,\"#1f9e89\"],[0.6666666666666666,\"#35b779\"],[0.7777777777777778,\"#6ece58\"],[0.8888888888888888,\"#b5de2b\"],[1.0,\"#fde725\"]],\"type\":\"surface\"}],\"table\":[{\"cells\":{\"fill\":{\"color\":\"rgb(237,237,237)\"},\"line\":{\"color\":\"white\"}},\"header\":{\"fill\":{\"color\":\"rgb(217,217,217)\"},\"line\":{\"color\":\"white\"}},\"type\":\"table\"}]},\"layout\":{\"annotationdefaults\":{\"arrowhead\":0,\"arrowwidth\":1},\"autotypenumbers\":\"strict\",\"coloraxis\":{\"colorbar\":{\"outlinewidth\":1,\"tickcolor\":\"rgb(36,36,36)\",\"ticks\":\"outside\"}},\"colorscale\":{\"diverging\":[[0.0,\"rgb(103,0,31)\"],[0.1,\"rgb(178,24,43)\"],[0.2,\"rgb(214,96,77)\"],[0.3,\"rgb(244,165,130)\"],[0.4,\"rgb(253,219,199)\"],[0.5,\"rgb(247,247,247)\"],[0.6,\"rgb(209,229,240)\"],[0.7,\"rgb(146,197,222)\"],[0.8,\"rgb(67,147,195)\"],[0.9,\"rgb(33,102,172)\"],[1.0,\"rgb(5,48,97)\"]],\"sequential\":[[0.0,\"#440154\"],[0.1111111111111111,\"#482878\"],[0.2222222222222222,\"#3e4989\"],[0.3333333333333333,\"#31688e\"],[0.4444444444444444,\"#26828e\"],[0.5555555555555556,\"#1f9e89\"],[0.6666666666666666,\"#35b779\"],[0.7777777777777778,\"#6ece58\"],[0.8888888888888888,\"#b5de2b\"],[1.0,\"#fde725\"]],\"sequentialminus\":[[0.0,\"#440154\"],[0.1111111111111111,\"#482878\"],[0.2222222222222222,\"#3e4989\"],[0.3333333333333333,\"#31688e\"],[0.4444444444444444,\"#26828e\"],[0.5555555555555556,\"#1f9e89\"],[0.6666666666666666,\"#35b779\"],[0.7777777777777778,\"#6ece58\"],[0.8888888888888888,\"#b5de2b\"],[1.0,\"#fde725\"]]},\"colorway\":[\"#1F77B4\",\"#FF7F0E\",\"#2CA02C\",\"#D62728\",\"#9467BD\",\"#8C564B\",\"#E377C2\",\"#7F7F7F\",\"#BCBD22\",\"#17BECF\"],\"font\":{\"color\":\"rgb(36,36,36)\"},\"geo\":{\"bgcolor\":\"white\",\"lakecolor\":\"white\",\"landcolor\":\"white\",\"showlakes\":true,\"showland\":true,\"subunitcolor\":\"white\"},\"hoverlabel\":{\"align\":\"left\"},\"hovermode\":\"closest\",\"mapbox\":{\"style\":\"light\"},\"paper_bgcolor\":\"white\",\"plot_bgcolor\":\"white\",\"polar\":{\"angularaxis\":{\"gridcolor\":\"rgb(232,232,232)\",\"linecolor\":\"rgb(36,36,36)\",\"showgrid\":false,\"showline\":true,\"ticks\":\"outside\"},\"bgcolor\":\"white\",\"radialaxis\":{\"gridcolor\":\"rgb(232,232,232)\",\"linecolor\":\"rgb(36,36,36)\",\"showgrid\":false,\"showline\":true,\"ticks\":\"outside\"}},\"scene\":{\"xaxis\":{\"backgroundcolor\":\"white\",\"gridcolor\":\"rgb(232,232,232)\",\"gridwidth\":2,\"linecolor\":\"rgb(36,36,36)\",\"showbackground\":true,\"showgrid\":false,\"showline\":true,\"ticks\":\"outside\",\"zeroline\":false,\"zerolinecolor\":\"rgb(36,36,36)\"},\"yaxis\":{\"backgroundcolor\":\"white\",\"gridcolor\":\"rgb(232,232,232)\",\"gridwidth\":2,\"linecolor\":\"rgb(36,36,36)\",\"showbackground\":true,\"showgrid\":false,\"showline\":true,\"ticks\":\"outside\",\"zeroline\":false,\"zerolinecolor\":\"rgb(36,36,36)\"},\"zaxis\":{\"backgroundcolor\":\"white\",\"gridcolor\":\"rgb(232,232,232)\",\"gridwidth\":2,\"linecolor\":\"rgb(36,36,36)\",\"showbackground\":true,\"showgrid\":false,\"showline\":true,\"ticks\":\"outside\",\"zeroline\":false,\"zerolinecolor\":\"rgb(36,36,36)\"}},\"shapedefaults\":{\"fillcolor\":\"black\",\"line\":{\"width\":0},\"opacity\":0.3},\"ternary\":{\"aaxis\":{\"gridcolor\":\"rgb(232,232,232)\",\"linecolor\":\"rgb(36,36,36)\",\"showgrid\":false,\"showline\":true,\"ticks\":\"outside\"},\"baxis\":{\"gridcolor\":\"rgb(232,232,232)\",\"linecolor\":\"rgb(36,36,36)\",\"showgrid\":false,\"showline\":true,\"ticks\":\"outside\"},\"bgcolor\":\"white\",\"caxis\":{\"gridcolor\":\"rgb(232,232,232)\",\"linecolor\":\"rgb(36,36,36)\",\"showgrid\":false,\"showline\":true,\"ticks\":\"outside\"}},\"title\":{\"x\":0.5,\"xanchor\":\"center\"},\"xaxis\":{\"automargin\":true,\"gridcolor\":\"rgb(232,232,232)\",\"linecolor\":\"rgb(36,36,36)\",\"showgrid\":true,\"showline\":true,\"ticks\":\"outside\",\"title\":{\"standoff\":15},\"zeroline\":false,\"zerolinecolor\":\"rgb(36,36,36)\"},\"yaxis\":{\"automargin\":true,\"gridcolor\":\"rgb(232,232,232)\",\"linecolor\":\"rgb(36,36,36)\",\"showgrid\":true,\"showline\":true,\"ticks\":\"outside\",\"title\":{\"standoff\":15},\"zeroline\":false,\"zerolinecolor\":\"rgb(36,36,36)\"},\"autosize\":true,\"height\":400,\"margin\":{\"b\":30,\"l\":30,\"r\":30,\"t\":30},\"width\":600}},\"xaxis\":{\"anchor\":\"y\",\"domain\":[0.0,1.0],\"title\":{\"text\":\"x\"}},\"yaxis\":{\"anchor\":\"x\",\"domain\":[0.0,1.0],\"title\":{\"text\":\"index\"}},\"legend\":{\"tracegroupgap\":0}},                        {\"responsive\": true}                    ).then(function(){\n",
       "                            \n",
       "var gd = document.getElementById('d6952dc3-90e8-4c9e-a73f-94d2e535f8c5');\n",
       "var x = new MutationObserver(function (mutations, observer) {{\n",
       "        var display = window.getComputedStyle(gd).display;\n",
       "        if (!display || display === 'none') {{\n",
       "            console.log([gd, 'removed!']);\n",
       "            Plotly.purge(gd);\n",
       "            observer.disconnect();\n",
       "        }}\n",
       "}});\n",
       "\n",
       "// Listen for the removal of the full notebook cells\n",
       "var notebookContainer = gd.closest('#notebook-container');\n",
       "if (notebookContainer) {{\n",
       "    x.observe(notebookContainer, {childList: true});\n",
       "}}\n",
       "\n",
       "// Listen for the clearing of the current output cell\n",
       "var outputEl = gd.closest('.output');\n",
       "if (outputEl) {{\n",
       "    x.observe(outputEl, {childList: true});\n",
       "}}\n",
       "\n",
       "                        })                };                });            </script>        </div>"
      ]
     },
     "metadata": {},
     "output_type": "display_data"
    }
   ],
   "source": [
    "df = outage_df.fillna(np.NaN)\n",
    "#Create a scatter plot with duration as x axis and demand loss as y axis.\n",
    "x = df['OUTAGE.DURATION']\n",
    "y = df['DEMAND.LOSS.MW']\n",
    "px.scatter(x,y)"
   ]
  },
  {
   "cell_type": "markdown",
   "metadata": {},
   "source": [
    "## Step 3: Assessment of Missingness"
   ]
  },
  {
   "cell_type": "code",
   "execution_count": 5,
   "metadata": {
    "ExecuteTime": {
     "end_time": "2019-10-31T23:36:28.662099Z",
     "start_time": "2019-10-31T23:36:28.660016Z"
    }
   },
   "outputs": [],
   "source": [
    "# TODO"
   ]
  },
  {
   "cell_type": "markdown",
   "metadata": {},
   "source": [
    "## Step 4: Hypothesis Testing"
   ]
  },
  {
   "cell_type": "code",
   "execution_count": 6,
   "metadata": {
    "ExecuteTime": {
     "end_time": "2019-10-31T23:36:28.666489Z",
     "start_time": "2019-10-31T23:36:28.664381Z"
    }
   },
   "outputs": [],
   "source": [
    "# TODO"
   ]
  },
  {
   "cell_type": "markdown",
   "metadata": {},
   "source": [
    "## Step 5: Framing a Prediction Problem"
   ]
  },
  {
   "cell_type": "code",
   "execution_count": 7,
   "metadata": {
    "ExecuteTime": {
     "end_time": "2019-10-31T23:36:28.657068Z",
     "start_time": "2019-10-31T23:36:28.654650Z"
    }
   },
   "outputs": [],
   "source": [
    "# TODO"
   ]
  },
  {
   "cell_type": "markdown",
   "metadata": {},
   "source": [
    "## Step 6: Baseline Model"
   ]
  },
  {
   "cell_type": "code",
   "execution_count": 8,
   "metadata": {
    "ExecuteTime": {
     "end_time": "2019-10-31T23:36:28.662099Z",
     "start_time": "2019-10-31T23:36:28.660016Z"
    }
   },
   "outputs": [],
   "source": [
    "# TODO"
   ]
  },
  {
   "cell_type": "markdown",
   "metadata": {},
   "source": [
    "## Step 7: Final Model"
   ]
  },
  {
   "cell_type": "code",
   "execution_count": 9,
   "metadata": {
    "ExecuteTime": {
     "end_time": "2019-10-31T23:36:28.662099Z",
     "start_time": "2019-10-31T23:36:28.660016Z"
    }
   },
   "outputs": [],
   "source": [
    "# TODO"
   ]
  },
  {
   "cell_type": "markdown",
   "metadata": {},
   "source": [
    "## Step 8: Fairness Analysis"
   ]
  },
  {
   "cell_type": "code",
   "execution_count": 10,
   "metadata": {
    "ExecuteTime": {
     "end_time": "2019-10-31T23:36:28.666489Z",
     "start_time": "2019-10-31T23:36:28.664381Z"
    }
   },
   "outputs": [],
   "source": [
    "# TODO"
   ]
  }
 ],
 "metadata": {
  "kernelspec": {
   "display_name": "Python 3 (ipykernel)",
   "language": "python",
   "name": "python3"
  },
  "language_info": {
   "codemirror_mode": {
    "name": "ipython",
    "version": 3
   },
   "file_extension": ".py",
   "mimetype": "text/x-python",
   "name": "python",
   "nbconvert_exporter": "python",
   "pygments_lexer": "ipython3",
   "version": "3.8.18"
  }
 },
 "nbformat": 4,
 "nbformat_minor": 2
}
