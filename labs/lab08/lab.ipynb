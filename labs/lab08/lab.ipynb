{
 "cells": [
  {
   "cell_type": "code",
   "execution_count": 234,
   "id": "45f9ebc8",
   "metadata": {
    "deletable": false,
    "editable": false
   },
   "outputs": [],
   "source": [
    "# Initialize Otter\n",
    "import otter\n",
    "grader = otter.Notebook(\"lab.ipynb\")"
   ]
  },
  {
   "cell_type": "markdown",
   "id": "c39b00d3",
   "metadata": {},
   "source": [
    "# Lab 8 – Feature Engineering ⚙️\n",
    "\n",
    "## DSC 80, Winter 2024\n",
    "\n",
    "### Due Date: Monday, March 4, 2024 at 11:59pm"
   ]
  },
  {
   "cell_type": "markdown",
   "id": "12055b96",
   "metadata": {},
   "source": [
    "## Instructions\n",
    "\n",
    "Welcome to the eighth DSC 80 lab this quarter!\n",
    "\n",
    "Much like in DSC 10, this Jupyter Notebook contains the statements of the problems and provides code and Markdown cells to display your answers to the problems. Unlike DSC 10, the notebook is *only* for displaying a readable version of your final answers. The coding will be done in an accompanying `lab.py` file that is imported into the current notebook, and **you will only submit that `lab.py` file**, not this notebook!\n",
    "\n",
    "Some additional guidelines:\n",
    "- **Unlike in DSC 10, labs will have both public tests and hidden tests.** The bulk of your grade will come from your scores on hidden tests, which you will only see on Gradescope after the assignment deadline.\n",
    "- **Do not change the function names in the `lab.py` file!** The functions in the `lab.py` file are how your assignment is graded, and they are graded by their name. If you changed something you weren't supposed to, you can find the original code in the [course GitHub repository](https://github.com/dsc-courses/dsc80-2024-wi).\n",
    "- Notebooks are nice for testing and experimenting with different implementations before designing your function in your `lab.py` file. You can write code here, but make sure that all of your real work is in the `lab.py` file, since that's all you're submitting.\n",
    "- You are encouraged to write your own additional helper functions to solve the lab, as long as they also end up in `lab.py`.\n",
    "\n",
    "**To ensure that all of the work you want to submit is in `lab.py`, we've included a script named `lab-validation.py` in the lab folder. You shouldn't edit it, but instead, you should call it from the command line (e.g. the Terminal) to test your work.** More details on its usage are given at the bottom of this notebook.\n",
    "\n",
    "**Importing code from `lab.py`**:\n",
    "\n",
    "* Below, we import the `.py` file that's contained in the same directory as this notebook.\n",
    "* We use the `autoreload` notebook extension to make changes to our `lab.py` file immediately available in our notebook. Without this extension, we would need to restart the notebook kernel to see any changes to `lab.py` in the notebook.\n",
    "    - `autoreload` is necessary because, upon import, `lab.py` is compiled to bytecode (in the directory `__pycache__`). Subsequent imports of `lab` merely import the existing compiled python."
   ]
  },
  {
   "cell_type": "code",
   "execution_count": 235,
   "id": "e51dc377",
   "metadata": {
    "scrolled": true
   },
   "outputs": [
    {
     "name": "stdout",
     "output_type": "stream",
     "text": [
      "The autoreload extension is already loaded. To reload it, use:\n",
      "  %reload_ext autoreload\n"
     ]
    }
   ],
   "source": [
    "%load_ext autoreload\n",
    "%autoreload 2"
   ]
  },
  {
   "cell_type": "code",
   "execution_count": 236,
   "id": "d2e4d9b1",
   "metadata": {},
   "outputs": [],
   "source": [
    "from lab import *"
   ]
  },
  {
   "cell_type": "code",
   "execution_count": 237,
   "id": "afd1e6db",
   "metadata": {},
   "outputs": [],
   "source": [
    "import pandas as pd\n",
    "import numpy as np\n",
    "import plotly.express as px\n",
    "import statsmodels.api as sm\n",
    "from pathlib import Path\n",
    "from sklearn.preprocessing import Binarizer, QuantileTransformer, FunctionTransformer\n",
    "\n",
    "import warnings\n",
    "warnings.filterwarnings('ignore')"
   ]
  },
  {
   "cell_type": "markdown",
   "id": "1fd40947",
   "metadata": {},
   "source": [
    "## Part 1: Scaling Transformations 📐\n",
    "\n",
    "A scaling transformation transforms the scale of the data of a particular quantitative column. Mathematically, each data point $d_i$ is replaced with a transformed value $t_i = f(d_i)$, where $f$ is a transformation function. We can transform any column in a dataset, whether it corresponds to a feature or a target.\n",
    "\n",
    "Generally, the goal of a scaling transformation is to change the data from a complicated, non-linear relationship into a **linear** relationship. Linear relationships are very easy to understand and are easily used by models, like linear regression.\n",
    "\n",
    "However, non-linear growth is a commonly seen relationship in data. Sometimes this growth is by a **fixed power** and sometimes it is **exponential**. The scaling transformations that turn these types of growth linear are **root** and **log** transformations respectively. (Generally, it is more difficult to determine which transformation is appropriate for a given dataset, though the [Tukey-Mosteller bulge diagram](https://freakonometrics.hypotheses.org/files/2014/06/Selection_005.png) is useful.)\n",
    "\n",
    "Let's start by looking at some examples of transformations."
   ]
  },
  {
   "cell_type": "markdown",
   "id": "572c0716",
   "metadata": {},
   "source": [
    "#### Example 1\n",
    "\n",
    "Run the cell below to generate a scatter plot."
   ]
  },
  {
   "cell_type": "code",
   "execution_count": 238,
   "id": "69fbbb6e",
   "metadata": {},
   "outputs": [
    {
     "data": {
      "application/vnd.plotly.v1+json": {
       "config": {
        "plotlyServerURL": "https://plot.ly"
       },
       "data": [
        {
         "hovertemplate": "x=%{x}<br>y=%{y}<extra></extra>",
         "legendgroup": "",
         "marker": {
          "color": "#636efa",
          "symbol": "circle"
         },
         "mode": "markers",
         "name": "",
         "orientation": "v",
         "showlegend": false,
         "type": "scatter",
         "x": [
          1.3334940281767342,
          2.012906540533137,
          2.611190293404091,
          4.474316911247471,
          5.350835897323757,
          5.474459218046441,
          6.816225941941417,
          7.431270154637486,
          8.33892623870457,
          10.886129139153715,
          10.826270504489068,
          12.335070081448576,
          13.161135760174652,
          14.030171467085244,
          14.478274999126636,
          15.495029061706077,
          17.220868186191105,
          18.5644384267234,
          18.080966116121026,
          19.530615684439937,
          20.89907973878431,
          22.52268563867706,
          23.26908098290725,
          24.406059334886127,
          25.120553150314763,
          25.523745234498506,
          26.931866621840683,
          28.633624104278088,
          29.08681682229509,
          29.38837261289643,
          31.707659990558877,
          32.22885548989133,
          33.36443792144573,
          34.98421736545491,
          34.72610599608749,
          35.66029086417425,
          35.74688484148996,
          38.07348024745351,
          39.30309774522677,
          39.9887305549735,
          41.00671112869007,
          42.46797244687282,
          43.21031133008538,
          44.205809820452664,
          44.96433803761893,
          45.97728121222439,
          47.52044298649494,
          47.95298263267223,
          48.789578023359766,
          49.72400571756281,
          50.939451226027174,
          52.095070679515,
          53.256068697373195,
          54.06576923333343,
          54.83419143789176,
          55.18380685969189,
          57.30955703637515,
          57.503713109716045,
          58.919326806597496,
          60.596202165340415,
          61.12536827598895,
          61.593191876264754,
          63.35181181506139,
          63.8659289304322,
          64.75872026067347,
          66.62230524012053,
          67.3384300585266,
          69.59375134328317,
          68.4597176226692,
          70.00511465072638,
          71.21891484021818,
          72.66389381148909,
          72.87442748457717,
          74.79655531358348,
          75.08540885355,
          75.64537304892008,
          76.93348770446904,
          77.99132153025484,
          78.94945354330945,
          79.71798018622445,
          80.9104822024308,
          82.50552941405732,
          83.460497917877,
          84.96654491707238,
          84.60231839055565,
          85.49423240163344,
          88.07538997279127,
          88.21257004190318,
          89.22057575353669,
          89.59128033656711,
          91.2189462398995,
          92.0498616389471,
          93.03270303426204,
          94.61221533571333,
          94.61520047551814,
          96.09605983956332,
          96.13837346912635,
          98.23062960130152,
          98.45731661056149,
          100.91168911732761
         ],
         "xaxis": "x",
         "y": [
          22.920753043397713,
          -12.779724936945986,
          138.82899499135644,
          126.69779702313319,
          79.8022686364038,
          -59.8096355143432,
          -101.70830514795452,
          -84.88263937407467,
          273.49378113560925,
          -52.757347963372155,
          547.4787294329273,
          1083.8563487112756,
          -169.59280973833006,
          227.03733524935456,
          817.6370902087476,
          656.5826326094747,
          191.59587710718733,
          618.4855987790022,
          664.2859770119368,
          1121.7285220895,
          372.03616139554674,
          990.739868305774,
          963.2374704318458,
          1400.1628062515333,
          908.131612728823,
          378.77972661038916,
          604.3852788304825,
          2640.3525633248028,
          1290.1206834808847,
          1819.5201380007156,
          2224.0613071635353,
          2256.9597049883705,
          3694.815261425011,
          2197.9369224377365,
          3349.325473083215,
          3005.466884408579,
          3044.7420558137314,
          1738.5577761651173,
          2486.226718360496,
          4219.211150473849,
          2803.8932025297518,
          3472.937440762097,
          3578.536340828953,
          2222.433801498799,
          2712.523270087474,
          4610.759622032107,
          3275.3940189067316,
          2690.143803430548,
          5851.178825808349,
          6314.1032554386975,
          5098.997721340042,
          4007.988478933152,
          7258.8857604283,
          6600.850986586598,
          3313.5948364311184,
          4698.650718386465,
          4112.723229636089,
          2975.411149941616,
          9215.114987457786,
          9860.193032006418,
          3495.7132325463886,
          8663.88697341136,
          7864.076901369791,
          8156.182901121289,
          9820.51303700965,
          10470.951313609272,
          8645.407924154239,
          8498.623177425507,
          10463.251725677303,
          13221.310770766959,
          6755.064820387253,
          8340.680730944634,
          10083.033185115151,
          9624.85794735366,
          10067.571217450648,
          12681.821021908298,
          12922.923413471495,
          11633.433084486482,
          12592.534320137474,
          10523.392327764599,
          14997.859965551079,
          12247.141142240125,
          10553.883385243027,
          12698.174422349659,
          14094.596906850538,
          17872.05401895161,
          15563.806114015837,
          14032.834543760842,
          21667.282037066718,
          15623.84655347914,
          20190.39440608535,
          18197.371428074384,
          18178.161901581436,
          14356.219351696664,
          18923.068886245568,
          16650.691613126874,
          15536.731654479374,
          20563.644688474044,
          18205.58247167097,
          20374.95811153422
         ],
         "yaxis": "y"
        },
        {
         "hovertemplate": "<b>OLS trendline</b><br>y = 200.569 * x + -3485.84<br>R<sup>2</sup>=0.872782<br><br>x=%{x}<br>y=%{y} <b>(trend)</b><extra></extra>",
         "legendgroup": "",
         "line": {
          "color": "red"
         },
         "marker": {
          "color": "#636efa",
          "symbol": "circle"
         },
         "mode": "lines",
         "name": "",
         "showlegend": false,
         "type": "scatter",
         "x": [
          1.3334940281767342,
          2.012906540533137,
          2.611190293404091,
          4.474316911247471,
          5.350835897323757,
          5.474459218046441,
          6.816225941941417,
          7.431270154637486,
          8.33892623870457,
          10.826270504489068,
          10.886129139153715,
          12.335070081448576,
          13.161135760174652,
          14.030171467085244,
          14.478274999126636,
          15.495029061706077,
          17.220868186191105,
          18.080966116121026,
          18.5644384267234,
          19.530615684439937,
          20.89907973878431,
          22.52268563867706,
          23.26908098290725,
          24.406059334886127,
          25.120553150314763,
          25.523745234498506,
          26.931866621840683,
          28.633624104278088,
          29.08681682229509,
          29.38837261289643,
          31.707659990558877,
          32.22885548989133,
          33.36443792144573,
          34.72610599608749,
          34.98421736545491,
          35.66029086417425,
          35.74688484148996,
          38.07348024745351,
          39.30309774522677,
          39.9887305549735,
          41.00671112869007,
          42.46797244687282,
          43.21031133008538,
          44.205809820452664,
          44.96433803761893,
          45.97728121222439,
          47.52044298649494,
          47.95298263267223,
          48.789578023359766,
          49.72400571756281,
          50.939451226027174,
          52.095070679515,
          53.256068697373195,
          54.06576923333343,
          54.83419143789176,
          55.18380685969189,
          57.30955703637515,
          57.503713109716045,
          58.919326806597496,
          60.596202165340415,
          61.12536827598895,
          61.593191876264754,
          63.35181181506139,
          63.8659289304322,
          64.75872026067347,
          66.62230524012053,
          67.3384300585266,
          68.4597176226692,
          69.59375134328317,
          70.00511465072638,
          71.21891484021818,
          72.66389381148909,
          72.87442748457717,
          74.79655531358348,
          75.08540885355,
          75.64537304892008,
          76.93348770446904,
          77.99132153025484,
          78.94945354330945,
          79.71798018622445,
          80.9104822024308,
          82.50552941405732,
          83.460497917877,
          84.60231839055565,
          84.96654491707238,
          85.49423240163344,
          88.07538997279127,
          88.21257004190318,
          89.22057575353669,
          89.59128033656711,
          91.2189462398995,
          92.0498616389471,
          93.03270303426204,
          94.61221533571333,
          94.61520047551814,
          96.09605983956332,
          96.13837346912635,
          98.23062960130152,
          98.45731661056149,
          100.91168911732761
         ],
         "xaxis": "x",
         "y": [
          -3218.3815330066554,
          -3082.112175822038,
          -2962.1147649192517,
          -2588.428584653727,
          -2412.6257011029575,
          -2387.830646343838,
          -2118.713305065077,
          -1995.354258859806,
          -1813.3062263742838,
          -1314.4210895378665,
          -1302.4152793425114,
          -1011.8020698209602,
          -846.1185756476484,
          -671.816608878652,
          -581.9407541469614,
          -378.0110060149932,
          -31.8604953598865,
          140.64882687921863,
          237.61857616135558,
          431.40416509434726,
          705.8761738140524,
          1031.5218283696117,
          1181.2258916802452,
          1409.2689529121112,
          1552.5745458620545,
          1633.4425386269909,
          1915.868594669911,
          2257.1890649267357,
          2348.085654615285,
          2408.56851737273,
          2873.746585678114,
          2978.282452136064,
          3206.045534451639,
          3479.1544776276983,
          3530.923719062111,
          3666.523372298571,
          3683.8914740191954,
          4150.535309146306,
          4397.158947888807,
          4534.675906363453,
          4738.851655093285,
          5031.935954964192,
          5180.826416338941,
          5380.492947192359,
          5532.630493498569,
          5735.795894131672,
          6045.3069190057795,
          6132.061134551521,
          6299.856566692166,
          6487.274164850494,
          6731.055336258309,
          6962.837231959129,
          7195.697903066641,
          7358.099050441242,
          7512.221027821932,
          7582.343181777114,
          8008.703610593826,
          8047.645376938237,
          8331.574160979504,
          8667.90403871769,
          8774.038565872428,
          8867.86966277742,
          9220.59500155681,
          9323.711160819475,
          9502.777778609638,
          9876.555892185124,
          10020.188614416998,
          10245.084583811016,
          10472.537042108814,
          10555.043932186838,
          10798.495102962224,
          11088.313662348846,
          11130.54027398119,
          11516.060291528283,
          11573.995471549064,
          11686.30715195193,
          11944.663530292612,
          12156.832621715463,
          12349.004580786574,
          12503.147505305371,
          12742.326914330672,
          13062.244570032371,
          13253.782025967243,
          13482.796268422839,
          13555.848962824772,
          13661.686922838353,
          14179.388137662869,
          14206.902261257068,
          14409.077357924505,
          14483.42935220813,
          14809.889319201016,
          14976.545518849603,
          15173.673423794256,
          15490.475251946418,
          15491.073979633808,
          15788.08904772458,
          15796.57586684527,
          16216.218415388035,
          16261.684891898489,
          16753.956902946127
         ],
         "yaxis": "y"
        }
       ],
       "layout": {
        "legend": {
         "tracegroupgap": 0
        },
        "margin": {
         "t": 60
        },
        "template": {
         "data": {
          "bar": [
           {
            "error_x": {
             "color": "#2a3f5f"
            },
            "error_y": {
             "color": "#2a3f5f"
            },
            "marker": {
             "line": {
              "color": "#E5ECF6",
              "width": 0.5
             },
             "pattern": {
              "fillmode": "overlay",
              "size": 10,
              "solidity": 0.2
             }
            },
            "type": "bar"
           }
          ],
          "barpolar": [
           {
            "marker": {
             "line": {
              "color": "#E5ECF6",
              "width": 0.5
             },
             "pattern": {
              "fillmode": "overlay",
              "size": 10,
              "solidity": 0.2
             }
            },
            "type": "barpolar"
           }
          ],
          "carpet": [
           {
            "aaxis": {
             "endlinecolor": "#2a3f5f",
             "gridcolor": "white",
             "linecolor": "white",
             "minorgridcolor": "white",
             "startlinecolor": "#2a3f5f"
            },
            "baxis": {
             "endlinecolor": "#2a3f5f",
             "gridcolor": "white",
             "linecolor": "white",
             "minorgridcolor": "white",
             "startlinecolor": "#2a3f5f"
            },
            "type": "carpet"
           }
          ],
          "choropleth": [
           {
            "colorbar": {
             "outlinewidth": 0,
             "ticks": ""
            },
            "type": "choropleth"
           }
          ],
          "contour": [
           {
            "colorbar": {
             "outlinewidth": 0,
             "ticks": ""
            },
            "colorscale": [
             [
              0,
              "#0d0887"
             ],
             [
              0.1111111111111111,
              "#46039f"
             ],
             [
              0.2222222222222222,
              "#7201a8"
             ],
             [
              0.3333333333333333,
              "#9c179e"
             ],
             [
              0.4444444444444444,
              "#bd3786"
             ],
             [
              0.5555555555555556,
              "#d8576b"
             ],
             [
              0.6666666666666666,
              "#ed7953"
             ],
             [
              0.7777777777777778,
              "#fb9f3a"
             ],
             [
              0.8888888888888888,
              "#fdca26"
             ],
             [
              1,
              "#f0f921"
             ]
            ],
            "type": "contour"
           }
          ],
          "contourcarpet": [
           {
            "colorbar": {
             "outlinewidth": 0,
             "ticks": ""
            },
            "type": "contourcarpet"
           }
          ],
          "heatmap": [
           {
            "colorbar": {
             "outlinewidth": 0,
             "ticks": ""
            },
            "colorscale": [
             [
              0,
              "#0d0887"
             ],
             [
              0.1111111111111111,
              "#46039f"
             ],
             [
              0.2222222222222222,
              "#7201a8"
             ],
             [
              0.3333333333333333,
              "#9c179e"
             ],
             [
              0.4444444444444444,
              "#bd3786"
             ],
             [
              0.5555555555555556,
              "#d8576b"
             ],
             [
              0.6666666666666666,
              "#ed7953"
             ],
             [
              0.7777777777777778,
              "#fb9f3a"
             ],
             [
              0.8888888888888888,
              "#fdca26"
             ],
             [
              1,
              "#f0f921"
             ]
            ],
            "type": "heatmap"
           }
          ],
          "heatmapgl": [
           {
            "colorbar": {
             "outlinewidth": 0,
             "ticks": ""
            },
            "colorscale": [
             [
              0,
              "#0d0887"
             ],
             [
              0.1111111111111111,
              "#46039f"
             ],
             [
              0.2222222222222222,
              "#7201a8"
             ],
             [
              0.3333333333333333,
              "#9c179e"
             ],
             [
              0.4444444444444444,
              "#bd3786"
             ],
             [
              0.5555555555555556,
              "#d8576b"
             ],
             [
              0.6666666666666666,
              "#ed7953"
             ],
             [
              0.7777777777777778,
              "#fb9f3a"
             ],
             [
              0.8888888888888888,
              "#fdca26"
             ],
             [
              1,
              "#f0f921"
             ]
            ],
            "type": "heatmapgl"
           }
          ],
          "histogram": [
           {
            "marker": {
             "pattern": {
              "fillmode": "overlay",
              "size": 10,
              "solidity": 0.2
             }
            },
            "type": "histogram"
           }
          ],
          "histogram2d": [
           {
            "colorbar": {
             "outlinewidth": 0,
             "ticks": ""
            },
            "colorscale": [
             [
              0,
              "#0d0887"
             ],
             [
              0.1111111111111111,
              "#46039f"
             ],
             [
              0.2222222222222222,
              "#7201a8"
             ],
             [
              0.3333333333333333,
              "#9c179e"
             ],
             [
              0.4444444444444444,
              "#bd3786"
             ],
             [
              0.5555555555555556,
              "#d8576b"
             ],
             [
              0.6666666666666666,
              "#ed7953"
             ],
             [
              0.7777777777777778,
              "#fb9f3a"
             ],
             [
              0.8888888888888888,
              "#fdca26"
             ],
             [
              1,
              "#f0f921"
             ]
            ],
            "type": "histogram2d"
           }
          ],
          "histogram2dcontour": [
           {
            "colorbar": {
             "outlinewidth": 0,
             "ticks": ""
            },
            "colorscale": [
             [
              0,
              "#0d0887"
             ],
             [
              0.1111111111111111,
              "#46039f"
             ],
             [
              0.2222222222222222,
              "#7201a8"
             ],
             [
              0.3333333333333333,
              "#9c179e"
             ],
             [
              0.4444444444444444,
              "#bd3786"
             ],
             [
              0.5555555555555556,
              "#d8576b"
             ],
             [
              0.6666666666666666,
              "#ed7953"
             ],
             [
              0.7777777777777778,
              "#fb9f3a"
             ],
             [
              0.8888888888888888,
              "#fdca26"
             ],
             [
              1,
              "#f0f921"
             ]
            ],
            "type": "histogram2dcontour"
           }
          ],
          "mesh3d": [
           {
            "colorbar": {
             "outlinewidth": 0,
             "ticks": ""
            },
            "type": "mesh3d"
           }
          ],
          "parcoords": [
           {
            "line": {
             "colorbar": {
              "outlinewidth": 0,
              "ticks": ""
             }
            },
            "type": "parcoords"
           }
          ],
          "pie": [
           {
            "automargin": true,
            "type": "pie"
           }
          ],
          "scatter": [
           {
            "fillpattern": {
             "fillmode": "overlay",
             "size": 10,
             "solidity": 0.2
            },
            "type": "scatter"
           }
          ],
          "scatter3d": [
           {
            "line": {
             "colorbar": {
              "outlinewidth": 0,
              "ticks": ""
             }
            },
            "marker": {
             "colorbar": {
              "outlinewidth": 0,
              "ticks": ""
             }
            },
            "type": "scatter3d"
           }
          ],
          "scattercarpet": [
           {
            "marker": {
             "colorbar": {
              "outlinewidth": 0,
              "ticks": ""
             }
            },
            "type": "scattercarpet"
           }
          ],
          "scattergeo": [
           {
            "marker": {
             "colorbar": {
              "outlinewidth": 0,
              "ticks": ""
             }
            },
            "type": "scattergeo"
           }
          ],
          "scattergl": [
           {
            "marker": {
             "colorbar": {
              "outlinewidth": 0,
              "ticks": ""
             }
            },
            "type": "scattergl"
           }
          ],
          "scattermapbox": [
           {
            "marker": {
             "colorbar": {
              "outlinewidth": 0,
              "ticks": ""
             }
            },
            "type": "scattermapbox"
           }
          ],
          "scatterpolar": [
           {
            "marker": {
             "colorbar": {
              "outlinewidth": 0,
              "ticks": ""
             }
            },
            "type": "scatterpolar"
           }
          ],
          "scatterpolargl": [
           {
            "marker": {
             "colorbar": {
              "outlinewidth": 0,
              "ticks": ""
             }
            },
            "type": "scatterpolargl"
           }
          ],
          "scatterternary": [
           {
            "marker": {
             "colorbar": {
              "outlinewidth": 0,
              "ticks": ""
             }
            },
            "type": "scatterternary"
           }
          ],
          "surface": [
           {
            "colorbar": {
             "outlinewidth": 0,
             "ticks": ""
            },
            "colorscale": [
             [
              0,
              "#0d0887"
             ],
             [
              0.1111111111111111,
              "#46039f"
             ],
             [
              0.2222222222222222,
              "#7201a8"
             ],
             [
              0.3333333333333333,
              "#9c179e"
             ],
             [
              0.4444444444444444,
              "#bd3786"
             ],
             [
              0.5555555555555556,
              "#d8576b"
             ],
             [
              0.6666666666666666,
              "#ed7953"
             ],
             [
              0.7777777777777778,
              "#fb9f3a"
             ],
             [
              0.8888888888888888,
              "#fdca26"
             ],
             [
              1,
              "#f0f921"
             ]
            ],
            "type": "surface"
           }
          ],
          "table": [
           {
            "cells": {
             "fill": {
              "color": "#EBF0F8"
             },
             "line": {
              "color": "white"
             }
            },
            "header": {
             "fill": {
              "color": "#C8D4E3"
             },
             "line": {
              "color": "white"
             }
            },
            "type": "table"
           }
          ]
         },
         "layout": {
          "annotationdefaults": {
           "arrowcolor": "#2a3f5f",
           "arrowhead": 0,
           "arrowwidth": 1
          },
          "autotypenumbers": "strict",
          "coloraxis": {
           "colorbar": {
            "outlinewidth": 0,
            "ticks": ""
           }
          },
          "colorscale": {
           "diverging": [
            [
             0,
             "#8e0152"
            ],
            [
             0.1,
             "#c51b7d"
            ],
            [
             0.2,
             "#de77ae"
            ],
            [
             0.3,
             "#f1b6da"
            ],
            [
             0.4,
             "#fde0ef"
            ],
            [
             0.5,
             "#f7f7f7"
            ],
            [
             0.6,
             "#e6f5d0"
            ],
            [
             0.7,
             "#b8e186"
            ],
            [
             0.8,
             "#7fbc41"
            ],
            [
             0.9,
             "#4d9221"
            ],
            [
             1,
             "#276419"
            ]
           ],
           "sequential": [
            [
             0,
             "#0d0887"
            ],
            [
             0.1111111111111111,
             "#46039f"
            ],
            [
             0.2222222222222222,
             "#7201a8"
            ],
            [
             0.3333333333333333,
             "#9c179e"
            ],
            [
             0.4444444444444444,
             "#bd3786"
            ],
            [
             0.5555555555555556,
             "#d8576b"
            ],
            [
             0.6666666666666666,
             "#ed7953"
            ],
            [
             0.7777777777777778,
             "#fb9f3a"
            ],
            [
             0.8888888888888888,
             "#fdca26"
            ],
            [
             1,
             "#f0f921"
            ]
           ],
           "sequentialminus": [
            [
             0,
             "#0d0887"
            ],
            [
             0.1111111111111111,
             "#46039f"
            ],
            [
             0.2222222222222222,
             "#7201a8"
            ],
            [
             0.3333333333333333,
             "#9c179e"
            ],
            [
             0.4444444444444444,
             "#bd3786"
            ],
            [
             0.5555555555555556,
             "#d8576b"
            ],
            [
             0.6666666666666666,
             "#ed7953"
            ],
            [
             0.7777777777777778,
             "#fb9f3a"
            ],
            [
             0.8888888888888888,
             "#fdca26"
            ],
            [
             1,
             "#f0f921"
            ]
           ]
          },
          "colorway": [
           "#636efa",
           "#EF553B",
           "#00cc96",
           "#ab63fa",
           "#FFA15A",
           "#19d3f3",
           "#FF6692",
           "#B6E880",
           "#FF97FF",
           "#FECB52"
          ],
          "font": {
           "color": "#2a3f5f"
          },
          "geo": {
           "bgcolor": "white",
           "lakecolor": "white",
           "landcolor": "#E5ECF6",
           "showlakes": true,
           "showland": true,
           "subunitcolor": "white"
          },
          "hoverlabel": {
           "align": "left"
          },
          "hovermode": "closest",
          "mapbox": {
           "style": "light"
          },
          "paper_bgcolor": "white",
          "plot_bgcolor": "#E5ECF6",
          "polar": {
           "angularaxis": {
            "gridcolor": "white",
            "linecolor": "white",
            "ticks": ""
           },
           "bgcolor": "#E5ECF6",
           "radialaxis": {
            "gridcolor": "white",
            "linecolor": "white",
            "ticks": ""
           }
          },
          "scene": {
           "xaxis": {
            "backgroundcolor": "#E5ECF6",
            "gridcolor": "white",
            "gridwidth": 2,
            "linecolor": "white",
            "showbackground": true,
            "ticks": "",
            "zerolinecolor": "white"
           },
           "yaxis": {
            "backgroundcolor": "#E5ECF6",
            "gridcolor": "white",
            "gridwidth": 2,
            "linecolor": "white",
            "showbackground": true,
            "ticks": "",
            "zerolinecolor": "white"
           },
           "zaxis": {
            "backgroundcolor": "#E5ECF6",
            "gridcolor": "white",
            "gridwidth": 2,
            "linecolor": "white",
            "showbackground": true,
            "ticks": "",
            "zerolinecolor": "white"
           }
          },
          "shapedefaults": {
           "line": {
            "color": "#2a3f5f"
           }
          },
          "ternary": {
           "aaxis": {
            "gridcolor": "white",
            "linecolor": "white",
            "ticks": ""
           },
           "baxis": {
            "gridcolor": "white",
            "linecolor": "white",
            "ticks": ""
           },
           "bgcolor": "#E5ECF6",
           "caxis": {
            "gridcolor": "white",
            "linecolor": "white",
            "ticks": ""
           }
          },
          "title": {
           "x": 0.05
          },
          "xaxis": {
           "automargin": true,
           "gridcolor": "white",
           "linecolor": "white",
           "ticks": "",
           "title": {
            "standoff": 15
           },
           "zerolinecolor": "white",
           "zerolinewidth": 2
          },
          "yaxis": {
           "automargin": true,
           "gridcolor": "white",
           "linecolor": "white",
           "ticks": "",
           "title": {
            "standoff": 15
           },
           "zerolinecolor": "white",
           "zerolinewidth": 2
          }
         }
        },
        "xaxis": {
         "anchor": "y",
         "domain": [
          0,
          1
         ],
         "title": {
          "text": "x"
         }
        },
        "yaxis": {
         "anchor": "x",
         "domain": [
          0,
          1
         ],
         "title": {
          "text": "y"
         }
        }
       }
      }
     },
     "metadata": {},
     "output_type": "display_data"
    }
   ],
   "source": [
    "# By setting a seed, we guarantee that we will see the same results each time we run this cell.\n",
    "np.random.seed(23)\n",
    "\n",
    "# Generates a random scatter plot\n",
    "x = np.arange(1, 101) + np.random.normal(0, 0.5, 100)\n",
    "y = 2 * ((x + np.random.normal(0, 1, 100)) ** 2) + np.abs(x) * np.random.normal(0, 30, 100)\n",
    "df_1 = pd.DataFrame().assign(x=x, y=y)\n",
    "\n",
    "px.scatter(df_1, x='x', y='y', trendline=\"ols\", trendline_color_override=\"red\")"
   ]
  },
  {
   "cell_type": "markdown",
   "id": "9c6a0355",
   "metadata": {},
   "source": [
    "It doesn't appear to be the case that `'x'` and `'y'` are linearly associated here, and they aren't – there is a **quadratic** relationship between them. Note that if we were to create a **residual plot** above, there would be a pattern – the residuals for smaller `'x'` would mostly be positive, and the residuals for larger `'x'` would mostly be negative. From [DSC 10](https://inferentialthinking.com/chapters/15/5/Visual_Diagnostics.html), we know that patterns in a residual plot imply that the relationship between the two variables is non-linear.\n",
    "\n",
    "To linearize the relationship, we can take the square root of each `'y'` value:"
   ]
  },
  {
   "cell_type": "code",
   "execution_count": 239,
   "id": "10a93ef2",
   "metadata": {},
   "outputs": [
    {
     "data": {
      "application/vnd.plotly.v1+json": {
       "config": {
        "plotlyServerURL": "https://plot.ly"
       },
       "data": [
        {
         "hovertemplate": "x=%{x}<br>root y=%{y}<extra></extra>",
         "legendgroup": "",
         "marker": {
          "color": "#636efa",
          "symbol": "circle"
         },
         "mode": "markers",
         "name": "",
         "orientation": "v",
         "showlegend": false,
         "type": "scatter",
         "x": [
          1.3334940281767342,
          2.012906540533137,
          2.611190293404091,
          4.474316911247471,
          5.350835897323757,
          5.474459218046441,
          6.816225941941417,
          7.431270154637486,
          8.33892623870457,
          10.886129139153715,
          10.826270504489068,
          12.335070081448576,
          13.161135760174652,
          14.030171467085244,
          14.478274999126636,
          15.495029061706077,
          17.220868186191105,
          18.5644384267234,
          18.080966116121026,
          19.530615684439937,
          20.89907973878431,
          22.52268563867706,
          23.26908098290725,
          24.406059334886127,
          25.120553150314763,
          25.523745234498506,
          26.931866621840683,
          28.633624104278088,
          29.08681682229509,
          29.38837261289643,
          31.707659990558877,
          32.22885548989133,
          33.36443792144573,
          34.98421736545491,
          34.72610599608749,
          35.66029086417425,
          35.74688484148996,
          38.07348024745351,
          39.30309774522677,
          39.9887305549735,
          41.00671112869007,
          42.46797244687282,
          43.21031133008538,
          44.205809820452664,
          44.96433803761893,
          45.97728121222439,
          47.52044298649494,
          47.95298263267223,
          48.789578023359766,
          49.72400571756281,
          50.939451226027174,
          52.095070679515,
          53.256068697373195,
          54.06576923333343,
          54.83419143789176,
          55.18380685969189,
          57.30955703637515,
          57.503713109716045,
          58.919326806597496,
          60.596202165340415,
          61.12536827598895,
          61.593191876264754,
          63.35181181506139,
          63.8659289304322,
          64.75872026067347,
          66.62230524012053,
          67.3384300585266,
          69.59375134328317,
          68.4597176226692,
          70.00511465072638,
          71.21891484021818,
          72.66389381148909,
          72.87442748457717,
          74.79655531358348,
          75.08540885355,
          75.64537304892008,
          76.93348770446904,
          77.99132153025484,
          78.94945354330945,
          79.71798018622445,
          80.9104822024308,
          82.50552941405732,
          83.460497917877,
          84.96654491707238,
          84.60231839055565,
          85.49423240163344,
          88.07538997279127,
          88.21257004190318,
          89.22057575353669,
          89.59128033656711,
          91.2189462398995,
          92.0498616389471,
          93.03270303426204,
          94.61221533571333,
          94.61520047551814,
          96.09605983956332,
          96.13837346912635,
          98.23062960130152,
          98.45731661056149,
          100.91168911732761
         ],
         "xaxis": "x",
         "y": [
          4.787562327886469,
          null,
          11.782571662899251,
          11.256011594838252,
          8.933211552202478,
          null,
          null,
          null,
          16.537647388174936,
          null,
          23.398263384980673,
          32.92197364544349,
          null,
          15.067758136144692,
          28.59435416666632,
          25.62386841617547,
          13.84181625030427,
          24.869370695274984,
          25.77374588630719,
          33.4922158432299,
          19.288238939715225,
          31.47602052842408,
          31.036067251374583,
          37.41874939454195,
          30.135222128413506,
          19.462264169679464,
          24.584248591943634,
          51.38436107732393,
          35.91825000582413,
          42.65583357526513,
          47.1599544864447,
          47.5074699914484,
          60.78499207390761,
          46.882159959175695,
          57.873357195545644,
          54.822138634027944,
          55.17918136230123,
          41.69601631049563,
          49.86207695594414,
          64.95545512483035,
          52.95180074869741,
          58.93163361694717,
          59.820868773605696,
          47.142696162807646,
          52.081890039508686,
          67.90257448751193,
          57.2310581669318,
          51.86659621982676,
          76.49299854109753,
          79.46133182522614,
          71.4072665863919,
          63.30867617422712,
          85.199094833386,
          81.2456213379318,
          57.56383271144407,
          68.5467046500885,
          64.13051714773621,
          54.54732944830219,
          95.9953904490095,
          99.29850468162357,
          59.12455693319307,
          93.08000308020708,
          88.67963070158666,
          90.31158785627285,
          99.0985016890248,
          102.32766641338632,
          92.98068575867914,
          92.18797740174966,
          102.29003727478694,
          114.98395875411039,
          82.18920136117185,
          91.32732740502502,
          100.41430767134308,
          98.10636038174925,
          100.33728727372815,
          112.61359163932343,
          113.67903682505185,
          107.85839366728248,
          112.21646189457888,
          102.58358702913736,
          122.46575017347128,
          110.6668023493953,
          102.73209520516471,
          112.68617671369306,
          118.72066756403679,
          133.68640177277422,
          124.75498432534003,
          118.46026567487024,
          147.19810473327,
          124.99538612876533,
          142.09290765581986,
          134.8976331448198,
          134.82641396099444,
          119.81744176745164,
          137.56114599059418,
          129.03755892424064,
          124.64642656121103,
          143.40029528726237,
          134.9280640625625,
          142.74087750723064
         ],
         "yaxis": "y"
        },
        {
         "hovertemplate": "<b>OLS trendline</b><br>root y = 1.38582 * x + 0.49141<br>R<sup>2</sup>=0.942240<br><br>x=%{x}<br>root y=%{y} <b>(trend)</b><extra></extra>",
         "legendgroup": "",
         "line": {
          "color": "red"
         },
         "marker": {
          "color": "#636efa",
          "symbol": "circle"
         },
         "mode": "lines",
         "name": "",
         "showlegend": false,
         "type": "scatter",
         "x": [
          1.3334940281767342,
          2.611190293404091,
          4.474316911247471,
          5.350835897323757,
          8.33892623870457,
          10.826270504489068,
          12.335070081448576,
          14.030171467085244,
          14.478274999126636,
          15.495029061706077,
          17.220868186191105,
          18.080966116121026,
          18.5644384267234,
          19.530615684439937,
          20.89907973878431,
          22.52268563867706,
          23.26908098290725,
          24.406059334886127,
          25.120553150314763,
          25.523745234498506,
          26.931866621840683,
          28.633624104278088,
          29.08681682229509,
          29.38837261289643,
          31.707659990558877,
          32.22885548989133,
          33.36443792144573,
          34.72610599608749,
          34.98421736545491,
          35.66029086417425,
          35.74688484148996,
          38.07348024745351,
          39.30309774522677,
          39.9887305549735,
          41.00671112869007,
          42.46797244687282,
          43.21031133008538,
          44.205809820452664,
          44.96433803761893,
          45.97728121222439,
          47.52044298649494,
          47.95298263267223,
          48.789578023359766,
          49.72400571756281,
          50.939451226027174,
          52.095070679515,
          53.256068697373195,
          54.06576923333343,
          54.83419143789176,
          55.18380685969189,
          57.30955703637515,
          57.503713109716045,
          58.919326806597496,
          60.596202165340415,
          61.12536827598895,
          61.593191876264754,
          63.35181181506139,
          63.8659289304322,
          64.75872026067347,
          66.62230524012053,
          67.3384300585266,
          68.4597176226692,
          69.59375134328317,
          70.00511465072638,
          71.21891484021818,
          72.66389381148909,
          72.87442748457717,
          74.79655531358348,
          75.08540885355,
          75.64537304892008,
          76.93348770446904,
          77.99132153025484,
          78.94945354330945,
          79.71798018622445,
          80.9104822024308,
          82.50552941405732,
          83.460497917877,
          84.60231839055565,
          84.96654491707238,
          85.49423240163344,
          88.07538997279127,
          88.21257004190318,
          89.22057575353669,
          89.59128033656711,
          91.2189462398995,
          92.0498616389471,
          93.03270303426204,
          94.61221533571333,
          94.61520047551814,
          96.09605983956332,
          96.13837346912635,
          98.23062960130152,
          98.45731661056149,
          100.91168911732761
         ],
         "xaxis": "x",
         "y": [
          2.339388997935067,
          4.110042709603733,
          6.691995988308861,
          7.9066912474891495,
          12.047638824592504,
          15.494643778954954,
          17.58556448038792,
          19.934665469266665,
          20.555655139358365,
          21.96469060714235,
          24.356388489243187,
          25.548327163148564,
          26.218331501859524,
          27.55727675361012,
          29.453718046470005,
          31.703739347440695,
          32.738107000067615,
          34.313751379571286,
          35.303909338613224,
          35.86265994296623,
          37.81405905778934,
          40.17238418140668,
          40.8004265339569,
          41.218327794557695,
          44.432436589775584,
          45.15471837967641,
          46.72842826837185,
          48.615451574334266,
          48.973146800212525,
          49.91006121598348,
          50.03006465617114,
          53.254301044142096,
          54.95832636347536,
          55.90848823876568,
          57.31922342702038,
          59.344264782445904,
          60.373010920826765,
          61.75259004686868,
          62.80377164587873,
          64.20752591881265,
          66.34606635105781,
          66.94548731736344,
          68.10485576352713,
          69.39980191783259,
          71.08418744783997,
          72.68566499010282,
          74.2945962404378,
          75.41669332904671,
          76.48158618790445,
          76.96608932148516,
          79.91199089673533,
          80.18105576078806,
          82.14283784850991,
          84.46668089225203,
          85.20000849397462,
          85.84832657768379,
          88.28545268252584,
          88.99792512479421,
          90.23517088159856,
          92.81775936578791,
          93.81017759712955,
          95.36407740988648,
          96.93564106801868,
          97.50571549571454,
          99.1878209140671,
          101.19029790988796,
          101.48205913658163,
          104.14577732012508,
          104.5460755808227,
          105.32208370412825,
          107.1071754023471,
          108.57313992062247,
          109.90093593236227,
          110.96597352371154,
          112.61856356301358,
          114.82900773696653,
          116.15241970257489,
          117.73477437717978,
          118.23952583385739,
          118.97080432982519,
          122.54781739478787,
          122.73792392100265,
          124.13483577185595,
          124.64856463194508,
          126.90421235631186,
          128.05570937124952,
          129.41774807478,
          131.6066636999606,
          131.61080055863277,
          133.66300122694994,
          133.72164019090323,
          136.62112513659827,
          136.93527193756887,
          140.3365840546937
         ],
         "yaxis": "y"
        }
       ],
       "layout": {
        "legend": {
         "tracegroupgap": 0
        },
        "margin": {
         "t": 60
        },
        "template": {
         "data": {
          "bar": [
           {
            "error_x": {
             "color": "#2a3f5f"
            },
            "error_y": {
             "color": "#2a3f5f"
            },
            "marker": {
             "line": {
              "color": "#E5ECF6",
              "width": 0.5
             },
             "pattern": {
              "fillmode": "overlay",
              "size": 10,
              "solidity": 0.2
             }
            },
            "type": "bar"
           }
          ],
          "barpolar": [
           {
            "marker": {
             "line": {
              "color": "#E5ECF6",
              "width": 0.5
             },
             "pattern": {
              "fillmode": "overlay",
              "size": 10,
              "solidity": 0.2
             }
            },
            "type": "barpolar"
           }
          ],
          "carpet": [
           {
            "aaxis": {
             "endlinecolor": "#2a3f5f",
             "gridcolor": "white",
             "linecolor": "white",
             "minorgridcolor": "white",
             "startlinecolor": "#2a3f5f"
            },
            "baxis": {
             "endlinecolor": "#2a3f5f",
             "gridcolor": "white",
             "linecolor": "white",
             "minorgridcolor": "white",
             "startlinecolor": "#2a3f5f"
            },
            "type": "carpet"
           }
          ],
          "choropleth": [
           {
            "colorbar": {
             "outlinewidth": 0,
             "ticks": ""
            },
            "type": "choropleth"
           }
          ],
          "contour": [
           {
            "colorbar": {
             "outlinewidth": 0,
             "ticks": ""
            },
            "colorscale": [
             [
              0,
              "#0d0887"
             ],
             [
              0.1111111111111111,
              "#46039f"
             ],
             [
              0.2222222222222222,
              "#7201a8"
             ],
             [
              0.3333333333333333,
              "#9c179e"
             ],
             [
              0.4444444444444444,
              "#bd3786"
             ],
             [
              0.5555555555555556,
              "#d8576b"
             ],
             [
              0.6666666666666666,
              "#ed7953"
             ],
             [
              0.7777777777777778,
              "#fb9f3a"
             ],
             [
              0.8888888888888888,
              "#fdca26"
             ],
             [
              1,
              "#f0f921"
             ]
            ],
            "type": "contour"
           }
          ],
          "contourcarpet": [
           {
            "colorbar": {
             "outlinewidth": 0,
             "ticks": ""
            },
            "type": "contourcarpet"
           }
          ],
          "heatmap": [
           {
            "colorbar": {
             "outlinewidth": 0,
             "ticks": ""
            },
            "colorscale": [
             [
              0,
              "#0d0887"
             ],
             [
              0.1111111111111111,
              "#46039f"
             ],
             [
              0.2222222222222222,
              "#7201a8"
             ],
             [
              0.3333333333333333,
              "#9c179e"
             ],
             [
              0.4444444444444444,
              "#bd3786"
             ],
             [
              0.5555555555555556,
              "#d8576b"
             ],
             [
              0.6666666666666666,
              "#ed7953"
             ],
             [
              0.7777777777777778,
              "#fb9f3a"
             ],
             [
              0.8888888888888888,
              "#fdca26"
             ],
             [
              1,
              "#f0f921"
             ]
            ],
            "type": "heatmap"
           }
          ],
          "heatmapgl": [
           {
            "colorbar": {
             "outlinewidth": 0,
             "ticks": ""
            },
            "colorscale": [
             [
              0,
              "#0d0887"
             ],
             [
              0.1111111111111111,
              "#46039f"
             ],
             [
              0.2222222222222222,
              "#7201a8"
             ],
             [
              0.3333333333333333,
              "#9c179e"
             ],
             [
              0.4444444444444444,
              "#bd3786"
             ],
             [
              0.5555555555555556,
              "#d8576b"
             ],
             [
              0.6666666666666666,
              "#ed7953"
             ],
             [
              0.7777777777777778,
              "#fb9f3a"
             ],
             [
              0.8888888888888888,
              "#fdca26"
             ],
             [
              1,
              "#f0f921"
             ]
            ],
            "type": "heatmapgl"
           }
          ],
          "histogram": [
           {
            "marker": {
             "pattern": {
              "fillmode": "overlay",
              "size": 10,
              "solidity": 0.2
             }
            },
            "type": "histogram"
           }
          ],
          "histogram2d": [
           {
            "colorbar": {
             "outlinewidth": 0,
             "ticks": ""
            },
            "colorscale": [
             [
              0,
              "#0d0887"
             ],
             [
              0.1111111111111111,
              "#46039f"
             ],
             [
              0.2222222222222222,
              "#7201a8"
             ],
             [
              0.3333333333333333,
              "#9c179e"
             ],
             [
              0.4444444444444444,
              "#bd3786"
             ],
             [
              0.5555555555555556,
              "#d8576b"
             ],
             [
              0.6666666666666666,
              "#ed7953"
             ],
             [
              0.7777777777777778,
              "#fb9f3a"
             ],
             [
              0.8888888888888888,
              "#fdca26"
             ],
             [
              1,
              "#f0f921"
             ]
            ],
            "type": "histogram2d"
           }
          ],
          "histogram2dcontour": [
           {
            "colorbar": {
             "outlinewidth": 0,
             "ticks": ""
            },
            "colorscale": [
             [
              0,
              "#0d0887"
             ],
             [
              0.1111111111111111,
              "#46039f"
             ],
             [
              0.2222222222222222,
              "#7201a8"
             ],
             [
              0.3333333333333333,
              "#9c179e"
             ],
             [
              0.4444444444444444,
              "#bd3786"
             ],
             [
              0.5555555555555556,
              "#d8576b"
             ],
             [
              0.6666666666666666,
              "#ed7953"
             ],
             [
              0.7777777777777778,
              "#fb9f3a"
             ],
             [
              0.8888888888888888,
              "#fdca26"
             ],
             [
              1,
              "#f0f921"
             ]
            ],
            "type": "histogram2dcontour"
           }
          ],
          "mesh3d": [
           {
            "colorbar": {
             "outlinewidth": 0,
             "ticks": ""
            },
            "type": "mesh3d"
           }
          ],
          "parcoords": [
           {
            "line": {
             "colorbar": {
              "outlinewidth": 0,
              "ticks": ""
             }
            },
            "type": "parcoords"
           }
          ],
          "pie": [
           {
            "automargin": true,
            "type": "pie"
           }
          ],
          "scatter": [
           {
            "fillpattern": {
             "fillmode": "overlay",
             "size": 10,
             "solidity": 0.2
            },
            "type": "scatter"
           }
          ],
          "scatter3d": [
           {
            "line": {
             "colorbar": {
              "outlinewidth": 0,
              "ticks": ""
             }
            },
            "marker": {
             "colorbar": {
              "outlinewidth": 0,
              "ticks": ""
             }
            },
            "type": "scatter3d"
           }
          ],
          "scattercarpet": [
           {
            "marker": {
             "colorbar": {
              "outlinewidth": 0,
              "ticks": ""
             }
            },
            "type": "scattercarpet"
           }
          ],
          "scattergeo": [
           {
            "marker": {
             "colorbar": {
              "outlinewidth": 0,
              "ticks": ""
             }
            },
            "type": "scattergeo"
           }
          ],
          "scattergl": [
           {
            "marker": {
             "colorbar": {
              "outlinewidth": 0,
              "ticks": ""
             }
            },
            "type": "scattergl"
           }
          ],
          "scattermapbox": [
           {
            "marker": {
             "colorbar": {
              "outlinewidth": 0,
              "ticks": ""
             }
            },
            "type": "scattermapbox"
           }
          ],
          "scatterpolar": [
           {
            "marker": {
             "colorbar": {
              "outlinewidth": 0,
              "ticks": ""
             }
            },
            "type": "scatterpolar"
           }
          ],
          "scatterpolargl": [
           {
            "marker": {
             "colorbar": {
              "outlinewidth": 0,
              "ticks": ""
             }
            },
            "type": "scatterpolargl"
           }
          ],
          "scatterternary": [
           {
            "marker": {
             "colorbar": {
              "outlinewidth": 0,
              "ticks": ""
             }
            },
            "type": "scatterternary"
           }
          ],
          "surface": [
           {
            "colorbar": {
             "outlinewidth": 0,
             "ticks": ""
            },
            "colorscale": [
             [
              0,
              "#0d0887"
             ],
             [
              0.1111111111111111,
              "#46039f"
             ],
             [
              0.2222222222222222,
              "#7201a8"
             ],
             [
              0.3333333333333333,
              "#9c179e"
             ],
             [
              0.4444444444444444,
              "#bd3786"
             ],
             [
              0.5555555555555556,
              "#d8576b"
             ],
             [
              0.6666666666666666,
              "#ed7953"
             ],
             [
              0.7777777777777778,
              "#fb9f3a"
             ],
             [
              0.8888888888888888,
              "#fdca26"
             ],
             [
              1,
              "#f0f921"
             ]
            ],
            "type": "surface"
           }
          ],
          "table": [
           {
            "cells": {
             "fill": {
              "color": "#EBF0F8"
             },
             "line": {
              "color": "white"
             }
            },
            "header": {
             "fill": {
              "color": "#C8D4E3"
             },
             "line": {
              "color": "white"
             }
            },
            "type": "table"
           }
          ]
         },
         "layout": {
          "annotationdefaults": {
           "arrowcolor": "#2a3f5f",
           "arrowhead": 0,
           "arrowwidth": 1
          },
          "autotypenumbers": "strict",
          "coloraxis": {
           "colorbar": {
            "outlinewidth": 0,
            "ticks": ""
           }
          },
          "colorscale": {
           "diverging": [
            [
             0,
             "#8e0152"
            ],
            [
             0.1,
             "#c51b7d"
            ],
            [
             0.2,
             "#de77ae"
            ],
            [
             0.3,
             "#f1b6da"
            ],
            [
             0.4,
             "#fde0ef"
            ],
            [
             0.5,
             "#f7f7f7"
            ],
            [
             0.6,
             "#e6f5d0"
            ],
            [
             0.7,
             "#b8e186"
            ],
            [
             0.8,
             "#7fbc41"
            ],
            [
             0.9,
             "#4d9221"
            ],
            [
             1,
             "#276419"
            ]
           ],
           "sequential": [
            [
             0,
             "#0d0887"
            ],
            [
             0.1111111111111111,
             "#46039f"
            ],
            [
             0.2222222222222222,
             "#7201a8"
            ],
            [
             0.3333333333333333,
             "#9c179e"
            ],
            [
             0.4444444444444444,
             "#bd3786"
            ],
            [
             0.5555555555555556,
             "#d8576b"
            ],
            [
             0.6666666666666666,
             "#ed7953"
            ],
            [
             0.7777777777777778,
             "#fb9f3a"
            ],
            [
             0.8888888888888888,
             "#fdca26"
            ],
            [
             1,
             "#f0f921"
            ]
           ],
           "sequentialminus": [
            [
             0,
             "#0d0887"
            ],
            [
             0.1111111111111111,
             "#46039f"
            ],
            [
             0.2222222222222222,
             "#7201a8"
            ],
            [
             0.3333333333333333,
             "#9c179e"
            ],
            [
             0.4444444444444444,
             "#bd3786"
            ],
            [
             0.5555555555555556,
             "#d8576b"
            ],
            [
             0.6666666666666666,
             "#ed7953"
            ],
            [
             0.7777777777777778,
             "#fb9f3a"
            ],
            [
             0.8888888888888888,
             "#fdca26"
            ],
            [
             1,
             "#f0f921"
            ]
           ]
          },
          "colorway": [
           "#636efa",
           "#EF553B",
           "#00cc96",
           "#ab63fa",
           "#FFA15A",
           "#19d3f3",
           "#FF6692",
           "#B6E880",
           "#FF97FF",
           "#FECB52"
          ],
          "font": {
           "color": "#2a3f5f"
          },
          "geo": {
           "bgcolor": "white",
           "lakecolor": "white",
           "landcolor": "#E5ECF6",
           "showlakes": true,
           "showland": true,
           "subunitcolor": "white"
          },
          "hoverlabel": {
           "align": "left"
          },
          "hovermode": "closest",
          "mapbox": {
           "style": "light"
          },
          "paper_bgcolor": "white",
          "plot_bgcolor": "#E5ECF6",
          "polar": {
           "angularaxis": {
            "gridcolor": "white",
            "linecolor": "white",
            "ticks": ""
           },
           "bgcolor": "#E5ECF6",
           "radialaxis": {
            "gridcolor": "white",
            "linecolor": "white",
            "ticks": ""
           }
          },
          "scene": {
           "xaxis": {
            "backgroundcolor": "#E5ECF6",
            "gridcolor": "white",
            "gridwidth": 2,
            "linecolor": "white",
            "showbackground": true,
            "ticks": "",
            "zerolinecolor": "white"
           },
           "yaxis": {
            "backgroundcolor": "#E5ECF6",
            "gridcolor": "white",
            "gridwidth": 2,
            "linecolor": "white",
            "showbackground": true,
            "ticks": "",
            "zerolinecolor": "white"
           },
           "zaxis": {
            "backgroundcolor": "#E5ECF6",
            "gridcolor": "white",
            "gridwidth": 2,
            "linecolor": "white",
            "showbackground": true,
            "ticks": "",
            "zerolinecolor": "white"
           }
          },
          "shapedefaults": {
           "line": {
            "color": "#2a3f5f"
           }
          },
          "ternary": {
           "aaxis": {
            "gridcolor": "white",
            "linecolor": "white",
            "ticks": ""
           },
           "baxis": {
            "gridcolor": "white",
            "linecolor": "white",
            "ticks": ""
           },
           "bgcolor": "#E5ECF6",
           "caxis": {
            "gridcolor": "white",
            "linecolor": "white",
            "ticks": ""
           }
          },
          "title": {
           "x": 0.05
          },
          "xaxis": {
           "automargin": true,
           "gridcolor": "white",
           "linecolor": "white",
           "ticks": "",
           "title": {
            "standoff": 15
           },
           "zerolinecolor": "white",
           "zerolinewidth": 2
          },
          "yaxis": {
           "automargin": true,
           "gridcolor": "white",
           "linecolor": "white",
           "ticks": "",
           "title": {
            "standoff": 15
           },
           "zerolinecolor": "white",
           "zerolinewidth": 2
          }
         }
        },
        "xaxis": {
         "anchor": "y",
         "domain": [
          0,
          1
         ],
         "title": {
          "text": "x"
         }
        },
        "yaxis": {
         "anchor": "x",
         "domain": [
          0,
          1
         ],
         "title": {
          "text": "root y"
         }
        }
       }
      }
     },
     "metadata": {},
     "output_type": "display_data"
    }
   ],
   "source": [
    "df_1['root y'] = np.sqrt(df_1['y'])\n",
    "\n",
    "px.scatter(df_1, x='x', y='root y', trendline=\"ols\", trendline_color_override=\"red\")"
   ]
  },
  {
   "cell_type": "markdown",
   "id": "889e0ee6",
   "metadata": {},
   "source": [
    "That looks much better!"
   ]
  },
  {
   "cell_type": "markdown",
   "id": "6f6a77fd",
   "metadata": {},
   "source": [
    "#### Example 2\n",
    "\n",
    "Run the cell below to generate another scatter plot."
   ]
  },
  {
   "cell_type": "code",
   "execution_count": 240,
   "id": "3a047b13",
   "metadata": {},
   "outputs": [
    {
     "data": {
      "application/vnd.plotly.v1+json": {
       "config": {
        "plotlyServerURL": "https://plot.ly"
       },
       "data": [
        {
         "hovertemplate": "x=%{x}<br>y=%{y}<extra></extra>",
         "legendgroup": "",
         "marker": {
          "color": "#636efa",
          "symbol": "circle"
         },
         "mode": "markers",
         "name": "",
         "orientation": "v",
         "showlegend": false,
         "type": "scatter",
         "x": [
          2,
          2.0303030303030303,
          2.0606060606060606,
          2.090909090909091,
          2.121212121212121,
          2.1515151515151514,
          2.1818181818181817,
          2.212121212121212,
          2.242424242424242,
          2.2727272727272725,
          2.303030303030303,
          2.3333333333333335,
          2.3636363636363638,
          2.393939393939394,
          2.4242424242424243,
          2.4545454545454546,
          2.484848484848485,
          2.515151515151515,
          2.5454545454545454,
          2.5757575757575757,
          2.606060606060606,
          2.6363636363636362,
          2.666666666666667,
          2.6969696969696972,
          2.7272727272727275,
          2.757575757575758,
          2.787878787878788,
          2.8181818181818183,
          2.8484848484848486,
          2.878787878787879,
          2.909090909090909,
          2.9393939393939394,
          2.9696969696969697,
          3,
          3.0303030303030303,
          3.0606060606060606,
          3.090909090909091,
          3.121212121212121,
          3.1515151515151514,
          3.1818181818181817,
          3.212121212121212,
          3.242424242424242,
          3.2727272727272725,
          3.3030303030303028,
          3.3333333333333335,
          3.3636363636363638,
          3.393939393939394,
          3.4242424242424243,
          3.4545454545454546,
          3.484848484848485,
          3.515151515151515,
          3.5454545454545454,
          3.5757575757575757,
          3.6060606060606064,
          3.6363636363636367,
          3.666666666666667,
          3.6969696969696972,
          3.7272727272727275,
          3.757575757575758,
          3.787878787878788,
          3.8181818181818183,
          3.8484848484848486,
          3.878787878787879,
          3.909090909090909,
          3.9393939393939394,
          3.9696969696969697,
          4,
          4.03030303030303,
          4.0606060606060606,
          4.090909090909091,
          4.121212121212121,
          4.151515151515151,
          4.181818181818182,
          4.212121212121213,
          4.242424242424242,
          4.272727272727273,
          4.303030303030303,
          4.333333333333334,
          4.363636363636363,
          4.3939393939393945,
          4.424242424242424,
          4.454545454545455,
          4.484848484848484,
          4.515151515151516,
          4.545454545454545,
          4.575757575757576,
          4.6060606060606055,
          4.636363636363637,
          4.666666666666667,
          4.696969696969697,
          4.7272727272727275,
          4.757575757575758,
          4.787878787878788,
          4.818181818181818,
          4.848484848484849,
          4.878787878787879,
          4.909090909090909,
          4.9393939393939394,
          4.96969696969697,
          5
         ],
         "xaxis": "x",
         "y": [
          26.208763493567176,
          61.925982380222194,
          53.50984989711234,
          107.24282107554222,
          67.80720271102038,
          120.20400821162806,
          155.71489372002614,
          113.18271717510773,
          82.81211638478487,
          54.43856322223938,
          152.2746595710632,
          125.5471413190048,
          145.46415194418287,
          117.63097776553522,
          96.66291649011706,
          129.4259725342059,
          99.4479763419966,
          184.14720957528434,
          108.84458474509671,
          141.31213770267246,
          142.16320095534817,
          121.86946266129598,
          188.5524937959253,
          86.65949453110437,
          165.12613129653948,
          194.12977205755197,
          144.54230701224208,
          141.36623265694755,
          229.38135262136976,
          183.24187921288205,
          123.04297789531425,
          259.43276247820575,
          288.2813153852144,
          158.1669669776928,
          239.63529912947683,
          200.8374995492895,
          204.55634051336975,
          160.86284647112248,
          268.40264848134404,
          275.48010396241943,
          245.78645639306538,
          224.1601461173096,
          251.54644999768362,
          261.25074586555576,
          268.22747143867576,
          327.4025613573661,
          246.08494669855742,
          339.2889068194531,
          353.80094019143604,
          329.0119957205983,
          368.7103000816962,
          331.47302713175446,
          383.454292545306,
          351.8472059388524,
          329.4846121315459,
          424.65163163667114,
          466.9670248137561,
          432.3066205889843,
          431.0767983105392,
          382.03972699264,
          396.43233049278604,
          443.03177434706856,
          532.5134485228731,
          467.0436459747958,
          541.0742761595185,
          539.0485330172553,
          577.3317983642002,
          558.559515958953,
          606.9197292585355,
          637.9626151820737,
          608.9481586986306,
          609.5096655594825,
          604.7044307344363,
          643.1008532427225,
          674.220989325344,
          687.3902533733154,
          724.154933058414,
          808.3286043528386,
          828.0445554360854,
          810.86276426455,
          856.9981001464332,
          915.3116389123522,
          911.2415986956338,
          921.2551136032771,
          984.9680784915498,
          1002.6761507320138,
          1059.3876906728551,
          984.7502588016507,
          1066.3541077327798,
          1086.888938050981,
          1148.323074604285,
          1235.280666833249,
          1220.1200202712403,
          1248.9550726976313,
          1218.2325134117068,
          1279.926537667901,
          1393.8660180970792,
          1409.1005082461468,
          1442.8440418439284,
          1451.8131678415164
         ],
         "yaxis": "y"
        },
        {
         "hovertemplate": "<b>OLS trendline</b><br>y = 414.144 * x + -971.449<br>R<sup>2</sup>=0.866068<br><br>x=%{x}<br>y=%{y} <b>(trend)</b><extra></extra>",
         "legendgroup": "",
         "line": {
          "color": "red"
         },
         "marker": {
          "color": "#636efa",
          "symbol": "circle"
         },
         "mode": "lines",
         "name": "",
         "showlegend": false,
         "type": "scatter",
         "x": [
          2,
          2.0303030303030303,
          2.0606060606060606,
          2.090909090909091,
          2.121212121212121,
          2.1515151515151514,
          2.1818181818181817,
          2.212121212121212,
          2.242424242424242,
          2.2727272727272725,
          2.303030303030303,
          2.3333333333333335,
          2.3636363636363638,
          2.393939393939394,
          2.4242424242424243,
          2.4545454545454546,
          2.484848484848485,
          2.515151515151515,
          2.5454545454545454,
          2.5757575757575757,
          2.606060606060606,
          2.6363636363636362,
          2.666666666666667,
          2.6969696969696972,
          2.7272727272727275,
          2.757575757575758,
          2.787878787878788,
          2.8181818181818183,
          2.8484848484848486,
          2.878787878787879,
          2.909090909090909,
          2.9393939393939394,
          2.9696969696969697,
          3,
          3.0303030303030303,
          3.0606060606060606,
          3.090909090909091,
          3.121212121212121,
          3.1515151515151514,
          3.1818181818181817,
          3.212121212121212,
          3.242424242424242,
          3.2727272727272725,
          3.3030303030303028,
          3.3333333333333335,
          3.3636363636363638,
          3.393939393939394,
          3.4242424242424243,
          3.4545454545454546,
          3.484848484848485,
          3.515151515151515,
          3.5454545454545454,
          3.5757575757575757,
          3.6060606060606064,
          3.6363636363636367,
          3.666666666666667,
          3.6969696969696972,
          3.7272727272727275,
          3.757575757575758,
          3.787878787878788,
          3.8181818181818183,
          3.8484848484848486,
          3.878787878787879,
          3.909090909090909,
          3.9393939393939394,
          3.9696969696969697,
          4,
          4.03030303030303,
          4.0606060606060606,
          4.090909090909091,
          4.121212121212121,
          4.151515151515151,
          4.181818181818182,
          4.212121212121213,
          4.242424242424242,
          4.272727272727273,
          4.303030303030303,
          4.333333333333334,
          4.363636363636363,
          4.3939393939393945,
          4.424242424242424,
          4.454545454545455,
          4.484848484848484,
          4.515151515151516,
          4.545454545454545,
          4.575757575757576,
          4.6060606060606055,
          4.636363636363637,
          4.666666666666667,
          4.696969696969697,
          4.7272727272727275,
          4.757575757575758,
          4.787878787878788,
          4.818181818181818,
          4.848484848484849,
          4.878787878787879,
          4.909090909090909,
          4.9393939393939394,
          4.96969696969697,
          5
         ],
         "xaxis": "x",
         "y": [
          -143.1606213978498,
          -130.61079394186208,
          -118.06096648587425,
          -105.51113902988652,
          -92.96131157389868,
          -80.41148411791096,
          -67.86165666192312,
          -55.311829205935396,
          -42.76200174994756,
          -30.212174293959833,
          -17.66234683797188,
          -5.112519381984043,
          7.437308074003681,
          19.987135529991406,
          32.536962985979244,
          45.08679044196697,
          57.63661789795469,
          70.18644535394264,
          82.73627280993037,
          95.2861002659181,
          107.83592772190582,
          120.38575517789377,
          132.93558263388172,
          145.48541008986945,
          158.03523754585717,
          170.5850650018449,
          183.13489245783262,
          195.68471991382057,
          208.2345473698083,
          220.78437482579602,
          233.33420228178375,
          245.8840297377717,
          258.4338571937594,
          270.98368464974715,
          283.53351210573487,
          296.0833395617226,
          308.63316701771055,
          321.1829944736983,
          333.732821929686,
          346.2826493856737,
          358.8324768416617,
          371.3823042976494,
          383.9321317536371,
          396.48195920962485,
          409.0317866656128,
          421.5816141216005,
          434.1314415775885,
          446.6812690335762,
          459.2310964895639,
          471.78092394555165,
          484.3307514015396,
          496.8805788575273,
          509.43040631351505,
          521.980233769503,
          534.5300612254907,
          547.0798886814787,
          559.6297161374664,
          572.1795435934541,
          584.7293710494419,
          597.2791985054296,
          609.8290259614175,
          622.3788534174053,
          634.928680873393,
          647.4785083293807,
          660.0283357853687,
          672.5781632413564,
          685.1279906973441,
          697.6778181533318,
          710.2276456093196,
          722.7774730653075,
          735.3273005212952,
          747.877127977283,
          760.4269554332707,
          772.9767828892589,
          785.5266103452464,
          798.0764378012345,
          810.6262652572218,
          823.17609271321,
          835.7259201691975,
          848.2757476251857,
          860.8255750811729,
          873.3754025371611,
          885.9252299931486,
          898.4750574491366,
          911.024884905124,
          923.5747123611122,
          936.1245398170995,
          948.6743672730877,
          961.2241947290756,
          973.7740221850634,
          986.3238496410511,
          998.8736770970388,
          1011.4235045530265,
          1023.9733320090145,
          1036.5231594650022,
          1049.07298692099,
          1061.6228143769777,
          1074.1726418329656,
          1086.722469288953,
          1099.2722967449408
         ],
         "yaxis": "y"
        }
       ],
       "layout": {
        "legend": {
         "tracegroupgap": 0
        },
        "margin": {
         "t": 60
        },
        "template": {
         "data": {
          "bar": [
           {
            "error_x": {
             "color": "#2a3f5f"
            },
            "error_y": {
             "color": "#2a3f5f"
            },
            "marker": {
             "line": {
              "color": "#E5ECF6",
              "width": 0.5
             },
             "pattern": {
              "fillmode": "overlay",
              "size": 10,
              "solidity": 0.2
             }
            },
            "type": "bar"
           }
          ],
          "barpolar": [
           {
            "marker": {
             "line": {
              "color": "#E5ECF6",
              "width": 0.5
             },
             "pattern": {
              "fillmode": "overlay",
              "size": 10,
              "solidity": 0.2
             }
            },
            "type": "barpolar"
           }
          ],
          "carpet": [
           {
            "aaxis": {
             "endlinecolor": "#2a3f5f",
             "gridcolor": "white",
             "linecolor": "white",
             "minorgridcolor": "white",
             "startlinecolor": "#2a3f5f"
            },
            "baxis": {
             "endlinecolor": "#2a3f5f",
             "gridcolor": "white",
             "linecolor": "white",
             "minorgridcolor": "white",
             "startlinecolor": "#2a3f5f"
            },
            "type": "carpet"
           }
          ],
          "choropleth": [
           {
            "colorbar": {
             "outlinewidth": 0,
             "ticks": ""
            },
            "type": "choropleth"
           }
          ],
          "contour": [
           {
            "colorbar": {
             "outlinewidth": 0,
             "ticks": ""
            },
            "colorscale": [
             [
              0,
              "#0d0887"
             ],
             [
              0.1111111111111111,
              "#46039f"
             ],
             [
              0.2222222222222222,
              "#7201a8"
             ],
             [
              0.3333333333333333,
              "#9c179e"
             ],
             [
              0.4444444444444444,
              "#bd3786"
             ],
             [
              0.5555555555555556,
              "#d8576b"
             ],
             [
              0.6666666666666666,
              "#ed7953"
             ],
             [
              0.7777777777777778,
              "#fb9f3a"
             ],
             [
              0.8888888888888888,
              "#fdca26"
             ],
             [
              1,
              "#f0f921"
             ]
            ],
            "type": "contour"
           }
          ],
          "contourcarpet": [
           {
            "colorbar": {
             "outlinewidth": 0,
             "ticks": ""
            },
            "type": "contourcarpet"
           }
          ],
          "heatmap": [
           {
            "colorbar": {
             "outlinewidth": 0,
             "ticks": ""
            },
            "colorscale": [
             [
              0,
              "#0d0887"
             ],
             [
              0.1111111111111111,
              "#46039f"
             ],
             [
              0.2222222222222222,
              "#7201a8"
             ],
             [
              0.3333333333333333,
              "#9c179e"
             ],
             [
              0.4444444444444444,
              "#bd3786"
             ],
             [
              0.5555555555555556,
              "#d8576b"
             ],
             [
              0.6666666666666666,
              "#ed7953"
             ],
             [
              0.7777777777777778,
              "#fb9f3a"
             ],
             [
              0.8888888888888888,
              "#fdca26"
             ],
             [
              1,
              "#f0f921"
             ]
            ],
            "type": "heatmap"
           }
          ],
          "heatmapgl": [
           {
            "colorbar": {
             "outlinewidth": 0,
             "ticks": ""
            },
            "colorscale": [
             [
              0,
              "#0d0887"
             ],
             [
              0.1111111111111111,
              "#46039f"
             ],
             [
              0.2222222222222222,
              "#7201a8"
             ],
             [
              0.3333333333333333,
              "#9c179e"
             ],
             [
              0.4444444444444444,
              "#bd3786"
             ],
             [
              0.5555555555555556,
              "#d8576b"
             ],
             [
              0.6666666666666666,
              "#ed7953"
             ],
             [
              0.7777777777777778,
              "#fb9f3a"
             ],
             [
              0.8888888888888888,
              "#fdca26"
             ],
             [
              1,
              "#f0f921"
             ]
            ],
            "type": "heatmapgl"
           }
          ],
          "histogram": [
           {
            "marker": {
             "pattern": {
              "fillmode": "overlay",
              "size": 10,
              "solidity": 0.2
             }
            },
            "type": "histogram"
           }
          ],
          "histogram2d": [
           {
            "colorbar": {
             "outlinewidth": 0,
             "ticks": ""
            },
            "colorscale": [
             [
              0,
              "#0d0887"
             ],
             [
              0.1111111111111111,
              "#46039f"
             ],
             [
              0.2222222222222222,
              "#7201a8"
             ],
             [
              0.3333333333333333,
              "#9c179e"
             ],
             [
              0.4444444444444444,
              "#bd3786"
             ],
             [
              0.5555555555555556,
              "#d8576b"
             ],
             [
              0.6666666666666666,
              "#ed7953"
             ],
             [
              0.7777777777777778,
              "#fb9f3a"
             ],
             [
              0.8888888888888888,
              "#fdca26"
             ],
             [
              1,
              "#f0f921"
             ]
            ],
            "type": "histogram2d"
           }
          ],
          "histogram2dcontour": [
           {
            "colorbar": {
             "outlinewidth": 0,
             "ticks": ""
            },
            "colorscale": [
             [
              0,
              "#0d0887"
             ],
             [
              0.1111111111111111,
              "#46039f"
             ],
             [
              0.2222222222222222,
              "#7201a8"
             ],
             [
              0.3333333333333333,
              "#9c179e"
             ],
             [
              0.4444444444444444,
              "#bd3786"
             ],
             [
              0.5555555555555556,
              "#d8576b"
             ],
             [
              0.6666666666666666,
              "#ed7953"
             ],
             [
              0.7777777777777778,
              "#fb9f3a"
             ],
             [
              0.8888888888888888,
              "#fdca26"
             ],
             [
              1,
              "#f0f921"
             ]
            ],
            "type": "histogram2dcontour"
           }
          ],
          "mesh3d": [
           {
            "colorbar": {
             "outlinewidth": 0,
             "ticks": ""
            },
            "type": "mesh3d"
           }
          ],
          "parcoords": [
           {
            "line": {
             "colorbar": {
              "outlinewidth": 0,
              "ticks": ""
             }
            },
            "type": "parcoords"
           }
          ],
          "pie": [
           {
            "automargin": true,
            "type": "pie"
           }
          ],
          "scatter": [
           {
            "fillpattern": {
             "fillmode": "overlay",
             "size": 10,
             "solidity": 0.2
            },
            "type": "scatter"
           }
          ],
          "scatter3d": [
           {
            "line": {
             "colorbar": {
              "outlinewidth": 0,
              "ticks": ""
             }
            },
            "marker": {
             "colorbar": {
              "outlinewidth": 0,
              "ticks": ""
             }
            },
            "type": "scatter3d"
           }
          ],
          "scattercarpet": [
           {
            "marker": {
             "colorbar": {
              "outlinewidth": 0,
              "ticks": ""
             }
            },
            "type": "scattercarpet"
           }
          ],
          "scattergeo": [
           {
            "marker": {
             "colorbar": {
              "outlinewidth": 0,
              "ticks": ""
             }
            },
            "type": "scattergeo"
           }
          ],
          "scattergl": [
           {
            "marker": {
             "colorbar": {
              "outlinewidth": 0,
              "ticks": ""
             }
            },
            "type": "scattergl"
           }
          ],
          "scattermapbox": [
           {
            "marker": {
             "colorbar": {
              "outlinewidth": 0,
              "ticks": ""
             }
            },
            "type": "scattermapbox"
           }
          ],
          "scatterpolar": [
           {
            "marker": {
             "colorbar": {
              "outlinewidth": 0,
              "ticks": ""
             }
            },
            "type": "scatterpolar"
           }
          ],
          "scatterpolargl": [
           {
            "marker": {
             "colorbar": {
              "outlinewidth": 0,
              "ticks": ""
             }
            },
            "type": "scatterpolargl"
           }
          ],
          "scatterternary": [
           {
            "marker": {
             "colorbar": {
              "outlinewidth": 0,
              "ticks": ""
             }
            },
            "type": "scatterternary"
           }
          ],
          "surface": [
           {
            "colorbar": {
             "outlinewidth": 0,
             "ticks": ""
            },
            "colorscale": [
             [
              0,
              "#0d0887"
             ],
             [
              0.1111111111111111,
              "#46039f"
             ],
             [
              0.2222222222222222,
              "#7201a8"
             ],
             [
              0.3333333333333333,
              "#9c179e"
             ],
             [
              0.4444444444444444,
              "#bd3786"
             ],
             [
              0.5555555555555556,
              "#d8576b"
             ],
             [
              0.6666666666666666,
              "#ed7953"
             ],
             [
              0.7777777777777778,
              "#fb9f3a"
             ],
             [
              0.8888888888888888,
              "#fdca26"
             ],
             [
              1,
              "#f0f921"
             ]
            ],
            "type": "surface"
           }
          ],
          "table": [
           {
            "cells": {
             "fill": {
              "color": "#EBF0F8"
             },
             "line": {
              "color": "white"
             }
            },
            "header": {
             "fill": {
              "color": "#C8D4E3"
             },
             "line": {
              "color": "white"
             }
            },
            "type": "table"
           }
          ]
         },
         "layout": {
          "annotationdefaults": {
           "arrowcolor": "#2a3f5f",
           "arrowhead": 0,
           "arrowwidth": 1
          },
          "autotypenumbers": "strict",
          "coloraxis": {
           "colorbar": {
            "outlinewidth": 0,
            "ticks": ""
           }
          },
          "colorscale": {
           "diverging": [
            [
             0,
             "#8e0152"
            ],
            [
             0.1,
             "#c51b7d"
            ],
            [
             0.2,
             "#de77ae"
            ],
            [
             0.3,
             "#f1b6da"
            ],
            [
             0.4,
             "#fde0ef"
            ],
            [
             0.5,
             "#f7f7f7"
            ],
            [
             0.6,
             "#e6f5d0"
            ],
            [
             0.7,
             "#b8e186"
            ],
            [
             0.8,
             "#7fbc41"
            ],
            [
             0.9,
             "#4d9221"
            ],
            [
             1,
             "#276419"
            ]
           ],
           "sequential": [
            [
             0,
             "#0d0887"
            ],
            [
             0.1111111111111111,
             "#46039f"
            ],
            [
             0.2222222222222222,
             "#7201a8"
            ],
            [
             0.3333333333333333,
             "#9c179e"
            ],
            [
             0.4444444444444444,
             "#bd3786"
            ],
            [
             0.5555555555555556,
             "#d8576b"
            ],
            [
             0.6666666666666666,
             "#ed7953"
            ],
            [
             0.7777777777777778,
             "#fb9f3a"
            ],
            [
             0.8888888888888888,
             "#fdca26"
            ],
            [
             1,
             "#f0f921"
            ]
           ],
           "sequentialminus": [
            [
             0,
             "#0d0887"
            ],
            [
             0.1111111111111111,
             "#46039f"
            ],
            [
             0.2222222222222222,
             "#7201a8"
            ],
            [
             0.3333333333333333,
             "#9c179e"
            ],
            [
             0.4444444444444444,
             "#bd3786"
            ],
            [
             0.5555555555555556,
             "#d8576b"
            ],
            [
             0.6666666666666666,
             "#ed7953"
            ],
            [
             0.7777777777777778,
             "#fb9f3a"
            ],
            [
             0.8888888888888888,
             "#fdca26"
            ],
            [
             1,
             "#f0f921"
            ]
           ]
          },
          "colorway": [
           "#636efa",
           "#EF553B",
           "#00cc96",
           "#ab63fa",
           "#FFA15A",
           "#19d3f3",
           "#FF6692",
           "#B6E880",
           "#FF97FF",
           "#FECB52"
          ],
          "font": {
           "color": "#2a3f5f"
          },
          "geo": {
           "bgcolor": "white",
           "lakecolor": "white",
           "landcolor": "#E5ECF6",
           "showlakes": true,
           "showland": true,
           "subunitcolor": "white"
          },
          "hoverlabel": {
           "align": "left"
          },
          "hovermode": "closest",
          "mapbox": {
           "style": "light"
          },
          "paper_bgcolor": "white",
          "plot_bgcolor": "#E5ECF6",
          "polar": {
           "angularaxis": {
            "gridcolor": "white",
            "linecolor": "white",
            "ticks": ""
           },
           "bgcolor": "#E5ECF6",
           "radialaxis": {
            "gridcolor": "white",
            "linecolor": "white",
            "ticks": ""
           }
          },
          "scene": {
           "xaxis": {
            "backgroundcolor": "#E5ECF6",
            "gridcolor": "white",
            "gridwidth": 2,
            "linecolor": "white",
            "showbackground": true,
            "ticks": "",
            "zerolinecolor": "white"
           },
           "yaxis": {
            "backgroundcolor": "#E5ECF6",
            "gridcolor": "white",
            "gridwidth": 2,
            "linecolor": "white",
            "showbackground": true,
            "ticks": "",
            "zerolinecolor": "white"
           },
           "zaxis": {
            "backgroundcolor": "#E5ECF6",
            "gridcolor": "white",
            "gridwidth": 2,
            "linecolor": "white",
            "showbackground": true,
            "ticks": "",
            "zerolinecolor": "white"
           }
          },
          "shapedefaults": {
           "line": {
            "color": "#2a3f5f"
           }
          },
          "ternary": {
           "aaxis": {
            "gridcolor": "white",
            "linecolor": "white",
            "ticks": ""
           },
           "baxis": {
            "gridcolor": "white",
            "linecolor": "white",
            "ticks": ""
           },
           "bgcolor": "#E5ECF6",
           "caxis": {
            "gridcolor": "white",
            "linecolor": "white",
            "ticks": ""
           }
          },
          "title": {
           "x": 0.05
          },
          "xaxis": {
           "automargin": true,
           "gridcolor": "white",
           "linecolor": "white",
           "ticks": "",
           "title": {
            "standoff": 15
           },
           "zerolinecolor": "white",
           "zerolinewidth": 2
          },
          "yaxis": {
           "automargin": true,
           "gridcolor": "white",
           "linecolor": "white",
           "ticks": "",
           "title": {
            "standoff": 15
           },
           "zerolinecolor": "white",
           "zerolinewidth": 2
          }
         }
        },
        "xaxis": {
         "anchor": "y",
         "domain": [
          0,
          1
         ],
         "title": {
          "text": "x"
         }
        },
        "yaxis": {
         "anchor": "x",
         "domain": [
          0,
          1
         ],
         "title": {
          "text": "y"
         }
        }
       }
      }
     },
     "metadata": {},
     "output_type": "display_data"
    }
   ],
   "source": [
    "# By setting a seed, we guarantee that we will see the same results each time we run this cell\n",
    "np.random.seed(32)\n",
    "\n",
    "# Generates a different random scatter plot\n",
    "x = np.linspace(2, 5, 100)\n",
    "y = 10 * (np.e ** x) + np.abs(x) * np.random.normal(0, 5, 100) + np.random.normal(0, 30, 100)\n",
    "df_2 = pd.DataFrame().assign(x=x, y=y)\n",
    "\n",
    "px.scatter(df_2, x='x', y='y', trendline=\"ols\", trendline_color_override=\"red\")"
   ]
  },
  {
   "cell_type": "markdown",
   "id": "2e8b8bf9",
   "metadata": {},
   "source": [
    "Again, the relationship between `'x'` and `'y'` is not quite linear. Let's try the square root transformation we tried in Example 1:"
   ]
  },
  {
   "cell_type": "code",
   "execution_count": 241,
   "id": "1d920625",
   "metadata": {},
   "outputs": [
    {
     "data": {
      "application/vnd.plotly.v1+json": {
       "config": {
        "plotlyServerURL": "https://plot.ly"
       },
       "data": [
        {
         "hovertemplate": "x=%{x}<br>root y=%{y}<extra></extra>",
         "legendgroup": "",
         "marker": {
          "color": "#636efa",
          "symbol": "circle"
         },
         "mode": "markers",
         "name": "",
         "orientation": "v",
         "showlegend": false,
         "type": "scatter",
         "x": [
          2,
          2.0303030303030303,
          2.0606060606060606,
          2.090909090909091,
          2.121212121212121,
          2.1515151515151514,
          2.1818181818181817,
          2.212121212121212,
          2.242424242424242,
          2.2727272727272725,
          2.303030303030303,
          2.3333333333333335,
          2.3636363636363638,
          2.393939393939394,
          2.4242424242424243,
          2.4545454545454546,
          2.484848484848485,
          2.515151515151515,
          2.5454545454545454,
          2.5757575757575757,
          2.606060606060606,
          2.6363636363636362,
          2.666666666666667,
          2.6969696969696972,
          2.7272727272727275,
          2.757575757575758,
          2.787878787878788,
          2.8181818181818183,
          2.8484848484848486,
          2.878787878787879,
          2.909090909090909,
          2.9393939393939394,
          2.9696969696969697,
          3,
          3.0303030303030303,
          3.0606060606060606,
          3.090909090909091,
          3.121212121212121,
          3.1515151515151514,
          3.1818181818181817,
          3.212121212121212,
          3.242424242424242,
          3.2727272727272725,
          3.3030303030303028,
          3.3333333333333335,
          3.3636363636363638,
          3.393939393939394,
          3.4242424242424243,
          3.4545454545454546,
          3.484848484848485,
          3.515151515151515,
          3.5454545454545454,
          3.5757575757575757,
          3.6060606060606064,
          3.6363636363636367,
          3.666666666666667,
          3.6969696969696972,
          3.7272727272727275,
          3.757575757575758,
          3.787878787878788,
          3.8181818181818183,
          3.8484848484848486,
          3.878787878787879,
          3.909090909090909,
          3.9393939393939394,
          3.9696969696969697,
          4,
          4.03030303030303,
          4.0606060606060606,
          4.090909090909091,
          4.121212121212121,
          4.151515151515151,
          4.181818181818182,
          4.212121212121213,
          4.242424242424242,
          4.272727272727273,
          4.303030303030303,
          4.333333333333334,
          4.363636363636363,
          4.3939393939393945,
          4.424242424242424,
          4.454545454545455,
          4.484848484848484,
          4.515151515151516,
          4.545454545454545,
          4.575757575757576,
          4.6060606060606055,
          4.636363636363637,
          4.666666666666667,
          4.696969696969697,
          4.7272727272727275,
          4.757575757575758,
          4.787878787878788,
          4.818181818181818,
          4.848484848484849,
          4.878787878787879,
          4.909090909090909,
          4.9393939393939394,
          4.96969696969697,
          5
         ],
         "xaxis": "x",
         "y": [
          5.119449530327179,
          7.869306346827667,
          7.3150427132801035,
          10.355810981064797,
          8.234512900652982,
          10.963758854135204,
          12.478577391675149,
          10.638736634352208,
          9.100116284135323,
          7.37824933315752,
          12.339961895040974,
          11.204782073695355,
          12.060852040555961,
          10.845781565453695,
          9.831730086313245,
          11.376553631667452,
          9.972360620334415,
          13.570085098306654,
          10.432860813079829,
          11.887478189366846,
          11.923221081375123,
          11.039450288003293,
          13.731441795963208,
          9.30910814907123,
          12.850141294808376,
          13.933046043760566,
          12.022574891105569,
          11.889753263081095,
          15.145340954279298,
          13.536686419241677,
          11.09247393034188,
          16.106916603689413,
          16.97884905949795,
          12.576444926039027,
          15.480158239807396,
          14.171714770954484,
          14.302319410269432,
          12.683171782764848,
          16.38299876339323,
          16.59759331838262,
          15.67757814182616,
          14.971978697463793,
          15.860215950537484,
          16.16325294813998,
          16.377651584970167,
          18.09426874337192,
          15.68709490946483,
          18.41979660092513,
          18.80959702363227,
          18.138687816945257,
          19.20183064402184,
          18.206400718751482,
          19.581988983382306,
          18.75759062190164,
          18.151710997356307,
          20.607077222077642,
          21.60941981668541,
          20.7919845274323,
          20.762389031865748,
          19.545836564154527,
          19.91060849127384,
          21.048319988708567,
          23.076252913392874,
          21.611192608803332,
          23.261003335185663,
          23.217418741480614,
          24.027729779656674,
          23.633863754345228,
          24.63574089120389,
          25.257921830231275,
          24.67687497838068,
          24.688249544256525,
          24.59073871876232,
          25.359433220060783,
          25.96576571806316,
          26.218128334671707,
          26.91012696102369,
          28.431120349941164,
          28.77576333368214,
          28.475652130628195,
          29.274529887710123,
          30.25411771829336,
          30.186778541202997,
          30.352184659481715,
          31.38420109691419,
          31.6650619884442,
          32.548236368086904,
          31.380730692602597,
          32.65507782463211,
          32.96799869647809,
          33.88691597953825,
          35.14655981505514,
          34.93021643607781,
          35.34055846612545,
          34.903187725646305,
          35.77606095796323,
          37.33451510461973,
          37.53798753591016,
          37.984786979051606,
          38.102666151353716
         ],
         "yaxis": "y"
        },
        {
         "hovertemplate": "<b>OLS trendline</b><br>root y = 9.63148 * x + -13.6349<br>R<sup>2</sup>=0.945913<br><br>x=%{x}<br>root y=%{y} <b>(trend)</b><extra></extra>",
         "legendgroup": "",
         "line": {
          "color": "red"
         },
         "marker": {
          "color": "#636efa",
          "symbol": "circle"
         },
         "mode": "lines",
         "name": "",
         "showlegend": false,
         "type": "scatter",
         "x": [
          2,
          2.0303030303030303,
          2.0606060606060606,
          2.090909090909091,
          2.121212121212121,
          2.1515151515151514,
          2.1818181818181817,
          2.212121212121212,
          2.242424242424242,
          2.2727272727272725,
          2.303030303030303,
          2.3333333333333335,
          2.3636363636363638,
          2.393939393939394,
          2.4242424242424243,
          2.4545454545454546,
          2.484848484848485,
          2.515151515151515,
          2.5454545454545454,
          2.5757575757575757,
          2.606060606060606,
          2.6363636363636362,
          2.666666666666667,
          2.6969696969696972,
          2.7272727272727275,
          2.757575757575758,
          2.787878787878788,
          2.8181818181818183,
          2.8484848484848486,
          2.878787878787879,
          2.909090909090909,
          2.9393939393939394,
          2.9696969696969697,
          3,
          3.0303030303030303,
          3.0606060606060606,
          3.090909090909091,
          3.121212121212121,
          3.1515151515151514,
          3.1818181818181817,
          3.212121212121212,
          3.242424242424242,
          3.2727272727272725,
          3.3030303030303028,
          3.3333333333333335,
          3.3636363636363638,
          3.393939393939394,
          3.4242424242424243,
          3.4545454545454546,
          3.484848484848485,
          3.515151515151515,
          3.5454545454545454,
          3.5757575757575757,
          3.6060606060606064,
          3.6363636363636367,
          3.666666666666667,
          3.6969696969696972,
          3.7272727272727275,
          3.757575757575758,
          3.787878787878788,
          3.8181818181818183,
          3.8484848484848486,
          3.878787878787879,
          3.909090909090909,
          3.9393939393939394,
          3.9696969696969697,
          4,
          4.03030303030303,
          4.0606060606060606,
          4.090909090909091,
          4.121212121212121,
          4.151515151515151,
          4.181818181818182,
          4.212121212121213,
          4.242424242424242,
          4.272727272727273,
          4.303030303030303,
          4.333333333333334,
          4.363636363636363,
          4.3939393939393945,
          4.424242424242424,
          4.454545454545455,
          4.484848484848484,
          4.515151515151516,
          4.545454545454545,
          4.575757575757576,
          4.6060606060606055,
          4.636363636363637,
          4.666666666666667,
          4.696969696969697,
          4.7272727272727275,
          4.757575757575758,
          4.787878787878788,
          4.818181818181818,
          4.848484848484849,
          4.878787878787879,
          4.909090909090909,
          4.9393939393939394,
          4.96969696969697,
          5
         ],
         "xaxis": "x",
         "y": [
          5.628084132349894,
          5.919947087608097,
          6.211810042866301,
          6.503672998124504,
          6.795535953382707,
          7.08739890864091,
          7.379261863899114,
          7.671124819157317,
          7.96298777441552,
          8.254850729673723,
          8.546713684931934,
          8.838576640190137,
          9.13043959544834,
          9.422302550706544,
          9.714165505964747,
          10.00602846122295,
          10.297891416481153,
          10.589754371739357,
          10.88161732699756,
          11.173480282255763,
          11.465343237513967,
          11.75720619277217,
          12.049069148030377,
          12.34093210328858,
          12.632795058546783,
          12.924658013804986,
          13.21652096906319,
          13.508383924321393,
          13.800246879579596,
          14.0921098348378,
          14.383972790096003,
          14.675835745354206,
          14.96769870061241,
          15.259561655870613,
          15.55142461112882,
          15.843287566387023,
          16.135150521645226,
          16.42701347690343,
          16.718876432161633,
          17.010739387419836,
          17.30260234267804,
          17.594465297936242,
          17.886328253194446,
          18.17819120845265,
          18.470054163710856,
          18.76191711896906,
          19.053780074227262,
          19.345643029485466,
          19.63750598474367,
          19.929368940001872,
          20.221231895260075,
          20.51309485051828,
          20.804957805776482,
          21.096820761034692,
          21.388683716292896,
          21.6805466715511,
          21.972409626809302,
          22.264272582067505,
          22.55613553732571,
          22.847998492583912,
          23.139861447842115,
          23.43172440310032,
          23.72358735835852,
          24.015450313616725,
          24.30731326887493,
          24.59917622413313,
          24.891039179391335,
          25.182902134649538,
          25.47476508990774,
          25.766628045165945,
          26.058491000424148,
          26.35035395568235,
          26.642216910940554,
          26.934079866198765,
          27.22594282145696,
          27.51780577671517,
          27.809668731973368,
          28.101531687231578,
          28.393394642489774,
          28.685257597747984,
          28.97712055300618,
          29.26898350826439,
          29.560846463522587,
          29.852709418780798,
          30.144572374038994,
          30.43643532929721,
          30.7282982845554,
          31.020161239813618,
          31.31202419507182,
          31.603887150330024,
          31.895750105588228,
          32.18761306084643,
          32.479476016104634,
          32.77133897136284,
          33.06320192662104,
          33.355064881879244,
          33.64692783713745,
          33.93879079239565,
          34.230653747653854,
          34.52251670291206
         ],
         "yaxis": "y"
        }
       ],
       "layout": {
        "legend": {
         "tracegroupgap": 0
        },
        "margin": {
         "t": 60
        },
        "template": {
         "data": {
          "bar": [
           {
            "error_x": {
             "color": "#2a3f5f"
            },
            "error_y": {
             "color": "#2a3f5f"
            },
            "marker": {
             "line": {
              "color": "#E5ECF6",
              "width": 0.5
             },
             "pattern": {
              "fillmode": "overlay",
              "size": 10,
              "solidity": 0.2
             }
            },
            "type": "bar"
           }
          ],
          "barpolar": [
           {
            "marker": {
             "line": {
              "color": "#E5ECF6",
              "width": 0.5
             },
             "pattern": {
              "fillmode": "overlay",
              "size": 10,
              "solidity": 0.2
             }
            },
            "type": "barpolar"
           }
          ],
          "carpet": [
           {
            "aaxis": {
             "endlinecolor": "#2a3f5f",
             "gridcolor": "white",
             "linecolor": "white",
             "minorgridcolor": "white",
             "startlinecolor": "#2a3f5f"
            },
            "baxis": {
             "endlinecolor": "#2a3f5f",
             "gridcolor": "white",
             "linecolor": "white",
             "minorgridcolor": "white",
             "startlinecolor": "#2a3f5f"
            },
            "type": "carpet"
           }
          ],
          "choropleth": [
           {
            "colorbar": {
             "outlinewidth": 0,
             "ticks": ""
            },
            "type": "choropleth"
           }
          ],
          "contour": [
           {
            "colorbar": {
             "outlinewidth": 0,
             "ticks": ""
            },
            "colorscale": [
             [
              0,
              "#0d0887"
             ],
             [
              0.1111111111111111,
              "#46039f"
             ],
             [
              0.2222222222222222,
              "#7201a8"
             ],
             [
              0.3333333333333333,
              "#9c179e"
             ],
             [
              0.4444444444444444,
              "#bd3786"
             ],
             [
              0.5555555555555556,
              "#d8576b"
             ],
             [
              0.6666666666666666,
              "#ed7953"
             ],
             [
              0.7777777777777778,
              "#fb9f3a"
             ],
             [
              0.8888888888888888,
              "#fdca26"
             ],
             [
              1,
              "#f0f921"
             ]
            ],
            "type": "contour"
           }
          ],
          "contourcarpet": [
           {
            "colorbar": {
             "outlinewidth": 0,
             "ticks": ""
            },
            "type": "contourcarpet"
           }
          ],
          "heatmap": [
           {
            "colorbar": {
             "outlinewidth": 0,
             "ticks": ""
            },
            "colorscale": [
             [
              0,
              "#0d0887"
             ],
             [
              0.1111111111111111,
              "#46039f"
             ],
             [
              0.2222222222222222,
              "#7201a8"
             ],
             [
              0.3333333333333333,
              "#9c179e"
             ],
             [
              0.4444444444444444,
              "#bd3786"
             ],
             [
              0.5555555555555556,
              "#d8576b"
             ],
             [
              0.6666666666666666,
              "#ed7953"
             ],
             [
              0.7777777777777778,
              "#fb9f3a"
             ],
             [
              0.8888888888888888,
              "#fdca26"
             ],
             [
              1,
              "#f0f921"
             ]
            ],
            "type": "heatmap"
           }
          ],
          "heatmapgl": [
           {
            "colorbar": {
             "outlinewidth": 0,
             "ticks": ""
            },
            "colorscale": [
             [
              0,
              "#0d0887"
             ],
             [
              0.1111111111111111,
              "#46039f"
             ],
             [
              0.2222222222222222,
              "#7201a8"
             ],
             [
              0.3333333333333333,
              "#9c179e"
             ],
             [
              0.4444444444444444,
              "#bd3786"
             ],
             [
              0.5555555555555556,
              "#d8576b"
             ],
             [
              0.6666666666666666,
              "#ed7953"
             ],
             [
              0.7777777777777778,
              "#fb9f3a"
             ],
             [
              0.8888888888888888,
              "#fdca26"
             ],
             [
              1,
              "#f0f921"
             ]
            ],
            "type": "heatmapgl"
           }
          ],
          "histogram": [
           {
            "marker": {
             "pattern": {
              "fillmode": "overlay",
              "size": 10,
              "solidity": 0.2
             }
            },
            "type": "histogram"
           }
          ],
          "histogram2d": [
           {
            "colorbar": {
             "outlinewidth": 0,
             "ticks": ""
            },
            "colorscale": [
             [
              0,
              "#0d0887"
             ],
             [
              0.1111111111111111,
              "#46039f"
             ],
             [
              0.2222222222222222,
              "#7201a8"
             ],
             [
              0.3333333333333333,
              "#9c179e"
             ],
             [
              0.4444444444444444,
              "#bd3786"
             ],
             [
              0.5555555555555556,
              "#d8576b"
             ],
             [
              0.6666666666666666,
              "#ed7953"
             ],
             [
              0.7777777777777778,
              "#fb9f3a"
             ],
             [
              0.8888888888888888,
              "#fdca26"
             ],
             [
              1,
              "#f0f921"
             ]
            ],
            "type": "histogram2d"
           }
          ],
          "histogram2dcontour": [
           {
            "colorbar": {
             "outlinewidth": 0,
             "ticks": ""
            },
            "colorscale": [
             [
              0,
              "#0d0887"
             ],
             [
              0.1111111111111111,
              "#46039f"
             ],
             [
              0.2222222222222222,
              "#7201a8"
             ],
             [
              0.3333333333333333,
              "#9c179e"
             ],
             [
              0.4444444444444444,
              "#bd3786"
             ],
             [
              0.5555555555555556,
              "#d8576b"
             ],
             [
              0.6666666666666666,
              "#ed7953"
             ],
             [
              0.7777777777777778,
              "#fb9f3a"
             ],
             [
              0.8888888888888888,
              "#fdca26"
             ],
             [
              1,
              "#f0f921"
             ]
            ],
            "type": "histogram2dcontour"
           }
          ],
          "mesh3d": [
           {
            "colorbar": {
             "outlinewidth": 0,
             "ticks": ""
            },
            "type": "mesh3d"
           }
          ],
          "parcoords": [
           {
            "line": {
             "colorbar": {
              "outlinewidth": 0,
              "ticks": ""
             }
            },
            "type": "parcoords"
           }
          ],
          "pie": [
           {
            "automargin": true,
            "type": "pie"
           }
          ],
          "scatter": [
           {
            "fillpattern": {
             "fillmode": "overlay",
             "size": 10,
             "solidity": 0.2
            },
            "type": "scatter"
           }
          ],
          "scatter3d": [
           {
            "line": {
             "colorbar": {
              "outlinewidth": 0,
              "ticks": ""
             }
            },
            "marker": {
             "colorbar": {
              "outlinewidth": 0,
              "ticks": ""
             }
            },
            "type": "scatter3d"
           }
          ],
          "scattercarpet": [
           {
            "marker": {
             "colorbar": {
              "outlinewidth": 0,
              "ticks": ""
             }
            },
            "type": "scattercarpet"
           }
          ],
          "scattergeo": [
           {
            "marker": {
             "colorbar": {
              "outlinewidth": 0,
              "ticks": ""
             }
            },
            "type": "scattergeo"
           }
          ],
          "scattergl": [
           {
            "marker": {
             "colorbar": {
              "outlinewidth": 0,
              "ticks": ""
             }
            },
            "type": "scattergl"
           }
          ],
          "scattermapbox": [
           {
            "marker": {
             "colorbar": {
              "outlinewidth": 0,
              "ticks": ""
             }
            },
            "type": "scattermapbox"
           }
          ],
          "scatterpolar": [
           {
            "marker": {
             "colorbar": {
              "outlinewidth": 0,
              "ticks": ""
             }
            },
            "type": "scatterpolar"
           }
          ],
          "scatterpolargl": [
           {
            "marker": {
             "colorbar": {
              "outlinewidth": 0,
              "ticks": ""
             }
            },
            "type": "scatterpolargl"
           }
          ],
          "scatterternary": [
           {
            "marker": {
             "colorbar": {
              "outlinewidth": 0,
              "ticks": ""
             }
            },
            "type": "scatterternary"
           }
          ],
          "surface": [
           {
            "colorbar": {
             "outlinewidth": 0,
             "ticks": ""
            },
            "colorscale": [
             [
              0,
              "#0d0887"
             ],
             [
              0.1111111111111111,
              "#46039f"
             ],
             [
              0.2222222222222222,
              "#7201a8"
             ],
             [
              0.3333333333333333,
              "#9c179e"
             ],
             [
              0.4444444444444444,
              "#bd3786"
             ],
             [
              0.5555555555555556,
              "#d8576b"
             ],
             [
              0.6666666666666666,
              "#ed7953"
             ],
             [
              0.7777777777777778,
              "#fb9f3a"
             ],
             [
              0.8888888888888888,
              "#fdca26"
             ],
             [
              1,
              "#f0f921"
             ]
            ],
            "type": "surface"
           }
          ],
          "table": [
           {
            "cells": {
             "fill": {
              "color": "#EBF0F8"
             },
             "line": {
              "color": "white"
             }
            },
            "header": {
             "fill": {
              "color": "#C8D4E3"
             },
             "line": {
              "color": "white"
             }
            },
            "type": "table"
           }
          ]
         },
         "layout": {
          "annotationdefaults": {
           "arrowcolor": "#2a3f5f",
           "arrowhead": 0,
           "arrowwidth": 1
          },
          "autotypenumbers": "strict",
          "coloraxis": {
           "colorbar": {
            "outlinewidth": 0,
            "ticks": ""
           }
          },
          "colorscale": {
           "diverging": [
            [
             0,
             "#8e0152"
            ],
            [
             0.1,
             "#c51b7d"
            ],
            [
             0.2,
             "#de77ae"
            ],
            [
             0.3,
             "#f1b6da"
            ],
            [
             0.4,
             "#fde0ef"
            ],
            [
             0.5,
             "#f7f7f7"
            ],
            [
             0.6,
             "#e6f5d0"
            ],
            [
             0.7,
             "#b8e186"
            ],
            [
             0.8,
             "#7fbc41"
            ],
            [
             0.9,
             "#4d9221"
            ],
            [
             1,
             "#276419"
            ]
           ],
           "sequential": [
            [
             0,
             "#0d0887"
            ],
            [
             0.1111111111111111,
             "#46039f"
            ],
            [
             0.2222222222222222,
             "#7201a8"
            ],
            [
             0.3333333333333333,
             "#9c179e"
            ],
            [
             0.4444444444444444,
             "#bd3786"
            ],
            [
             0.5555555555555556,
             "#d8576b"
            ],
            [
             0.6666666666666666,
             "#ed7953"
            ],
            [
             0.7777777777777778,
             "#fb9f3a"
            ],
            [
             0.8888888888888888,
             "#fdca26"
            ],
            [
             1,
             "#f0f921"
            ]
           ],
           "sequentialminus": [
            [
             0,
             "#0d0887"
            ],
            [
             0.1111111111111111,
             "#46039f"
            ],
            [
             0.2222222222222222,
             "#7201a8"
            ],
            [
             0.3333333333333333,
             "#9c179e"
            ],
            [
             0.4444444444444444,
             "#bd3786"
            ],
            [
             0.5555555555555556,
             "#d8576b"
            ],
            [
             0.6666666666666666,
             "#ed7953"
            ],
            [
             0.7777777777777778,
             "#fb9f3a"
            ],
            [
             0.8888888888888888,
             "#fdca26"
            ],
            [
             1,
             "#f0f921"
            ]
           ]
          },
          "colorway": [
           "#636efa",
           "#EF553B",
           "#00cc96",
           "#ab63fa",
           "#FFA15A",
           "#19d3f3",
           "#FF6692",
           "#B6E880",
           "#FF97FF",
           "#FECB52"
          ],
          "font": {
           "color": "#2a3f5f"
          },
          "geo": {
           "bgcolor": "white",
           "lakecolor": "white",
           "landcolor": "#E5ECF6",
           "showlakes": true,
           "showland": true,
           "subunitcolor": "white"
          },
          "hoverlabel": {
           "align": "left"
          },
          "hovermode": "closest",
          "mapbox": {
           "style": "light"
          },
          "paper_bgcolor": "white",
          "plot_bgcolor": "#E5ECF6",
          "polar": {
           "angularaxis": {
            "gridcolor": "white",
            "linecolor": "white",
            "ticks": ""
           },
           "bgcolor": "#E5ECF6",
           "radialaxis": {
            "gridcolor": "white",
            "linecolor": "white",
            "ticks": ""
           }
          },
          "scene": {
           "xaxis": {
            "backgroundcolor": "#E5ECF6",
            "gridcolor": "white",
            "gridwidth": 2,
            "linecolor": "white",
            "showbackground": true,
            "ticks": "",
            "zerolinecolor": "white"
           },
           "yaxis": {
            "backgroundcolor": "#E5ECF6",
            "gridcolor": "white",
            "gridwidth": 2,
            "linecolor": "white",
            "showbackground": true,
            "ticks": "",
            "zerolinecolor": "white"
           },
           "zaxis": {
            "backgroundcolor": "#E5ECF6",
            "gridcolor": "white",
            "gridwidth": 2,
            "linecolor": "white",
            "showbackground": true,
            "ticks": "",
            "zerolinecolor": "white"
           }
          },
          "shapedefaults": {
           "line": {
            "color": "#2a3f5f"
           }
          },
          "ternary": {
           "aaxis": {
            "gridcolor": "white",
            "linecolor": "white",
            "ticks": ""
           },
           "baxis": {
            "gridcolor": "white",
            "linecolor": "white",
            "ticks": ""
           },
           "bgcolor": "#E5ECF6",
           "caxis": {
            "gridcolor": "white",
            "linecolor": "white",
            "ticks": ""
           }
          },
          "title": {
           "x": 0.05
          },
          "xaxis": {
           "automargin": true,
           "gridcolor": "white",
           "linecolor": "white",
           "ticks": "",
           "title": {
            "standoff": 15
           },
           "zerolinecolor": "white",
           "zerolinewidth": 2
          },
          "yaxis": {
           "automargin": true,
           "gridcolor": "white",
           "linecolor": "white",
           "ticks": "",
           "title": {
            "standoff": 15
           },
           "zerolinecolor": "white",
           "zerolinewidth": 2
          }
         }
        },
        "xaxis": {
         "anchor": "y",
         "domain": [
          0,
          1
         ],
         "title": {
          "text": "x"
         }
        },
        "yaxis": {
         "anchor": "x",
         "domain": [
          0,
          1
         ],
         "title": {
          "text": "root y"
         }
        }
       }
      }
     },
     "metadata": {},
     "output_type": "display_data"
    }
   ],
   "source": [
    "df_2['root y'] = np.sqrt(df_2['y'])\n",
    "\n",
    "px.scatter(df_2, x='x', y='root y', trendline=\"ols\", trendline_color_override=\"red\")"
   ]
  },
  {
   "cell_type": "markdown",
   "id": "c699a8d0",
   "metadata": {},
   "source": [
    "Hmm... the relationship certainly looks _more_ linear than before, but still not quite linear. Let's look at the residual plot:"
   ]
  },
  {
   "cell_type": "code",
   "execution_count": 242,
   "id": "9fbc31b7",
   "metadata": {},
   "outputs": [
    {
     "data": {
      "application/vnd.plotly.v1+json": {
       "config": {
        "plotlyServerURL": "https://plot.ly"
       },
       "data": [
        {
         "hovertemplate": "pred=%{x}<br>root y residuals=%{y}<extra></extra>",
         "legendgroup": "",
         "marker": {
          "color": "#636efa",
          "symbol": "circle"
         },
         "mode": "markers",
         "name": "",
         "orientation": "v",
         "showlegend": false,
         "type": "scatter",
         "x": [
          5.628084132349898,
          5.919947087608101,
          6.211810042866304,
          6.503672998124507,
          6.795535953382711,
          7.087398908640914,
          7.379261863899117,
          7.6711248191573205,
          7.962987774415524,
          8.254850729673727,
          8.546713684931937,
          8.83857664019014,
          9.130439595448344,
          9.422302550706547,
          9.71416550596475,
          10.006028461222954,
          10.297891416481157,
          10.58975437173936,
          10.881617326997564,
          11.173480282255767,
          11.46534323751397,
          11.757206192772173,
          12.04906914803038,
          12.340932103288587,
          12.63279505854679,
          12.924658013804994,
          13.216520969063197,
          13.5083839243214,
          13.800246879579603,
          14.092109834837807,
          14.38397279009601,
          14.675835745354213,
          14.967698700612416,
          15.25956165587062,
          15.551424611128823,
          15.843287566387026,
          16.13515052164523,
          16.427013476903433,
          16.718876432161636,
          17.01073938741984,
          17.302602342678043,
          17.594465297936246,
          17.88632825319445,
          18.178191208452652,
          18.470054163710863,
          18.761917118969066,
          19.05378007422727,
          19.345643029485473,
          19.637505984743676,
          19.92936894000188,
          20.221231895260082,
          20.513094850518286,
          20.80495780577649,
          21.0968207610347,
          21.388683716292903,
          21.680546671551106,
          21.97240962680931,
          22.264272582067512,
          22.556135537325716,
          22.84799849258392,
          23.139861447842122,
          23.431724403100326,
          23.72358735835853,
          24.015450313616732,
          24.307313268874935,
          24.59917622413314,
          24.891039179391342,
          25.182902134649545,
          25.47476508990775,
          25.76662804516595,
          26.058491000424155,
          26.35035395568236,
          26.64221691094056,
          26.934079866198772,
          27.225942821456968,
          27.51780577671518,
          27.809668731973375,
          28.101531687231585,
          28.39339464248978,
          28.685257597748,
          28.977120553006188,
          29.268983508264405,
          29.560846463522594,
          29.85270941878081,
          30.144572374039,
          30.43643532929722,
          30.728298284555407,
          31.020161239813625,
          31.312024195071828,
          31.60388715033003,
          31.895750105588235,
          32.18761306084644,
          32.47947601610464,
          32.771338971362844,
          33.06320192662105,
          33.35506488187925,
          33.646927837137454,
          33.93879079239566,
          34.23065374765386,
          34.522516702912064
         ],
         "xaxis": "x",
         "y": [
          -0.5086346020227186,
          1.949359259219566,
          1.1032326704137994,
          3.85213798294029,
          1.4389769472702714,
          3.87635994549429,
          5.099315527776032,
          2.9676118151948874,
          1.1371285097197994,
          -0.8766013965162074,
          3.793248210109036,
          2.3662054335052147,
          2.930412445107617,
          1.4234790147471479,
          0.11756458034849437,
          1.3705251704444983,
          -0.32553079614674196,
          2.980330726567294,
          -0.4487565139177345,
          0.7139979071110787,
          0.45787784386115327,
          -0.7177559047688806,
          1.6823726479328283,
          -3.031823954217357,
          0.21734623626158545,
          1.0083880299555723,
          -1.1939460779576283,
          -1.6186306612403047,
          1.3450940746996949,
          -0.5554234155961293,
          -3.29149885975413,
          1.4310808583352,
          2.0111503588855335,
          -2.6831167298315926,
          -0.07126637132142655,
          -1.6715727954325423,
          -1.832831111375798,
          -3.7438416941385846,
          -0.33587766876840774,
          -0.41314606903721796,
          -1.6250242008518825,
          -2.6224866004724525,
          -2.0261123026569656,
          -2.0149382603126718,
          -2.092402578740696,
          -0.6676483755971461,
          -3.3666851647624387,
          -0.9258464285603409,
          -0.8279089611114046,
          -1.790681123056622,
          -1.0194012512382429,
          -2.306694131766804,
          -1.2229688223941828,
          -2.3392301391330577,
          -3.2369727189365953,
          -1.073469449473464,
          -0.3629898101238993,
          -1.4722880546352108,
          -1.7937465054599677,
          -3.302161928429392,
          -3.2292529565682813,
          -2.3834044143917588,
          -0.6473344449656544,
          -2.4042577048134,
          -1.0463099336892725,
          -1.3817574826525245,
          -0.8633093997346677,
          -1.5490383803043173,
          -0.8390241987038571,
          -0.5087062149346764,
          -1.381616022043474,
          -1.6621044114258332,
          -2.051478192178241,
          -1.5746466461379889,
          -1.2601771033938078,
          -1.2996774420434711,
          -0.8995417709496856,
          0.329588662709579,
          0.38236869119235806,
          -0.209605467119804,
          0.2974093347039357,
          0.9851342100289564,
          0.6259320776804032,
          0.4994752407009031,
          1.2396287228751888,
          1.2286266591469825,
          1.8199380835314969,
          0.36056945278897246,
          1.3430536295602806,
          1.3641115461480595,
          1.9911658739500169,
          2.9589467542087036,
          2.4507404199731653,
          2.5692194947626064,
          1.839985799025257,
          2.4209960760839806,
          3.6875872674822787,
          3.5991967435145042,
          3.754133231397745,
          3.5801494484416523
         ],
         "yaxis": "y"
        },
        {
         "hovertemplate": "<b>OLS trendline</b><br>root y residuals = -1.06685e-16 * pred + 5.70377e-15<br>R<sup>2</sup>=0.000000<br><br>pred=%{x}<br>root y residuals=%{y} <b>(trend)</b><extra></extra>",
         "legendgroup": "",
         "line": {
          "color": "red"
         },
         "marker": {
          "color": "#636efa",
          "symbol": "circle"
         },
         "mode": "lines",
         "name": "",
         "showlegend": false,
         "type": "scatter",
         "x": [
          5.628084132349898,
          5.919947087608101,
          6.211810042866304,
          6.503672998124507,
          6.795535953382711,
          7.087398908640914,
          7.379261863899117,
          7.6711248191573205,
          7.962987774415524,
          8.254850729673727,
          8.546713684931937,
          8.83857664019014,
          9.130439595448344,
          9.422302550706547,
          9.71416550596475,
          10.006028461222954,
          10.297891416481157,
          10.58975437173936,
          10.881617326997564,
          11.173480282255767,
          11.46534323751397,
          11.757206192772173,
          12.04906914803038,
          12.340932103288587,
          12.63279505854679,
          12.924658013804994,
          13.216520969063197,
          13.5083839243214,
          13.800246879579603,
          14.092109834837807,
          14.38397279009601,
          14.675835745354213,
          14.967698700612416,
          15.25956165587062,
          15.551424611128823,
          15.843287566387026,
          16.13515052164523,
          16.427013476903433,
          16.718876432161636,
          17.01073938741984,
          17.302602342678043,
          17.594465297936246,
          17.88632825319445,
          18.178191208452652,
          18.470054163710863,
          18.761917118969066,
          19.05378007422727,
          19.345643029485473,
          19.637505984743676,
          19.92936894000188,
          20.221231895260082,
          20.513094850518286,
          20.80495780577649,
          21.0968207610347,
          21.388683716292903,
          21.680546671551106,
          21.97240962680931,
          22.264272582067512,
          22.556135537325716,
          22.84799849258392,
          23.139861447842122,
          23.431724403100326,
          23.72358735835853,
          24.015450313616732,
          24.307313268874935,
          24.59917622413314,
          24.891039179391342,
          25.182902134649545,
          25.47476508990775,
          25.76662804516595,
          26.058491000424155,
          26.35035395568236,
          26.64221691094056,
          26.934079866198772,
          27.225942821456968,
          27.51780577671518,
          27.809668731973375,
          28.101531687231585,
          28.39339464248978,
          28.685257597748,
          28.977120553006188,
          29.268983508264405,
          29.560846463522594,
          29.85270941878081,
          30.144572374039,
          30.43643532929722,
          30.728298284555407,
          31.020161239813625,
          31.312024195071828,
          31.60388715033003,
          31.895750105588235,
          32.18761306084644,
          32.47947601610464,
          32.771338971362844,
          33.06320192662105,
          33.35506488187925,
          33.646927837137454,
          33.93879079239566,
          34.23065374765386,
          34.522516702912064
         ],
         "xaxis": "x",
         "y": [
          5.1033358543584066e-15,
          5.072198310862762e-15,
          5.041060767367118e-15,
          5.009923223871474e-15,
          4.9787856803758305e-15,
          4.947648136880186e-15,
          4.916510593384542e-15,
          4.8853730498888986e-15,
          4.854235506393254e-15,
          4.82309796289761e-15,
          4.791960419401966e-15,
          4.760822875906322e-15,
          4.7296853324106775e-15,
          4.698547788915033e-15,
          4.66741024541939e-15,
          4.6362727019237456e-15,
          4.605135158428102e-15,
          4.573997614932458e-15,
          4.542860071436814e-15,
          4.5117225279411695e-15,
          4.480584984445526e-15,
          4.449447440949882e-15,
          4.418309897454238e-15,
          4.387172353958593e-15,
          4.356034810462949e-15,
          4.324897266967305e-15,
          4.2937597234716615e-15,
          4.262622179976017e-15,
          4.231484636480373e-15,
          4.200347092984729e-15,
          4.1692095494890854e-15,
          4.138072005993441e-15,
          4.106934462497798e-15,
          4.0757969190021535e-15,
          4.044659375506509e-15,
          4.013521832010865e-15,
          3.982384288515221e-15,
          3.9512467450195774e-15,
          3.920109201523933e-15,
          3.88897165802829e-15,
          3.8578341145326455e-15,
          3.826696571037001e-15,
          3.795559027541357e-15,
          3.764421484045713e-15,
          3.733283940550069e-15,
          3.7021463970544244e-15,
          3.67100885355878e-15,
          3.639871310063137e-15,
          3.608733766567493e-15,
          3.577596223071849e-15,
          3.546458679576205e-15,
          3.5153211360805607e-15,
          3.484183592584917e-15,
          3.4530460490892722e-15,
          3.421908505593628e-15,
          3.390770962097984e-15,
          3.3596334186023403e-15,
          3.328495875106696e-15,
          3.2973583316110523e-15,
          3.266220788115408e-15,
          3.2350832446197642e-15,
          3.2039457011241204e-15,
          3.172808157628476e-15,
          3.1416706141328323e-15,
          3.110533070637188e-15,
          3.0793955271415443e-15,
          3.0482579836459005e-15,
          3.0171204401502562e-15,
          2.9859828966546124e-15,
          2.954845353158968e-15,
          2.9237078096633244e-15,
          2.8925702661676805e-15,
          2.8614327226720363e-15,
          2.8302951791763917e-15,
          2.7991576356807486e-15,
          2.7680200921851036e-15,
          2.7368825486894606e-15,
          2.7057450051938156e-15,
          2.6746074616981725e-15,
          2.643469918202527e-15,
          2.6123323747068845e-15,
          2.581194831211239e-15,
          2.5500572877155964e-15,
          2.518919744219951e-15,
          2.4877822007243088e-15,
          2.456644657228663e-15,
          2.4255071137330207e-15,
          2.3943695702373753e-15,
          2.363232026741731e-15,
          2.3320944832460873e-15,
          2.300956939750443e-15,
          2.2698193962547992e-15,
          2.2386818527591554e-15,
          2.207544309263511e-15,
          2.1764067657678673e-15,
          2.1452692222722235e-15,
          2.1141316787765793e-15,
          2.082994135280935e-15,
          2.0518565917852916e-15,
          2.0207190482896474e-15
         ],
         "yaxis": "y"
        }
       ],
       "layout": {
        "legend": {
         "tracegroupgap": 0
        },
        "margin": {
         "t": 60
        },
        "template": {
         "data": {
          "bar": [
           {
            "error_x": {
             "color": "#2a3f5f"
            },
            "error_y": {
             "color": "#2a3f5f"
            },
            "marker": {
             "line": {
              "color": "#E5ECF6",
              "width": 0.5
             },
             "pattern": {
              "fillmode": "overlay",
              "size": 10,
              "solidity": 0.2
             }
            },
            "type": "bar"
           }
          ],
          "barpolar": [
           {
            "marker": {
             "line": {
              "color": "#E5ECF6",
              "width": 0.5
             },
             "pattern": {
              "fillmode": "overlay",
              "size": 10,
              "solidity": 0.2
             }
            },
            "type": "barpolar"
           }
          ],
          "carpet": [
           {
            "aaxis": {
             "endlinecolor": "#2a3f5f",
             "gridcolor": "white",
             "linecolor": "white",
             "minorgridcolor": "white",
             "startlinecolor": "#2a3f5f"
            },
            "baxis": {
             "endlinecolor": "#2a3f5f",
             "gridcolor": "white",
             "linecolor": "white",
             "minorgridcolor": "white",
             "startlinecolor": "#2a3f5f"
            },
            "type": "carpet"
           }
          ],
          "choropleth": [
           {
            "colorbar": {
             "outlinewidth": 0,
             "ticks": ""
            },
            "type": "choropleth"
           }
          ],
          "contour": [
           {
            "colorbar": {
             "outlinewidth": 0,
             "ticks": ""
            },
            "colorscale": [
             [
              0,
              "#0d0887"
             ],
             [
              0.1111111111111111,
              "#46039f"
             ],
             [
              0.2222222222222222,
              "#7201a8"
             ],
             [
              0.3333333333333333,
              "#9c179e"
             ],
             [
              0.4444444444444444,
              "#bd3786"
             ],
             [
              0.5555555555555556,
              "#d8576b"
             ],
             [
              0.6666666666666666,
              "#ed7953"
             ],
             [
              0.7777777777777778,
              "#fb9f3a"
             ],
             [
              0.8888888888888888,
              "#fdca26"
             ],
             [
              1,
              "#f0f921"
             ]
            ],
            "type": "contour"
           }
          ],
          "contourcarpet": [
           {
            "colorbar": {
             "outlinewidth": 0,
             "ticks": ""
            },
            "type": "contourcarpet"
           }
          ],
          "heatmap": [
           {
            "colorbar": {
             "outlinewidth": 0,
             "ticks": ""
            },
            "colorscale": [
             [
              0,
              "#0d0887"
             ],
             [
              0.1111111111111111,
              "#46039f"
             ],
             [
              0.2222222222222222,
              "#7201a8"
             ],
             [
              0.3333333333333333,
              "#9c179e"
             ],
             [
              0.4444444444444444,
              "#bd3786"
             ],
             [
              0.5555555555555556,
              "#d8576b"
             ],
             [
              0.6666666666666666,
              "#ed7953"
             ],
             [
              0.7777777777777778,
              "#fb9f3a"
             ],
             [
              0.8888888888888888,
              "#fdca26"
             ],
             [
              1,
              "#f0f921"
             ]
            ],
            "type": "heatmap"
           }
          ],
          "heatmapgl": [
           {
            "colorbar": {
             "outlinewidth": 0,
             "ticks": ""
            },
            "colorscale": [
             [
              0,
              "#0d0887"
             ],
             [
              0.1111111111111111,
              "#46039f"
             ],
             [
              0.2222222222222222,
              "#7201a8"
             ],
             [
              0.3333333333333333,
              "#9c179e"
             ],
             [
              0.4444444444444444,
              "#bd3786"
             ],
             [
              0.5555555555555556,
              "#d8576b"
             ],
             [
              0.6666666666666666,
              "#ed7953"
             ],
             [
              0.7777777777777778,
              "#fb9f3a"
             ],
             [
              0.8888888888888888,
              "#fdca26"
             ],
             [
              1,
              "#f0f921"
             ]
            ],
            "type": "heatmapgl"
           }
          ],
          "histogram": [
           {
            "marker": {
             "pattern": {
              "fillmode": "overlay",
              "size": 10,
              "solidity": 0.2
             }
            },
            "type": "histogram"
           }
          ],
          "histogram2d": [
           {
            "colorbar": {
             "outlinewidth": 0,
             "ticks": ""
            },
            "colorscale": [
             [
              0,
              "#0d0887"
             ],
             [
              0.1111111111111111,
              "#46039f"
             ],
             [
              0.2222222222222222,
              "#7201a8"
             ],
             [
              0.3333333333333333,
              "#9c179e"
             ],
             [
              0.4444444444444444,
              "#bd3786"
             ],
             [
              0.5555555555555556,
              "#d8576b"
             ],
             [
              0.6666666666666666,
              "#ed7953"
             ],
             [
              0.7777777777777778,
              "#fb9f3a"
             ],
             [
              0.8888888888888888,
              "#fdca26"
             ],
             [
              1,
              "#f0f921"
             ]
            ],
            "type": "histogram2d"
           }
          ],
          "histogram2dcontour": [
           {
            "colorbar": {
             "outlinewidth": 0,
             "ticks": ""
            },
            "colorscale": [
             [
              0,
              "#0d0887"
             ],
             [
              0.1111111111111111,
              "#46039f"
             ],
             [
              0.2222222222222222,
              "#7201a8"
             ],
             [
              0.3333333333333333,
              "#9c179e"
             ],
             [
              0.4444444444444444,
              "#bd3786"
             ],
             [
              0.5555555555555556,
              "#d8576b"
             ],
             [
              0.6666666666666666,
              "#ed7953"
             ],
             [
              0.7777777777777778,
              "#fb9f3a"
             ],
             [
              0.8888888888888888,
              "#fdca26"
             ],
             [
              1,
              "#f0f921"
             ]
            ],
            "type": "histogram2dcontour"
           }
          ],
          "mesh3d": [
           {
            "colorbar": {
             "outlinewidth": 0,
             "ticks": ""
            },
            "type": "mesh3d"
           }
          ],
          "parcoords": [
           {
            "line": {
             "colorbar": {
              "outlinewidth": 0,
              "ticks": ""
             }
            },
            "type": "parcoords"
           }
          ],
          "pie": [
           {
            "automargin": true,
            "type": "pie"
           }
          ],
          "scatter": [
           {
            "fillpattern": {
             "fillmode": "overlay",
             "size": 10,
             "solidity": 0.2
            },
            "type": "scatter"
           }
          ],
          "scatter3d": [
           {
            "line": {
             "colorbar": {
              "outlinewidth": 0,
              "ticks": ""
             }
            },
            "marker": {
             "colorbar": {
              "outlinewidth": 0,
              "ticks": ""
             }
            },
            "type": "scatter3d"
           }
          ],
          "scattercarpet": [
           {
            "marker": {
             "colorbar": {
              "outlinewidth": 0,
              "ticks": ""
             }
            },
            "type": "scattercarpet"
           }
          ],
          "scattergeo": [
           {
            "marker": {
             "colorbar": {
              "outlinewidth": 0,
              "ticks": ""
             }
            },
            "type": "scattergeo"
           }
          ],
          "scattergl": [
           {
            "marker": {
             "colorbar": {
              "outlinewidth": 0,
              "ticks": ""
             }
            },
            "type": "scattergl"
           }
          ],
          "scattermapbox": [
           {
            "marker": {
             "colorbar": {
              "outlinewidth": 0,
              "ticks": ""
             }
            },
            "type": "scattermapbox"
           }
          ],
          "scatterpolar": [
           {
            "marker": {
             "colorbar": {
              "outlinewidth": 0,
              "ticks": ""
             }
            },
            "type": "scatterpolar"
           }
          ],
          "scatterpolargl": [
           {
            "marker": {
             "colorbar": {
              "outlinewidth": 0,
              "ticks": ""
             }
            },
            "type": "scatterpolargl"
           }
          ],
          "scatterternary": [
           {
            "marker": {
             "colorbar": {
              "outlinewidth": 0,
              "ticks": ""
             }
            },
            "type": "scatterternary"
           }
          ],
          "surface": [
           {
            "colorbar": {
             "outlinewidth": 0,
             "ticks": ""
            },
            "colorscale": [
             [
              0,
              "#0d0887"
             ],
             [
              0.1111111111111111,
              "#46039f"
             ],
             [
              0.2222222222222222,
              "#7201a8"
             ],
             [
              0.3333333333333333,
              "#9c179e"
             ],
             [
              0.4444444444444444,
              "#bd3786"
             ],
             [
              0.5555555555555556,
              "#d8576b"
             ],
             [
              0.6666666666666666,
              "#ed7953"
             ],
             [
              0.7777777777777778,
              "#fb9f3a"
             ],
             [
              0.8888888888888888,
              "#fdca26"
             ],
             [
              1,
              "#f0f921"
             ]
            ],
            "type": "surface"
           }
          ],
          "table": [
           {
            "cells": {
             "fill": {
              "color": "#EBF0F8"
             },
             "line": {
              "color": "white"
             }
            },
            "header": {
             "fill": {
              "color": "#C8D4E3"
             },
             "line": {
              "color": "white"
             }
            },
            "type": "table"
           }
          ]
         },
         "layout": {
          "annotationdefaults": {
           "arrowcolor": "#2a3f5f",
           "arrowhead": 0,
           "arrowwidth": 1
          },
          "autotypenumbers": "strict",
          "coloraxis": {
           "colorbar": {
            "outlinewidth": 0,
            "ticks": ""
           }
          },
          "colorscale": {
           "diverging": [
            [
             0,
             "#8e0152"
            ],
            [
             0.1,
             "#c51b7d"
            ],
            [
             0.2,
             "#de77ae"
            ],
            [
             0.3,
             "#f1b6da"
            ],
            [
             0.4,
             "#fde0ef"
            ],
            [
             0.5,
             "#f7f7f7"
            ],
            [
             0.6,
             "#e6f5d0"
            ],
            [
             0.7,
             "#b8e186"
            ],
            [
             0.8,
             "#7fbc41"
            ],
            [
             0.9,
             "#4d9221"
            ],
            [
             1,
             "#276419"
            ]
           ],
           "sequential": [
            [
             0,
             "#0d0887"
            ],
            [
             0.1111111111111111,
             "#46039f"
            ],
            [
             0.2222222222222222,
             "#7201a8"
            ],
            [
             0.3333333333333333,
             "#9c179e"
            ],
            [
             0.4444444444444444,
             "#bd3786"
            ],
            [
             0.5555555555555556,
             "#d8576b"
            ],
            [
             0.6666666666666666,
             "#ed7953"
            ],
            [
             0.7777777777777778,
             "#fb9f3a"
            ],
            [
             0.8888888888888888,
             "#fdca26"
            ],
            [
             1,
             "#f0f921"
            ]
           ],
           "sequentialminus": [
            [
             0,
             "#0d0887"
            ],
            [
             0.1111111111111111,
             "#46039f"
            ],
            [
             0.2222222222222222,
             "#7201a8"
            ],
            [
             0.3333333333333333,
             "#9c179e"
            ],
            [
             0.4444444444444444,
             "#bd3786"
            ],
            [
             0.5555555555555556,
             "#d8576b"
            ],
            [
             0.6666666666666666,
             "#ed7953"
            ],
            [
             0.7777777777777778,
             "#fb9f3a"
            ],
            [
             0.8888888888888888,
             "#fdca26"
            ],
            [
             1,
             "#f0f921"
            ]
           ]
          },
          "colorway": [
           "#636efa",
           "#EF553B",
           "#00cc96",
           "#ab63fa",
           "#FFA15A",
           "#19d3f3",
           "#FF6692",
           "#B6E880",
           "#FF97FF",
           "#FECB52"
          ],
          "font": {
           "color": "#2a3f5f"
          },
          "geo": {
           "bgcolor": "white",
           "lakecolor": "white",
           "landcolor": "#E5ECF6",
           "showlakes": true,
           "showland": true,
           "subunitcolor": "white"
          },
          "hoverlabel": {
           "align": "left"
          },
          "hovermode": "closest",
          "mapbox": {
           "style": "light"
          },
          "paper_bgcolor": "white",
          "plot_bgcolor": "#E5ECF6",
          "polar": {
           "angularaxis": {
            "gridcolor": "white",
            "linecolor": "white",
            "ticks": ""
           },
           "bgcolor": "#E5ECF6",
           "radialaxis": {
            "gridcolor": "white",
            "linecolor": "white",
            "ticks": ""
           }
          },
          "scene": {
           "xaxis": {
            "backgroundcolor": "#E5ECF6",
            "gridcolor": "white",
            "gridwidth": 2,
            "linecolor": "white",
            "showbackground": true,
            "ticks": "",
            "zerolinecolor": "white"
           },
           "yaxis": {
            "backgroundcolor": "#E5ECF6",
            "gridcolor": "white",
            "gridwidth": 2,
            "linecolor": "white",
            "showbackground": true,
            "ticks": "",
            "zerolinecolor": "white"
           },
           "zaxis": {
            "backgroundcolor": "#E5ECF6",
            "gridcolor": "white",
            "gridwidth": 2,
            "linecolor": "white",
            "showbackground": true,
            "ticks": "",
            "zerolinecolor": "white"
           }
          },
          "shapedefaults": {
           "line": {
            "color": "#2a3f5f"
           }
          },
          "ternary": {
           "aaxis": {
            "gridcolor": "white",
            "linecolor": "white",
            "ticks": ""
           },
           "baxis": {
            "gridcolor": "white",
            "linecolor": "white",
            "ticks": ""
           },
           "bgcolor": "#E5ECF6",
           "caxis": {
            "gridcolor": "white",
            "linecolor": "white",
            "ticks": ""
           }
          },
          "title": {
           "x": 0.05
          },
          "xaxis": {
           "automargin": true,
           "gridcolor": "white",
           "linecolor": "white",
           "ticks": "",
           "title": {
            "standoff": 15
           },
           "zerolinecolor": "white",
           "zerolinewidth": 2
          },
          "yaxis": {
           "automargin": true,
           "gridcolor": "white",
           "linecolor": "white",
           "ticks": "",
           "title": {
            "standoff": 15
           },
           "zerolinecolor": "white",
           "zerolinewidth": 2
          }
         }
        },
        "xaxis": {
         "anchor": "y",
         "domain": [
          0,
          1
         ],
         "title": {
          "text": "pred"
         }
        },
        "yaxis": {
         "anchor": "x",
         "domain": [
          0,
          1
         ],
         "title": {
          "text": "root y residuals"
         }
        }
       }
      }
     },
     "metadata": {},
     "output_type": "display_data"
    }
   ],
   "source": [
    "# Feel free to use this function directly to help you answer Question 1.\n",
    "def create_residual_plot(df, x, y):\n",
    "    df = df.copy()\n",
    "    from sklearn.linear_model import LinearRegression\n",
    "    model = LinearRegression()\n",
    "    model.fit(df[[x]], df[y])\n",
    "    df['pred'] = model.predict(df[[x]])\n",
    "    df[f'{y} residuals'] = df[y] - model.predict(df[[x]])\n",
    "    return px.scatter(df, x='pred', y=f'{y} residuals', trendline='ols', trendline_color_override='red')\n",
    "\n",
    "create_residual_plot(df_2, 'x', 'root y')"
   ]
  },
  {
   "cell_type": "markdown",
   "id": "0fb359da",
   "metadata": {},
   "source": [
    "There is clearly a pattern in the residual plot. Let's instead try another transformation for the `'y'` values – $\\log$."
   ]
  },
  {
   "cell_type": "code",
   "execution_count": 243,
   "id": "65308c52",
   "metadata": {},
   "outputs": [
    {
     "data": {
      "application/vnd.plotly.v1+json": {
       "config": {
        "plotlyServerURL": "https://plot.ly"
       },
       "data": [
        {
         "hovertemplate": "x=%{x}<br>log y=%{y}<extra></extra>",
         "legendgroup": "",
         "marker": {
          "color": "#636efa",
          "symbol": "circle"
         },
         "mode": "markers",
         "name": "",
         "orientation": "v",
         "showlegend": false,
         "type": "scatter",
         "x": [
          2,
          2.0303030303030303,
          2.0606060606060606,
          2.090909090909091,
          2.121212121212121,
          2.1515151515151514,
          2.1818181818181817,
          2.212121212121212,
          2.242424242424242,
          2.2727272727272725,
          2.303030303030303,
          2.3333333333333335,
          2.3636363636363638,
          2.393939393939394,
          2.4242424242424243,
          2.4545454545454546,
          2.484848484848485,
          2.515151515151515,
          2.5454545454545454,
          2.5757575757575757,
          2.606060606060606,
          2.6363636363636362,
          2.666666666666667,
          2.6969696969696972,
          2.7272727272727275,
          2.757575757575758,
          2.787878787878788,
          2.8181818181818183,
          2.8484848484848486,
          2.878787878787879,
          2.909090909090909,
          2.9393939393939394,
          2.9696969696969697,
          3,
          3.0303030303030303,
          3.0606060606060606,
          3.090909090909091,
          3.121212121212121,
          3.1515151515151514,
          3.1818181818181817,
          3.212121212121212,
          3.242424242424242,
          3.2727272727272725,
          3.3030303030303028,
          3.3333333333333335,
          3.3636363636363638,
          3.393939393939394,
          3.4242424242424243,
          3.4545454545454546,
          3.484848484848485,
          3.515151515151515,
          3.5454545454545454,
          3.5757575757575757,
          3.6060606060606064,
          3.6363636363636367,
          3.666666666666667,
          3.6969696969696972,
          3.7272727272727275,
          3.757575757575758,
          3.787878787878788,
          3.8181818181818183,
          3.8484848484848486,
          3.878787878787879,
          3.909090909090909,
          3.9393939393939394,
          3.9696969696969697,
          4,
          4.03030303030303,
          4.0606060606060606,
          4.090909090909091,
          4.121212121212121,
          4.151515151515151,
          4.181818181818182,
          4.212121212121213,
          4.242424242424242,
          4.272727272727273,
          4.303030303030303,
          4.333333333333334,
          4.363636363636363,
          4.3939393939393945,
          4.424242424242424,
          4.454545454545455,
          4.484848484848484,
          4.515151515151516,
          4.545454545454545,
          4.575757575757576,
          4.6060606060606055,
          4.636363636363637,
          4.666666666666667,
          4.696969696969697,
          4.7272727272727275,
          4.757575757575758,
          4.787878787878788,
          4.818181818181818,
          4.848484848484849,
          4.878787878787879,
          4.909090909090909,
          4.9393939393939394,
          4.96969696969697,
          5
         ],
         "xaxis": "x",
         "y": [
          3.266093839326883,
          4.125939839282246,
          3.979865747182152,
          4.675095619209207,
          4.216668423979663,
          4.789190367731725,
          5.048026730784274,
          4.729003478981491,
          4.416574383835139,
          3.9970727854849435,
          5.025685861100698,
          4.832681316081167,
          4.979929677864909,
          4.767552417150124,
          4.571229838630043,
          4.863109077028274,
          4.599634656596182,
          5.215735489777539,
          4.689921036742463,
          4.950971186232496,
          4.956975700161192,
          4.802950493711848,
          5.2393764497952375,
          4.461986583512666,
          5.106709613971417,
          5.26852686356234,
          4.973572246791815,
          4.951353917708318,
          5.435385913777346,
          5.210807024439006,
          4.812533708124681,
          5.55849756490244,
          5.6639367929194755,
          5.0636512280799195,
          5.479118180638229,
          5.302496121125299,
          5.320843441271531,
          5.080552116651468,
          5.592488272714058,
          5.618515408062877,
          5.504463095504288,
          5.4123607344322995,
          5.527627664326052,
          5.565480658262718,
          5.591835394530788,
          5.791190488233757,
          5.505676788108724,
          5.826851976942283,
          5.868734439131527,
          5.796094211257514,
          5.91001124106279,
          5.8035464401971275,
          5.949220428685453,
          5.86319700732334,
          5.797529652189065,
          6.051269142528,
          6.146258644498665,
          6.0691351063585,
          6.066286260565806,
          5.945524600562156,
          5.98250535940441,
          6.093641492861409,
          6.277608152706682,
          6.146422713633221,
          6.29355656361754,
          6.289805609559024,
          6.35841714172822,
          6.32536117676897,
          6.408396540566081,
          6.458279684734624,
          6.4117331387969285,
          6.412654806973573,
          6.40473979441362,
          6.466301559905172,
          6.513557934509585,
          6.532902185341274,
          6.585005365428888,
          6.6949686644012125,
          6.719066963850651,
          6.698098821873572,
          6.753435701730017,
          6.819264596263511,
          6.814808063741968,
          6.82573699421083,
          6.892609233024158,
          6.910427855198655,
          6.965446369893268,
          6.8923880646604765,
          6.972000733179268,
          6.991074708995021,
          7.046057961158571,
          7.119053483836025,
          7.1067045101600845,
          7.13006253886023,
          7.105156327761954,
          7.154557962819701,
          7.239836473428035,
          7.250706842389481,
          7.274371473822666,
          7.280568514820295
         ],
         "yaxis": "y"
        },
        {
         "hovertemplate": "<b>OLS trendline</b><br>log y = 1.01038 * x + 2.26617<br>R<sup>2</sup>=0.948153<br><br>x=%{x}<br>log y=%{y} <b>(trend)</b><extra></extra>",
         "legendgroup": "",
         "line": {
          "color": "red"
         },
         "marker": {
          "color": "#636efa",
          "symbol": "circle"
         },
         "mode": "lines",
         "name": "",
         "showlegend": false,
         "type": "scatter",
         "x": [
          2,
          2.0303030303030303,
          2.0606060606060606,
          2.090909090909091,
          2.121212121212121,
          2.1515151515151514,
          2.1818181818181817,
          2.212121212121212,
          2.242424242424242,
          2.2727272727272725,
          2.303030303030303,
          2.3333333333333335,
          2.3636363636363638,
          2.393939393939394,
          2.4242424242424243,
          2.4545454545454546,
          2.484848484848485,
          2.515151515151515,
          2.5454545454545454,
          2.5757575757575757,
          2.606060606060606,
          2.6363636363636362,
          2.666666666666667,
          2.6969696969696972,
          2.7272727272727275,
          2.757575757575758,
          2.787878787878788,
          2.8181818181818183,
          2.8484848484848486,
          2.878787878787879,
          2.909090909090909,
          2.9393939393939394,
          2.9696969696969697,
          3,
          3.0303030303030303,
          3.0606060606060606,
          3.090909090909091,
          3.121212121212121,
          3.1515151515151514,
          3.1818181818181817,
          3.212121212121212,
          3.242424242424242,
          3.2727272727272725,
          3.3030303030303028,
          3.3333333333333335,
          3.3636363636363638,
          3.393939393939394,
          3.4242424242424243,
          3.4545454545454546,
          3.484848484848485,
          3.515151515151515,
          3.5454545454545454,
          3.5757575757575757,
          3.6060606060606064,
          3.6363636363636367,
          3.666666666666667,
          3.6969696969696972,
          3.7272727272727275,
          3.757575757575758,
          3.787878787878788,
          3.8181818181818183,
          3.8484848484848486,
          3.878787878787879,
          3.909090909090909,
          3.9393939393939394,
          3.9696969696969697,
          4,
          4.03030303030303,
          4.0606060606060606,
          4.090909090909091,
          4.121212121212121,
          4.151515151515151,
          4.181818181818182,
          4.212121212121213,
          4.242424242424242,
          4.272727272727273,
          4.303030303030303,
          4.333333333333334,
          4.363636363636363,
          4.3939393939393945,
          4.424242424242424,
          4.454545454545455,
          4.484848484848484,
          4.515151515151516,
          4.545454545454545,
          4.575757575757576,
          4.6060606060606055,
          4.636363636363637,
          4.666666666666667,
          4.696969696969697,
          4.7272727272727275,
          4.757575757575758,
          4.787878787878788,
          4.818181818181818,
          4.848484848484849,
          4.878787878787879,
          4.909090909090909,
          4.9393939393939394,
          4.96969696969697,
          5
         ],
         "xaxis": "x",
         "y": [
          4.286930502750646,
          4.317548037133593,
          4.34816557151654,
          4.378783105899487,
          4.409400640282434,
          4.440018174665381,
          4.470635709048327,
          4.501253243431275,
          4.5318707778142215,
          4.562488312197169,
          4.593105846580116,
          4.623723380963064,
          4.65434091534601,
          4.684958449728957,
          4.715575984111904,
          4.746193518494851,
          4.7768110528777985,
          4.807428587260745,
          4.838046121643693,
          4.868663656026639,
          4.899281190409586,
          4.929898724792533,
          4.960516259175481,
          4.9911337935584275,
          5.021751327941375,
          5.052368862324322,
          5.082986396707269,
          5.113603931090216,
          5.144221465473162,
          5.17483899985611,
          5.205456534239056,
          5.2360740686220035,
          5.266691603004951,
          5.297309137387898,
          5.327926671770845,
          5.358544206153791,
          5.389161740536739,
          5.419779274919685,
          5.4503968093026325,
          5.48101434368558,
          5.511631878068526,
          5.542249412451474,
          5.57286694683442,
          5.603484481217368,
          5.634102015600314,
          5.664719549983262,
          5.695337084366209,
          5.725954618749156,
          5.756572153132103,
          5.78718968751505,
          5.817807221897997,
          5.848424756280943,
          5.879042290663891,
          5.909659825046838,
          5.9402773594297855,
          5.970894893812732,
          6.00151242819568,
          6.032129962578626,
          6.062747496961573,
          6.09336503134452,
          6.123982565727467,
          6.1546001001104145,
          6.185217634493361,
          6.215835168876309,
          6.246452703259255,
          6.277070237642202,
          6.307687772025149,
          6.338305306408096,
          6.368922840791043,
          6.3995403751739905,
          6.430157909556937,
          6.460775443939884,
          6.491392978322831,
          6.522010512705779,
          6.552628047088725,
          6.583245581471673,
          6.6138631158546195,
          6.644480650237567,
          6.675098184620513,
          6.705715719003461,
          6.736333253386407,
          6.766950787769355,
          6.797568322152301,
          6.828185856535249,
          6.858803390918195,
          6.889420925301143,
          6.920038459684089,
          6.950655994067037,
          6.981273528449984,
          7.011891062832931,
          7.042508597215878,
          7.0731261315988245,
          7.103743665981772,
          7.134361200364719,
          7.164978734747666,
          7.195596269130613,
          7.22621380351356,
          7.256831337896507,
          7.2874488722794535,
          7.318066406662401
         ],
         "yaxis": "y"
        }
       ],
       "layout": {
        "legend": {
         "tracegroupgap": 0
        },
        "margin": {
         "t": 60
        },
        "template": {
         "data": {
          "bar": [
           {
            "error_x": {
             "color": "#2a3f5f"
            },
            "error_y": {
             "color": "#2a3f5f"
            },
            "marker": {
             "line": {
              "color": "#E5ECF6",
              "width": 0.5
             },
             "pattern": {
              "fillmode": "overlay",
              "size": 10,
              "solidity": 0.2
             }
            },
            "type": "bar"
           }
          ],
          "barpolar": [
           {
            "marker": {
             "line": {
              "color": "#E5ECF6",
              "width": 0.5
             },
             "pattern": {
              "fillmode": "overlay",
              "size": 10,
              "solidity": 0.2
             }
            },
            "type": "barpolar"
           }
          ],
          "carpet": [
           {
            "aaxis": {
             "endlinecolor": "#2a3f5f",
             "gridcolor": "white",
             "linecolor": "white",
             "minorgridcolor": "white",
             "startlinecolor": "#2a3f5f"
            },
            "baxis": {
             "endlinecolor": "#2a3f5f",
             "gridcolor": "white",
             "linecolor": "white",
             "minorgridcolor": "white",
             "startlinecolor": "#2a3f5f"
            },
            "type": "carpet"
           }
          ],
          "choropleth": [
           {
            "colorbar": {
             "outlinewidth": 0,
             "ticks": ""
            },
            "type": "choropleth"
           }
          ],
          "contour": [
           {
            "colorbar": {
             "outlinewidth": 0,
             "ticks": ""
            },
            "colorscale": [
             [
              0,
              "#0d0887"
             ],
             [
              0.1111111111111111,
              "#46039f"
             ],
             [
              0.2222222222222222,
              "#7201a8"
             ],
             [
              0.3333333333333333,
              "#9c179e"
             ],
             [
              0.4444444444444444,
              "#bd3786"
             ],
             [
              0.5555555555555556,
              "#d8576b"
             ],
             [
              0.6666666666666666,
              "#ed7953"
             ],
             [
              0.7777777777777778,
              "#fb9f3a"
             ],
             [
              0.8888888888888888,
              "#fdca26"
             ],
             [
              1,
              "#f0f921"
             ]
            ],
            "type": "contour"
           }
          ],
          "contourcarpet": [
           {
            "colorbar": {
             "outlinewidth": 0,
             "ticks": ""
            },
            "type": "contourcarpet"
           }
          ],
          "heatmap": [
           {
            "colorbar": {
             "outlinewidth": 0,
             "ticks": ""
            },
            "colorscale": [
             [
              0,
              "#0d0887"
             ],
             [
              0.1111111111111111,
              "#46039f"
             ],
             [
              0.2222222222222222,
              "#7201a8"
             ],
             [
              0.3333333333333333,
              "#9c179e"
             ],
             [
              0.4444444444444444,
              "#bd3786"
             ],
             [
              0.5555555555555556,
              "#d8576b"
             ],
             [
              0.6666666666666666,
              "#ed7953"
             ],
             [
              0.7777777777777778,
              "#fb9f3a"
             ],
             [
              0.8888888888888888,
              "#fdca26"
             ],
             [
              1,
              "#f0f921"
             ]
            ],
            "type": "heatmap"
           }
          ],
          "heatmapgl": [
           {
            "colorbar": {
             "outlinewidth": 0,
             "ticks": ""
            },
            "colorscale": [
             [
              0,
              "#0d0887"
             ],
             [
              0.1111111111111111,
              "#46039f"
             ],
             [
              0.2222222222222222,
              "#7201a8"
             ],
             [
              0.3333333333333333,
              "#9c179e"
             ],
             [
              0.4444444444444444,
              "#bd3786"
             ],
             [
              0.5555555555555556,
              "#d8576b"
             ],
             [
              0.6666666666666666,
              "#ed7953"
             ],
             [
              0.7777777777777778,
              "#fb9f3a"
             ],
             [
              0.8888888888888888,
              "#fdca26"
             ],
             [
              1,
              "#f0f921"
             ]
            ],
            "type": "heatmapgl"
           }
          ],
          "histogram": [
           {
            "marker": {
             "pattern": {
              "fillmode": "overlay",
              "size": 10,
              "solidity": 0.2
             }
            },
            "type": "histogram"
           }
          ],
          "histogram2d": [
           {
            "colorbar": {
             "outlinewidth": 0,
             "ticks": ""
            },
            "colorscale": [
             [
              0,
              "#0d0887"
             ],
             [
              0.1111111111111111,
              "#46039f"
             ],
             [
              0.2222222222222222,
              "#7201a8"
             ],
             [
              0.3333333333333333,
              "#9c179e"
             ],
             [
              0.4444444444444444,
              "#bd3786"
             ],
             [
              0.5555555555555556,
              "#d8576b"
             ],
             [
              0.6666666666666666,
              "#ed7953"
             ],
             [
              0.7777777777777778,
              "#fb9f3a"
             ],
             [
              0.8888888888888888,
              "#fdca26"
             ],
             [
              1,
              "#f0f921"
             ]
            ],
            "type": "histogram2d"
           }
          ],
          "histogram2dcontour": [
           {
            "colorbar": {
             "outlinewidth": 0,
             "ticks": ""
            },
            "colorscale": [
             [
              0,
              "#0d0887"
             ],
             [
              0.1111111111111111,
              "#46039f"
             ],
             [
              0.2222222222222222,
              "#7201a8"
             ],
             [
              0.3333333333333333,
              "#9c179e"
             ],
             [
              0.4444444444444444,
              "#bd3786"
             ],
             [
              0.5555555555555556,
              "#d8576b"
             ],
             [
              0.6666666666666666,
              "#ed7953"
             ],
             [
              0.7777777777777778,
              "#fb9f3a"
             ],
             [
              0.8888888888888888,
              "#fdca26"
             ],
             [
              1,
              "#f0f921"
             ]
            ],
            "type": "histogram2dcontour"
           }
          ],
          "mesh3d": [
           {
            "colorbar": {
             "outlinewidth": 0,
             "ticks": ""
            },
            "type": "mesh3d"
           }
          ],
          "parcoords": [
           {
            "line": {
             "colorbar": {
              "outlinewidth": 0,
              "ticks": ""
             }
            },
            "type": "parcoords"
           }
          ],
          "pie": [
           {
            "automargin": true,
            "type": "pie"
           }
          ],
          "scatter": [
           {
            "fillpattern": {
             "fillmode": "overlay",
             "size": 10,
             "solidity": 0.2
            },
            "type": "scatter"
           }
          ],
          "scatter3d": [
           {
            "line": {
             "colorbar": {
              "outlinewidth": 0,
              "ticks": ""
             }
            },
            "marker": {
             "colorbar": {
              "outlinewidth": 0,
              "ticks": ""
             }
            },
            "type": "scatter3d"
           }
          ],
          "scattercarpet": [
           {
            "marker": {
             "colorbar": {
              "outlinewidth": 0,
              "ticks": ""
             }
            },
            "type": "scattercarpet"
           }
          ],
          "scattergeo": [
           {
            "marker": {
             "colorbar": {
              "outlinewidth": 0,
              "ticks": ""
             }
            },
            "type": "scattergeo"
           }
          ],
          "scattergl": [
           {
            "marker": {
             "colorbar": {
              "outlinewidth": 0,
              "ticks": ""
             }
            },
            "type": "scattergl"
           }
          ],
          "scattermapbox": [
           {
            "marker": {
             "colorbar": {
              "outlinewidth": 0,
              "ticks": ""
             }
            },
            "type": "scattermapbox"
           }
          ],
          "scatterpolar": [
           {
            "marker": {
             "colorbar": {
              "outlinewidth": 0,
              "ticks": ""
             }
            },
            "type": "scatterpolar"
           }
          ],
          "scatterpolargl": [
           {
            "marker": {
             "colorbar": {
              "outlinewidth": 0,
              "ticks": ""
             }
            },
            "type": "scatterpolargl"
           }
          ],
          "scatterternary": [
           {
            "marker": {
             "colorbar": {
              "outlinewidth": 0,
              "ticks": ""
             }
            },
            "type": "scatterternary"
           }
          ],
          "surface": [
           {
            "colorbar": {
             "outlinewidth": 0,
             "ticks": ""
            },
            "colorscale": [
             [
              0,
              "#0d0887"
             ],
             [
              0.1111111111111111,
              "#46039f"
             ],
             [
              0.2222222222222222,
              "#7201a8"
             ],
             [
              0.3333333333333333,
              "#9c179e"
             ],
             [
              0.4444444444444444,
              "#bd3786"
             ],
             [
              0.5555555555555556,
              "#d8576b"
             ],
             [
              0.6666666666666666,
              "#ed7953"
             ],
             [
              0.7777777777777778,
              "#fb9f3a"
             ],
             [
              0.8888888888888888,
              "#fdca26"
             ],
             [
              1,
              "#f0f921"
             ]
            ],
            "type": "surface"
           }
          ],
          "table": [
           {
            "cells": {
             "fill": {
              "color": "#EBF0F8"
             },
             "line": {
              "color": "white"
             }
            },
            "header": {
             "fill": {
              "color": "#C8D4E3"
             },
             "line": {
              "color": "white"
             }
            },
            "type": "table"
           }
          ]
         },
         "layout": {
          "annotationdefaults": {
           "arrowcolor": "#2a3f5f",
           "arrowhead": 0,
           "arrowwidth": 1
          },
          "autotypenumbers": "strict",
          "coloraxis": {
           "colorbar": {
            "outlinewidth": 0,
            "ticks": ""
           }
          },
          "colorscale": {
           "diverging": [
            [
             0,
             "#8e0152"
            ],
            [
             0.1,
             "#c51b7d"
            ],
            [
             0.2,
             "#de77ae"
            ],
            [
             0.3,
             "#f1b6da"
            ],
            [
             0.4,
             "#fde0ef"
            ],
            [
             0.5,
             "#f7f7f7"
            ],
            [
             0.6,
             "#e6f5d0"
            ],
            [
             0.7,
             "#b8e186"
            ],
            [
             0.8,
             "#7fbc41"
            ],
            [
             0.9,
             "#4d9221"
            ],
            [
             1,
             "#276419"
            ]
           ],
           "sequential": [
            [
             0,
             "#0d0887"
            ],
            [
             0.1111111111111111,
             "#46039f"
            ],
            [
             0.2222222222222222,
             "#7201a8"
            ],
            [
             0.3333333333333333,
             "#9c179e"
            ],
            [
             0.4444444444444444,
             "#bd3786"
            ],
            [
             0.5555555555555556,
             "#d8576b"
            ],
            [
             0.6666666666666666,
             "#ed7953"
            ],
            [
             0.7777777777777778,
             "#fb9f3a"
            ],
            [
             0.8888888888888888,
             "#fdca26"
            ],
            [
             1,
             "#f0f921"
            ]
           ],
           "sequentialminus": [
            [
             0,
             "#0d0887"
            ],
            [
             0.1111111111111111,
             "#46039f"
            ],
            [
             0.2222222222222222,
             "#7201a8"
            ],
            [
             0.3333333333333333,
             "#9c179e"
            ],
            [
             0.4444444444444444,
             "#bd3786"
            ],
            [
             0.5555555555555556,
             "#d8576b"
            ],
            [
             0.6666666666666666,
             "#ed7953"
            ],
            [
             0.7777777777777778,
             "#fb9f3a"
            ],
            [
             0.8888888888888888,
             "#fdca26"
            ],
            [
             1,
             "#f0f921"
            ]
           ]
          },
          "colorway": [
           "#636efa",
           "#EF553B",
           "#00cc96",
           "#ab63fa",
           "#FFA15A",
           "#19d3f3",
           "#FF6692",
           "#B6E880",
           "#FF97FF",
           "#FECB52"
          ],
          "font": {
           "color": "#2a3f5f"
          },
          "geo": {
           "bgcolor": "white",
           "lakecolor": "white",
           "landcolor": "#E5ECF6",
           "showlakes": true,
           "showland": true,
           "subunitcolor": "white"
          },
          "hoverlabel": {
           "align": "left"
          },
          "hovermode": "closest",
          "mapbox": {
           "style": "light"
          },
          "paper_bgcolor": "white",
          "plot_bgcolor": "#E5ECF6",
          "polar": {
           "angularaxis": {
            "gridcolor": "white",
            "linecolor": "white",
            "ticks": ""
           },
           "bgcolor": "#E5ECF6",
           "radialaxis": {
            "gridcolor": "white",
            "linecolor": "white",
            "ticks": ""
           }
          },
          "scene": {
           "xaxis": {
            "backgroundcolor": "#E5ECF6",
            "gridcolor": "white",
            "gridwidth": 2,
            "linecolor": "white",
            "showbackground": true,
            "ticks": "",
            "zerolinecolor": "white"
           },
           "yaxis": {
            "backgroundcolor": "#E5ECF6",
            "gridcolor": "white",
            "gridwidth": 2,
            "linecolor": "white",
            "showbackground": true,
            "ticks": "",
            "zerolinecolor": "white"
           },
           "zaxis": {
            "backgroundcolor": "#E5ECF6",
            "gridcolor": "white",
            "gridwidth": 2,
            "linecolor": "white",
            "showbackground": true,
            "ticks": "",
            "zerolinecolor": "white"
           }
          },
          "shapedefaults": {
           "line": {
            "color": "#2a3f5f"
           }
          },
          "ternary": {
           "aaxis": {
            "gridcolor": "white",
            "linecolor": "white",
            "ticks": ""
           },
           "baxis": {
            "gridcolor": "white",
            "linecolor": "white",
            "ticks": ""
           },
           "bgcolor": "#E5ECF6",
           "caxis": {
            "gridcolor": "white",
            "linecolor": "white",
            "ticks": ""
           }
          },
          "title": {
           "x": 0.05
          },
          "xaxis": {
           "automargin": true,
           "gridcolor": "white",
           "linecolor": "white",
           "ticks": "",
           "title": {
            "standoff": 15
           },
           "zerolinecolor": "white",
           "zerolinewidth": 2
          },
          "yaxis": {
           "automargin": true,
           "gridcolor": "white",
           "linecolor": "white",
           "ticks": "",
           "title": {
            "standoff": 15
           },
           "zerolinecolor": "white",
           "zerolinewidth": 2
          }
         }
        },
        "xaxis": {
         "anchor": "y",
         "domain": [
          0,
          1
         ],
         "title": {
          "text": "x"
         }
        },
        "yaxis": {
         "anchor": "x",
         "domain": [
          0,
          1
         ],
         "title": {
          "text": "log y"
         }
        }
       }
      }
     },
     "metadata": {},
     "output_type": "display_data"
    }
   ],
   "source": [
    "df_2['log y'] = np.log(df_2['y'])\n",
    "\n",
    "px.scatter(df_2, x='x', y='log y', trendline=\"ols\", trendline_color_override=\"red\")"
   ]
  },
  {
   "cell_type": "markdown",
   "id": "04790cb9",
   "metadata": {},
   "source": [
    "That looks much better! We can verify that the residual plot has no \"patterns\":"
   ]
  },
  {
   "cell_type": "code",
   "execution_count": 244,
   "id": "d068d356",
   "metadata": {},
   "outputs": [
    {
     "data": {
      "application/vnd.plotly.v1+json": {
       "config": {
        "plotlyServerURL": "https://plot.ly"
       },
       "data": [
        {
         "hovertemplate": "pred=%{x}<br>log y residuals=%{y}<extra></extra>",
         "legendgroup": "",
         "marker": {
          "color": "#636efa",
          "symbol": "circle"
         },
         "mode": "markers",
         "name": "",
         "orientation": "v",
         "showlegend": false,
         "type": "scatter",
         "x": [
          4.286930502750645,
          4.317548037133593,
          4.348165571516539,
          4.378783105899486,
          4.409400640282433,
          4.44001817466538,
          4.470635709048327,
          4.5012532434312735,
          4.5318707778142215,
          4.562488312197168,
          4.593105846580116,
          4.623723380963062,
          4.65434091534601,
          4.684958449728956,
          4.715575984111903,
          4.7461935184948505,
          4.776811052877798,
          4.807428587260745,
          4.838046121643691,
          4.868663656026639,
          4.899281190409585,
          4.929898724792533,
          4.9605162591754794,
          4.9911337935584275,
          5.021751327941374,
          5.052368862324322,
          5.082986396707268,
          5.113603931090215,
          5.144221465473162,
          5.174838999856109,
          5.205456534239056,
          5.236074068622003,
          5.266691603004951,
          5.297309137387897,
          5.327926671770844,
          5.358544206153791,
          5.389161740536738,
          5.419779274919685,
          5.450396809302632,
          5.48101434368558,
          5.511631878068526,
          5.542249412451473,
          5.57286694683442,
          5.603484481217367,
          5.634102015600314,
          5.664719549983261,
          5.695337084366209,
          5.725954618749156,
          5.756572153132103,
          5.787189687515049,
          5.817807221897997,
          5.848424756280943,
          5.879042290663891,
          5.9096598250468375,
          5.9402773594297855,
          5.970894893812732,
          6.00151242819568,
          6.032129962578626,
          6.062747496961573,
          6.09336503134452,
          6.123982565727467,
          6.1546001001104145,
          6.185217634493361,
          6.215835168876309,
          6.246452703259255,
          6.277070237642202,
          6.307687772025149,
          6.338305306408096,
          6.368922840791043,
          6.3995403751739905,
          6.430157909556937,
          6.460775443939884,
          6.491392978322831,
          6.522010512705779,
          6.552628047088725,
          6.583245581471673,
          6.6138631158546195,
          6.6444806502375675,
          6.675098184620513,
          6.705715719003461,
          6.736333253386407,
          6.766950787769355,
          6.797568322152301,
          6.828185856535249,
          6.858803390918196,
          6.889420925301144,
          6.920038459684089,
          6.950655994067037,
          6.981273528449984,
          7.011891062832931,
          7.042508597215878,
          7.073126131598825,
          7.1037436659817725,
          7.13436120036472,
          7.164978734747666,
          7.195596269130613,
          7.22621380351356,
          7.256831337896507,
          7.287448872279454,
          7.3180664066624015
         ],
         "xaxis": "x",
         "y": [
          -1.0208366634237618,
          -0.19160819785134642,
          -0.3682998243343869,
          0.2963125133097213,
          -0.19273221630276982,
          0.3491721930663445,
          0.5773910217359468,
          0.2277502355502179,
          -0.11529639397908298,
          -0.5654155267122243,
          0.4325800145205818,
          0.20895793511810457,
          0.32558876251889934,
          0.08259396742116731,
          -0.14434614548185998,
          0.11691555853342361,
          -0.17717639628161574,
          0.40830690251679425,
          -0.14812508490122767,
          0.08230753020585713,
          0.05769450975160684,
          -0.12694823108068487,
          0.2788601906197581,
          -0.5291472100457613,
          0.08495828603004352,
          0.21615800123801865,
          -0.10941414991545262,
          -0.1622500133818967,
          0.2911644483041842,
          0.03596802458289705,
          -0.39292282611437557,
          0.32242349628043776,
          0.39724518991452484,
          -0.23365790930797736,
          0.15119150886738542,
          -0.056048085028492345,
          -0.06831829926520694,
          -0.33922715826821737,
          0.1420914634114263,
          0.1375010643772976,
          -0.007168782564237475,
          -0.12988867801917348,
          -0.045239282508368284,
          -0.0380038229546491,
          -0.04226662106952617,
          0.12647093825049538,
          -0.18966029625748426,
          0.1008973581931274,
          0.1121622859994238,
          0.008904523742464754,
          0.09220401916479304,
          -0.04487831608381576,
          0.07017813802156159,
          -0.04646281772349781,
          -0.14274770724072017,
          0.08037424871526788,
          0.1447462163029849,
          0.03700514377987396,
          0.0035387636042329973,
          -0.14784043078236397,
          -0.14147720632305738,
          -0.06095860724900515,
          0.09239051821332112,
          -0.06941245524308748,
          0.047103860358284955,
          0.012735371916821947,
          0.050729369703070404,
          -0.012944129639126167,
          0.03947369977503801,
          0.058739309560633224,
          -0.018424770760008258,
          -0.04812063696631075,
          -0.08665318390921062,
          -0.05570895280060739,
          -0.03907011257914039,
          -0.0503433961303994,
          -0.028857750425731687,
          0.05048801416364501,
          0.043968779230137756,
          -0.007616897129889111,
          0.017102448343609744,
          0.0523138084941559,
          0.017239741589667013,
          -0.00244886232441921,
          0.033805842105962824,
          0.02100692989751174,
          0.045407910209179114,
          -0.05826792940656045,
          -0.009272795270716117,
          -0.02081635383791003,
          0.0035493639426924517,
          0.04592735223719924,
          0.0029608441783119943,
          -0.004298661504489765,
          -0.059822406985712284,
          -0.0410383063109121,
          0.013622669914474805,
          -0.006124495507026317,
          -0.013077398456788458,
          -0.03749789184210606
         ],
         "yaxis": "y"
        },
        {
         "hovertemplate": "<b>OLS trendline</b><br>log y residuals = -2.56739e-16 * pred + 3.35842e-15<br>R<sup>2</sup>=0.000000<br><br>pred=%{x}<br>log y residuals=%{y} <b>(trend)</b><extra></extra>",
         "legendgroup": "",
         "line": {
          "color": "red"
         },
         "marker": {
          "color": "#636efa",
          "symbol": "circle"
         },
         "mode": "lines",
         "name": "",
         "showlegend": false,
         "type": "scatter",
         "x": [
          4.286930502750645,
          4.317548037133593,
          4.348165571516539,
          4.378783105899486,
          4.409400640282433,
          4.44001817466538,
          4.470635709048327,
          4.5012532434312735,
          4.5318707778142215,
          4.562488312197168,
          4.593105846580116,
          4.623723380963062,
          4.65434091534601,
          4.684958449728956,
          4.715575984111903,
          4.7461935184948505,
          4.776811052877798,
          4.807428587260745,
          4.838046121643691,
          4.868663656026639,
          4.899281190409585,
          4.929898724792533,
          4.9605162591754794,
          4.9911337935584275,
          5.021751327941374,
          5.052368862324322,
          5.082986396707268,
          5.113603931090215,
          5.144221465473162,
          5.174838999856109,
          5.205456534239056,
          5.236074068622003,
          5.266691603004951,
          5.297309137387897,
          5.327926671770844,
          5.358544206153791,
          5.389161740536738,
          5.419779274919685,
          5.450396809302632,
          5.48101434368558,
          5.511631878068526,
          5.542249412451473,
          5.57286694683442,
          5.603484481217367,
          5.634102015600314,
          5.664719549983261,
          5.695337084366209,
          5.725954618749156,
          5.756572153132103,
          5.787189687515049,
          5.817807221897997,
          5.848424756280943,
          5.879042290663891,
          5.9096598250468375,
          5.9402773594297855,
          5.970894893812732,
          6.00151242819568,
          6.032129962578626,
          6.062747496961573,
          6.09336503134452,
          6.123982565727467,
          6.1546001001104145,
          6.185217634493361,
          6.215835168876309,
          6.246452703259255,
          6.277070237642202,
          6.307687772025149,
          6.338305306408096,
          6.368922840791043,
          6.3995403751739905,
          6.430157909556937,
          6.460775443939884,
          6.491392978322831,
          6.522010512705779,
          6.552628047088725,
          6.583245581471673,
          6.6138631158546195,
          6.6444806502375675,
          6.675098184620513,
          6.705715719003461,
          6.736333253386407,
          6.766950787769355,
          6.797568322152301,
          6.828185856535249,
          6.858803390918196,
          6.889420925301144,
          6.920038459684089,
          6.950655994067037,
          6.981273528449984,
          7.011891062832931,
          7.042508597215878,
          7.073126131598825,
          7.1037436659817725,
          7.13436120036472,
          7.164978734747666,
          7.195596269130613,
          7.22621380351356,
          7.256831337896507,
          7.287448872279454,
          7.3180664066624015
         ],
         "xaxis": "x",
         "y": [
          2.2578020800067137e-15,
          2.249941362567461e-15,
          2.2420806451282087e-15,
          2.234219927688956e-15,
          2.2263592102497036e-15,
          2.218498492810451e-15,
          2.2106377753711985e-15,
          2.2027770579319463e-15,
          2.1949163404926934e-15,
          2.1870556230534412e-15,
          2.1791949056141883e-15,
          2.171334188174936e-15,
          2.1634734707356828e-15,
          2.1556127532964307e-15,
          2.147752035857178e-15,
          2.1398913184179256e-15,
          2.132030600978673e-15,
          2.1241698835394205e-15,
          2.1163091661001683e-15,
          2.1084484486609154e-15,
          2.1005877312216632e-15,
          2.0927270137824103e-15,
          2.084866296343158e-15,
          2.0770055789039048e-15,
          2.0691448614646526e-15,
          2.0612841440253997e-15,
          2.0534234265861476e-15,
          2.045562709146895e-15,
          2.0377019917076425e-15,
          2.02984127426839e-15,
          2.0219805568291374e-15,
          2.0141198393898852e-15,
          2.0062591219506323e-15,
          1.99839840451138e-15,
          1.9905376870721276e-15,
          1.982676969632875e-15,
          1.9748162521936225e-15,
          1.9669555347543696e-15,
          1.9590948173151174e-15,
          1.9512340998758645e-15,
          1.9433733824366123e-15,
          1.9355126649973598e-15,
          1.9276519475581072e-15,
          1.9197912301188547e-15,
          1.911930512679602e-15,
          1.9040697952403496e-15,
          1.896209077801097e-15,
          1.8883483603618445e-15,
          1.880487642922592e-15,
          1.8726269254833394e-15,
          1.8647662080440865e-15,
          1.8569054906048343e-15,
          1.8490447731655814e-15,
          1.8411840557263292e-15,
          1.8333233382870763e-15,
          1.825462620847824e-15,
          1.817601903408571e-15,
          1.809741185969319e-15,
          1.8018804685300665e-15,
          1.794019751090814e-15,
          1.7861590336515614e-15,
          1.7782983162123085e-15,
          1.7704375987730563e-15,
          1.7625768813338034e-15,
          1.754716163894551e-15,
          1.7468554464552985e-15,
          1.738994729016046e-15,
          1.7311340115767934e-15,
          1.7232732941375408e-15,
          1.7154125766982883e-15,
          1.707551859259036e-15,
          1.6996911418197834e-15,
          1.6918304243805308e-15,
          1.6839697069412781e-15,
          1.6761089895020258e-15,
          1.6682482720627728e-15,
          1.6603875546235205e-15,
          1.6525268371842677e-15,
          1.6446661197450156e-15,
          1.6368054023057628e-15,
          1.6289446848665105e-15,
          1.6210839674272577e-15,
          1.6132232499880054e-15,
          1.6053625325487526e-15,
          1.5975018151095003e-15,
          1.5896410976702476e-15,
          1.5817803802309952e-15,
          1.5739196627917427e-15,
          1.5660589453524901e-15,
          1.5581982279132376e-15,
          1.550337510473985e-15,
          1.5424767930347325e-15,
          1.53461607559548e-15,
          1.526755358156227e-15,
          1.5188946407169748e-15,
          1.5110339232777223e-15,
          1.5031732058384697e-15,
          1.4953124883992172e-15,
          1.4874517709599647e-15,
          1.4795910535207121e-15
         ],
         "yaxis": "y"
        }
       ],
       "layout": {
        "legend": {
         "tracegroupgap": 0
        },
        "margin": {
         "t": 60
        },
        "template": {
         "data": {
          "bar": [
           {
            "error_x": {
             "color": "#2a3f5f"
            },
            "error_y": {
             "color": "#2a3f5f"
            },
            "marker": {
             "line": {
              "color": "#E5ECF6",
              "width": 0.5
             },
             "pattern": {
              "fillmode": "overlay",
              "size": 10,
              "solidity": 0.2
             }
            },
            "type": "bar"
           }
          ],
          "barpolar": [
           {
            "marker": {
             "line": {
              "color": "#E5ECF6",
              "width": 0.5
             },
             "pattern": {
              "fillmode": "overlay",
              "size": 10,
              "solidity": 0.2
             }
            },
            "type": "barpolar"
           }
          ],
          "carpet": [
           {
            "aaxis": {
             "endlinecolor": "#2a3f5f",
             "gridcolor": "white",
             "linecolor": "white",
             "minorgridcolor": "white",
             "startlinecolor": "#2a3f5f"
            },
            "baxis": {
             "endlinecolor": "#2a3f5f",
             "gridcolor": "white",
             "linecolor": "white",
             "minorgridcolor": "white",
             "startlinecolor": "#2a3f5f"
            },
            "type": "carpet"
           }
          ],
          "choropleth": [
           {
            "colorbar": {
             "outlinewidth": 0,
             "ticks": ""
            },
            "type": "choropleth"
           }
          ],
          "contour": [
           {
            "colorbar": {
             "outlinewidth": 0,
             "ticks": ""
            },
            "colorscale": [
             [
              0,
              "#0d0887"
             ],
             [
              0.1111111111111111,
              "#46039f"
             ],
             [
              0.2222222222222222,
              "#7201a8"
             ],
             [
              0.3333333333333333,
              "#9c179e"
             ],
             [
              0.4444444444444444,
              "#bd3786"
             ],
             [
              0.5555555555555556,
              "#d8576b"
             ],
             [
              0.6666666666666666,
              "#ed7953"
             ],
             [
              0.7777777777777778,
              "#fb9f3a"
             ],
             [
              0.8888888888888888,
              "#fdca26"
             ],
             [
              1,
              "#f0f921"
             ]
            ],
            "type": "contour"
           }
          ],
          "contourcarpet": [
           {
            "colorbar": {
             "outlinewidth": 0,
             "ticks": ""
            },
            "type": "contourcarpet"
           }
          ],
          "heatmap": [
           {
            "colorbar": {
             "outlinewidth": 0,
             "ticks": ""
            },
            "colorscale": [
             [
              0,
              "#0d0887"
             ],
             [
              0.1111111111111111,
              "#46039f"
             ],
             [
              0.2222222222222222,
              "#7201a8"
             ],
             [
              0.3333333333333333,
              "#9c179e"
             ],
             [
              0.4444444444444444,
              "#bd3786"
             ],
             [
              0.5555555555555556,
              "#d8576b"
             ],
             [
              0.6666666666666666,
              "#ed7953"
             ],
             [
              0.7777777777777778,
              "#fb9f3a"
             ],
             [
              0.8888888888888888,
              "#fdca26"
             ],
             [
              1,
              "#f0f921"
             ]
            ],
            "type": "heatmap"
           }
          ],
          "heatmapgl": [
           {
            "colorbar": {
             "outlinewidth": 0,
             "ticks": ""
            },
            "colorscale": [
             [
              0,
              "#0d0887"
             ],
             [
              0.1111111111111111,
              "#46039f"
             ],
             [
              0.2222222222222222,
              "#7201a8"
             ],
             [
              0.3333333333333333,
              "#9c179e"
             ],
             [
              0.4444444444444444,
              "#bd3786"
             ],
             [
              0.5555555555555556,
              "#d8576b"
             ],
             [
              0.6666666666666666,
              "#ed7953"
             ],
             [
              0.7777777777777778,
              "#fb9f3a"
             ],
             [
              0.8888888888888888,
              "#fdca26"
             ],
             [
              1,
              "#f0f921"
             ]
            ],
            "type": "heatmapgl"
           }
          ],
          "histogram": [
           {
            "marker": {
             "pattern": {
              "fillmode": "overlay",
              "size": 10,
              "solidity": 0.2
             }
            },
            "type": "histogram"
           }
          ],
          "histogram2d": [
           {
            "colorbar": {
             "outlinewidth": 0,
             "ticks": ""
            },
            "colorscale": [
             [
              0,
              "#0d0887"
             ],
             [
              0.1111111111111111,
              "#46039f"
             ],
             [
              0.2222222222222222,
              "#7201a8"
             ],
             [
              0.3333333333333333,
              "#9c179e"
             ],
             [
              0.4444444444444444,
              "#bd3786"
             ],
             [
              0.5555555555555556,
              "#d8576b"
             ],
             [
              0.6666666666666666,
              "#ed7953"
             ],
             [
              0.7777777777777778,
              "#fb9f3a"
             ],
             [
              0.8888888888888888,
              "#fdca26"
             ],
             [
              1,
              "#f0f921"
             ]
            ],
            "type": "histogram2d"
           }
          ],
          "histogram2dcontour": [
           {
            "colorbar": {
             "outlinewidth": 0,
             "ticks": ""
            },
            "colorscale": [
             [
              0,
              "#0d0887"
             ],
             [
              0.1111111111111111,
              "#46039f"
             ],
             [
              0.2222222222222222,
              "#7201a8"
             ],
             [
              0.3333333333333333,
              "#9c179e"
             ],
             [
              0.4444444444444444,
              "#bd3786"
             ],
             [
              0.5555555555555556,
              "#d8576b"
             ],
             [
              0.6666666666666666,
              "#ed7953"
             ],
             [
              0.7777777777777778,
              "#fb9f3a"
             ],
             [
              0.8888888888888888,
              "#fdca26"
             ],
             [
              1,
              "#f0f921"
             ]
            ],
            "type": "histogram2dcontour"
           }
          ],
          "mesh3d": [
           {
            "colorbar": {
             "outlinewidth": 0,
             "ticks": ""
            },
            "type": "mesh3d"
           }
          ],
          "parcoords": [
           {
            "line": {
             "colorbar": {
              "outlinewidth": 0,
              "ticks": ""
             }
            },
            "type": "parcoords"
           }
          ],
          "pie": [
           {
            "automargin": true,
            "type": "pie"
           }
          ],
          "scatter": [
           {
            "fillpattern": {
             "fillmode": "overlay",
             "size": 10,
             "solidity": 0.2
            },
            "type": "scatter"
           }
          ],
          "scatter3d": [
           {
            "line": {
             "colorbar": {
              "outlinewidth": 0,
              "ticks": ""
             }
            },
            "marker": {
             "colorbar": {
              "outlinewidth": 0,
              "ticks": ""
             }
            },
            "type": "scatter3d"
           }
          ],
          "scattercarpet": [
           {
            "marker": {
             "colorbar": {
              "outlinewidth": 0,
              "ticks": ""
             }
            },
            "type": "scattercarpet"
           }
          ],
          "scattergeo": [
           {
            "marker": {
             "colorbar": {
              "outlinewidth": 0,
              "ticks": ""
             }
            },
            "type": "scattergeo"
           }
          ],
          "scattergl": [
           {
            "marker": {
             "colorbar": {
              "outlinewidth": 0,
              "ticks": ""
             }
            },
            "type": "scattergl"
           }
          ],
          "scattermapbox": [
           {
            "marker": {
             "colorbar": {
              "outlinewidth": 0,
              "ticks": ""
             }
            },
            "type": "scattermapbox"
           }
          ],
          "scatterpolar": [
           {
            "marker": {
             "colorbar": {
              "outlinewidth": 0,
              "ticks": ""
             }
            },
            "type": "scatterpolar"
           }
          ],
          "scatterpolargl": [
           {
            "marker": {
             "colorbar": {
              "outlinewidth": 0,
              "ticks": ""
             }
            },
            "type": "scatterpolargl"
           }
          ],
          "scatterternary": [
           {
            "marker": {
             "colorbar": {
              "outlinewidth": 0,
              "ticks": ""
             }
            },
            "type": "scatterternary"
           }
          ],
          "surface": [
           {
            "colorbar": {
             "outlinewidth": 0,
             "ticks": ""
            },
            "colorscale": [
             [
              0,
              "#0d0887"
             ],
             [
              0.1111111111111111,
              "#46039f"
             ],
             [
              0.2222222222222222,
              "#7201a8"
             ],
             [
              0.3333333333333333,
              "#9c179e"
             ],
             [
              0.4444444444444444,
              "#bd3786"
             ],
             [
              0.5555555555555556,
              "#d8576b"
             ],
             [
              0.6666666666666666,
              "#ed7953"
             ],
             [
              0.7777777777777778,
              "#fb9f3a"
             ],
             [
              0.8888888888888888,
              "#fdca26"
             ],
             [
              1,
              "#f0f921"
             ]
            ],
            "type": "surface"
           }
          ],
          "table": [
           {
            "cells": {
             "fill": {
              "color": "#EBF0F8"
             },
             "line": {
              "color": "white"
             }
            },
            "header": {
             "fill": {
              "color": "#C8D4E3"
             },
             "line": {
              "color": "white"
             }
            },
            "type": "table"
           }
          ]
         },
         "layout": {
          "annotationdefaults": {
           "arrowcolor": "#2a3f5f",
           "arrowhead": 0,
           "arrowwidth": 1
          },
          "autotypenumbers": "strict",
          "coloraxis": {
           "colorbar": {
            "outlinewidth": 0,
            "ticks": ""
           }
          },
          "colorscale": {
           "diverging": [
            [
             0,
             "#8e0152"
            ],
            [
             0.1,
             "#c51b7d"
            ],
            [
             0.2,
             "#de77ae"
            ],
            [
             0.3,
             "#f1b6da"
            ],
            [
             0.4,
             "#fde0ef"
            ],
            [
             0.5,
             "#f7f7f7"
            ],
            [
             0.6,
             "#e6f5d0"
            ],
            [
             0.7,
             "#b8e186"
            ],
            [
             0.8,
             "#7fbc41"
            ],
            [
             0.9,
             "#4d9221"
            ],
            [
             1,
             "#276419"
            ]
           ],
           "sequential": [
            [
             0,
             "#0d0887"
            ],
            [
             0.1111111111111111,
             "#46039f"
            ],
            [
             0.2222222222222222,
             "#7201a8"
            ],
            [
             0.3333333333333333,
             "#9c179e"
            ],
            [
             0.4444444444444444,
             "#bd3786"
            ],
            [
             0.5555555555555556,
             "#d8576b"
            ],
            [
             0.6666666666666666,
             "#ed7953"
            ],
            [
             0.7777777777777778,
             "#fb9f3a"
            ],
            [
             0.8888888888888888,
             "#fdca26"
            ],
            [
             1,
             "#f0f921"
            ]
           ],
           "sequentialminus": [
            [
             0,
             "#0d0887"
            ],
            [
             0.1111111111111111,
             "#46039f"
            ],
            [
             0.2222222222222222,
             "#7201a8"
            ],
            [
             0.3333333333333333,
             "#9c179e"
            ],
            [
             0.4444444444444444,
             "#bd3786"
            ],
            [
             0.5555555555555556,
             "#d8576b"
            ],
            [
             0.6666666666666666,
             "#ed7953"
            ],
            [
             0.7777777777777778,
             "#fb9f3a"
            ],
            [
             0.8888888888888888,
             "#fdca26"
            ],
            [
             1,
             "#f0f921"
            ]
           ]
          },
          "colorway": [
           "#636efa",
           "#EF553B",
           "#00cc96",
           "#ab63fa",
           "#FFA15A",
           "#19d3f3",
           "#FF6692",
           "#B6E880",
           "#FF97FF",
           "#FECB52"
          ],
          "font": {
           "color": "#2a3f5f"
          },
          "geo": {
           "bgcolor": "white",
           "lakecolor": "white",
           "landcolor": "#E5ECF6",
           "showlakes": true,
           "showland": true,
           "subunitcolor": "white"
          },
          "hoverlabel": {
           "align": "left"
          },
          "hovermode": "closest",
          "mapbox": {
           "style": "light"
          },
          "paper_bgcolor": "white",
          "plot_bgcolor": "#E5ECF6",
          "polar": {
           "angularaxis": {
            "gridcolor": "white",
            "linecolor": "white",
            "ticks": ""
           },
           "bgcolor": "#E5ECF6",
           "radialaxis": {
            "gridcolor": "white",
            "linecolor": "white",
            "ticks": ""
           }
          },
          "scene": {
           "xaxis": {
            "backgroundcolor": "#E5ECF6",
            "gridcolor": "white",
            "gridwidth": 2,
            "linecolor": "white",
            "showbackground": true,
            "ticks": "",
            "zerolinecolor": "white"
           },
           "yaxis": {
            "backgroundcolor": "#E5ECF6",
            "gridcolor": "white",
            "gridwidth": 2,
            "linecolor": "white",
            "showbackground": true,
            "ticks": "",
            "zerolinecolor": "white"
           },
           "zaxis": {
            "backgroundcolor": "#E5ECF6",
            "gridcolor": "white",
            "gridwidth": 2,
            "linecolor": "white",
            "showbackground": true,
            "ticks": "",
            "zerolinecolor": "white"
           }
          },
          "shapedefaults": {
           "line": {
            "color": "#2a3f5f"
           }
          },
          "ternary": {
           "aaxis": {
            "gridcolor": "white",
            "linecolor": "white",
            "ticks": ""
           },
           "baxis": {
            "gridcolor": "white",
            "linecolor": "white",
            "ticks": ""
           },
           "bgcolor": "#E5ECF6",
           "caxis": {
            "gridcolor": "white",
            "linecolor": "white",
            "ticks": ""
           }
          },
          "title": {
           "x": 0.05
          },
          "xaxis": {
           "automargin": true,
           "gridcolor": "white",
           "linecolor": "white",
           "ticks": "",
           "title": {
            "standoff": 15
           },
           "zerolinecolor": "white",
           "zerolinewidth": 2
          },
          "yaxis": {
           "automargin": true,
           "gridcolor": "white",
           "linecolor": "white",
           "ticks": "",
           "title": {
            "standoff": 15
           },
           "zerolinecolor": "white",
           "zerolinewidth": 2
          }
         }
        },
        "xaxis": {
         "anchor": "y",
         "domain": [
          0,
          1
         ],
         "title": {
          "text": "pred"
         }
        },
        "yaxis": {
         "anchor": "x",
         "domain": [
          0,
          1
         ],
         "title": {
          "text": "log y residuals"
         }
        }
       }
      }
     },
     "metadata": {},
     "output_type": "display_data"
    }
   ],
   "source": [
    "create_residual_plot(df_2, 'x', 'log y')"
   ]
  },
  {
   "cell_type": "markdown",
   "id": "a3e6e139",
   "metadata": {},
   "source": [
    "Note – there is still evidence of **heteroscedasticity**, or \"uneven spread\", in this scatter plot, but the relationship is as close to linear as we'll get."
   ]
  },
  {
   "cell_type": "markdown",
   "id": "c80a8623",
   "metadata": {},
   "source": [
    "### Question 1 –  Root vs. Log\n",
    "\n",
    "Now that we've learned how to perform transformations with example datasets, it's your job to apply these ideas to a real dataset. Below, you are given a dataset that describes the [number of home runs in the MLB per year](https://www.mlb.com/glossary/standard-stats/home-run). The relationship between the two variables, `'Year'` and `'Homeruns'`, is not linear.\n",
    "\n",
    "**Specifically, your job is to determine what the appropriate transformation to apply to the `'Home runs'` column is, in order to linearize the relationship.**\n",
    "\n",
    "Complete the implementation of the function `best_transformation`, which returns either 1, 2, 3, or 4, with the value corresponding to one of the following choices:\n",
    "\n",
    "1. Square root transformation.\n",
    "2. Log transformation.\n",
    "3. Both work the same.\n",
    "4. Neither gives a transformation revealing a linear relationship.\n",
    "\n",
    "***Hint***: If you find that both residual plots have some sort of pattern, choose the residual plot in which the vertical spread is constant. There is one clearly correct answer."
   ]
  },
  {
   "cell_type": "code",
   "execution_count": 245,
   "id": "33cce179",
   "metadata": {
    "scrolled": true
   },
   "outputs": [],
   "source": [
    "homeruns_fp = Path('data')/'homeruns.csv'\n",
    "homeruns = pd.read_csv(homeruns_fp)"
   ]
  },
  {
   "cell_type": "code",
   "execution_count": 246,
   "id": "b1838108",
   "metadata": {},
   "outputs": [
    {
     "data": {
      "application/vnd.plotly.v1+json": {
       "config": {
        "plotlyServerURL": "https://plot.ly"
       },
       "data": [
        {
         "hovertemplate": "pred=%{x}<br>Homeruns residuals=%{y}<extra></extra>",
         "legendgroup": "",
         "marker": {
          "color": "#636efa",
          "symbol": "circle"
         },
         "mode": "markers",
         "name": "",
         "orientation": "v",
         "showlegend": false,
         "type": "scatter",
         "x": [
          16.379512475514275,
          16.88615309811314,
          17.392793720712007,
          17.899434343310872,
          18.40607496590974,
          18.912715588508604,
          19.41935621110747,
          19.925996833706336,
          20.4326374563052,
          20.939278078904067,
          21.445918701502933,
          21.9525593241018,
          22.459199946700664,
          22.96584056929953,
          23.472481191898396,
          23.97912181449726,
          24.485762437096128,
          24.992403059694993,
          25.499043682293973,
          26.00568430489284,
          26.512324927491704,
          27.01896555009057,
          27.525606172689436,
          28.0322467952883,
          28.538887417887167,
          29.045528040486033,
          29.5521686630849,
          30.058809285683765,
          30.56544990828263,
          31.072090530881496,
          31.578731153480362,
          32.08537177607923,
          32.592012398678094,
          33.09865302127696,
          33.605293643875825,
          34.11193426647469,
          34.61857488907356,
          35.12521551167242,
          35.6318561342714,
          36.13849675687027,
          36.64513737946913,
          37.151778002068,
          37.658418624666865,
          38.16505924726573,
          38.6716998698646,
          39.17834049246346,
          39.68498111506233,
          40.191621737661194,
          40.69826236026006,
          41.204902982858925,
          41.71154360545779,
          42.21818422805666,
          42.72482485065552,
          43.23146547325439,
          43.738106095853254,
          44.24474671845212,
          44.751387341050986,
          45.25802796364985,
          45.76466858624883,
          46.2713092088477,
          46.77794983144656,
          47.28459045404543,
          47.791231076644294,
          48.29787169924316,
          48.804512321842026,
          49.31115294444089,
          49.81779356703976,
          50.32443418963862,
          50.83107481223749,
          51.337715434836355,
          51.84435605743522,
          52.350996680034086,
          52.85763730263295,
          53.36427792523182,
          53.870918547830684,
          54.37755917042955,
          54.884199793028415,
          55.39084041562728,
          55.89748103822626,
          56.404121660825126,
          56.91076228342399,
          57.41740290602286,
          57.92404352862172,
          58.43068415122059,
          58.937324773819455,
          59.44396539641832,
          59.95060601901719,
          60.45724664161605,
          60.96388726421492,
          61.470527886813784,
          61.97716850941265,
          62.483809132011515,
          62.99044975461038,
          63.49709037720925,
          64.00373099980811,
          64.51037162240698,
          65.01701224500584,
          65.52365286760471,
          66.03029349020369,
          66.53693411280256,
          67.04357473540142,
          67.55021535800029,
          68.05685598059915,
          68.56349660319802,
          69.07013722579688,
          69.57677784839575,
          70.08341847099462,
          70.59005909359348,
          71.09669971619235,
          71.60334033879121,
          72.10998096139008,
          72.61662158398894,
          73.12326220658781,
          73.62990282918668,
          74.13654345178554,
          74.64318407438441,
          75.14982469698327,
          75.65646531958214,
          76.16310594218112,
          76.66974656477998
         ],
         "xaxis": "x",
         "y": [
          -0.4421350250050473,
          4.444575909588401,
          1.4220940015147718,
          0.40357087441225303,
          -0.21266956724948471,
          -0.5279392776583691,
          -3.2638617897039595,
          -4.305497481893028,
          -4.09250281793701,
          -4.845801139472986,
          -2.445918701502933,
          0.7190087734074702,
          -1.4354039050720253,
          -1.2863571806207297,
          3.173343997050061,
          1.2200845222110424,
          -4.915376646315202,
          -6.689397841971868,
          -10.169333965538081,
          -4.863309793026865,
          -1.4125241314694392,
          3.591490179937363,
          4.955157365133992,
          3.2727048897087556,
          1.3943716763043632,
          5.145113954071483,
          -0.1753070199481357,
          0.3056436156941871,
          2.495100601350451,
          5.6566448135324165,
          7.981349736224601,
          0.6101936724644048,
          4.259039146698463,
          -0.433687079154808,
          3.0553119157708934,
          2.288615179927902,
          2.3137957361652184,
          2.6901252907056517,
          2.773872605071638,
          1.8746588606261554,
          2.9907049857436974,
          -0.6689053081585996,
          -4.932282280759722,
          -8.081841334283084,
          -6.515829488237543,
          -7.445077187218601,
          -4.828130999195579,
          -0.6315408479562308,
          -1.2647740539993535,
          0.0746318982416625,
          3.818666145871049,
          0.9442994817578167,
          -1.4816435960529617,
          2.3316775263236806,
          0.2732560734775191,
          2.914557771754261,
          3.1443327182612038,
          1.6674448629504113,
          1.5639696785480979,
          1.1628556936779901,
          -0.6476994527633764,
          4.964811456407098,
          6.990152622565056,
          3.70212830075684,
          3.750221052041624,
          2.5347726428219914,
          2.555863933654237,
          -2.376545810691212,
          -6.165651943982901,
          4.510292586936451,
          6.713307830394186,
          1.1560122066528962,
          -2.5187855080200734,
          2.3313233373454665,
          -2.402481617999598,
          -2.43528351754734,
          -7.608413178737159,
          4.974712675519001,
          -1.5283721619535129,
          2.1876866403358832,
          -1.3499847510675878,
          -15.215507214004475,
          0.20512298871275902,
          -0.9763544623276914,
          -1.8584320024981125,
          0.5726989560763087,
          1.7988879060345369,
          6.3110092888783385,
          -4.5723985447281805,
          -5.945758639206822,
          -4.383766109484931,
          -4.320246655148047,
          -7.8723946365277016,
          -0.014809384793736058,
          -6.505904953947912,
          -0.6276666076692266,
          5.424452816419446,
          2.5938925961009005,
          5.1314940084250935,
          7.813587068961866,
          8.408396743149098,
          6.328062911055227,
          3.069791627733977,
          3.596048849915803,
          4.760750619332001,
          1.25400641946338,
          3.3059540566404735,
          -0.18409343726574434,
          -1.2540193552554513,
          -0.5962984344842823,
          -4.190911474242355,
          -5.1481104102569475,
          -2.880824891244032,
          -5.358386074393536,
          -9.437238973298292,
          -4.578927851970974,
          -0.2498914526872511,
          2.4780341028880883,
          -1.4302483760476008,
          5.646715944246722
         ],
         "yaxis": "y"
        },
        {
         "hovertemplate": "<b>OLS trendline</b><br>Homeruns residuals = 7.78457e-17 * pred + -3.40006e-14<br>R<sup>2</sup>=0.000000<br><br>pred=%{x}<br>Homeruns residuals=%{y} <b>(trend)</b><extra></extra>",
         "legendgroup": "",
         "line": {
          "color": "red"
         },
         "marker": {
          "color": "#636efa",
          "symbol": "circle"
         },
         "mode": "lines",
         "name": "",
         "showlegend": false,
         "type": "scatter",
         "x": [
          16.379512475514275,
          16.88615309811314,
          17.392793720712007,
          17.899434343310872,
          18.40607496590974,
          18.912715588508604,
          19.41935621110747,
          19.925996833706336,
          20.4326374563052,
          20.939278078904067,
          21.445918701502933,
          21.9525593241018,
          22.459199946700664,
          22.96584056929953,
          23.472481191898396,
          23.97912181449726,
          24.485762437096128,
          24.992403059694993,
          25.499043682293973,
          26.00568430489284,
          26.512324927491704,
          27.01896555009057,
          27.525606172689436,
          28.0322467952883,
          28.538887417887167,
          29.045528040486033,
          29.5521686630849,
          30.058809285683765,
          30.56544990828263,
          31.072090530881496,
          31.578731153480362,
          32.08537177607923,
          32.592012398678094,
          33.09865302127696,
          33.605293643875825,
          34.11193426647469,
          34.61857488907356,
          35.12521551167242,
          35.6318561342714,
          36.13849675687027,
          36.64513737946913,
          37.151778002068,
          37.658418624666865,
          38.16505924726573,
          38.6716998698646,
          39.17834049246346,
          39.68498111506233,
          40.191621737661194,
          40.69826236026006,
          41.204902982858925,
          41.71154360545779,
          42.21818422805666,
          42.72482485065552,
          43.23146547325439,
          43.738106095853254,
          44.24474671845212,
          44.751387341050986,
          45.25802796364985,
          45.76466858624883,
          46.2713092088477,
          46.77794983144656,
          47.28459045404543,
          47.791231076644294,
          48.29787169924316,
          48.804512321842026,
          49.31115294444089,
          49.81779356703976,
          50.32443418963862,
          50.83107481223749,
          51.337715434836355,
          51.84435605743522,
          52.350996680034086,
          52.85763730263295,
          53.36427792523182,
          53.870918547830684,
          54.37755917042955,
          54.884199793028415,
          55.39084041562728,
          55.89748103822626,
          56.404121660825126,
          56.91076228342399,
          57.41740290602286,
          57.92404352862172,
          58.43068415122059,
          58.937324773819455,
          59.44396539641832,
          59.95060601901719,
          60.45724664161605,
          60.96388726421492,
          61.470527886813784,
          61.97716850941265,
          62.483809132011515,
          62.99044975461038,
          63.49709037720925,
          64.00373099980811,
          64.51037162240698,
          65.01701224500584,
          65.52365286760471,
          66.03029349020369,
          66.53693411280256,
          67.04357473540142,
          67.55021535800029,
          68.05685598059915,
          68.56349660319802,
          69.07013722579688,
          69.57677784839575,
          70.08341847099462,
          70.59005909359348,
          71.09669971619235,
          71.60334033879121,
          72.10998096139008,
          72.61662158398894,
          73.12326220658781,
          73.62990282918668,
          74.13654345178554,
          74.64318407438441,
          75.14982469698327,
          75.65646531958214,
          76.16310594218112,
          76.66974656477998
         ],
         "xaxis": "x",
         "y": [
          -3.272550525301263e-14,
          -3.268606545099961e-14,
          -3.2646625648986584e-14,
          -3.260718584697356e-14,
          -3.256774604496054e-14,
          -3.252830624294752e-14,
          -3.24888664409345e-14,
          -3.244942663892148e-14,
          -3.240998683690846e-14,
          -3.237054703489544e-14,
          -3.233110723288242e-14,
          -3.22916674308694e-14,
          -3.225222762885638e-14,
          -3.221278782684336e-14,
          -3.217334802483034e-14,
          -3.2133908222817317e-14,
          -3.2094468420804296e-14,
          -3.2055028618791276e-14,
          -3.201558881677824e-14,
          -3.197614901476522e-14,
          -3.19367092127522e-14,
          -3.189726941073918e-14,
          -3.185782960872616e-14,
          -3.181838980671314e-14,
          -3.177895000470012e-14,
          -3.17395102026871e-14,
          -3.170007040067408e-14,
          -3.166063059866106e-14,
          -3.162119079664803e-14,
          -3.158175099463501e-14,
          -3.154231119262199e-14,
          -3.150287139060897e-14,
          -3.146343158859595e-14,
          -3.142399178658293e-14,
          -3.138455198456991e-14,
          -3.134511218255689e-14,
          -3.1305672380543867e-14,
          -3.1266232578530846e-14,
          -3.1226792776517813e-14,
          -3.118735297450479e-14,
          -3.114791317249177e-14,
          -3.110847337047875e-14,
          -3.106903356846573e-14,
          -3.102959376645271e-14,
          -3.099015396443969e-14,
          -3.095071416242667e-14,
          -3.091127436041365e-14,
          -3.087183455840063e-14,
          -3.083239475638761e-14,
          -3.079295495437459e-14,
          -3.075351515236157e-14,
          -3.0714075350348546e-14,
          -3.0674635548335526e-14,
          -3.0635195746322505e-14,
          -3.0595755944309485e-14,
          -3.0556316142296464e-14,
          -3.0516876340283444e-14,
          -3.047743653827042e-14,
          -3.043799673625739e-14,
          -3.039855693424437e-14,
          -3.035911713223135e-14,
          -3.031967733021833e-14,
          -3.028023752820531e-14,
          -3.024079772619229e-14,
          -3.020135792417927e-14,
          -3.0161918122166246e-14,
          -3.0122478320153226e-14,
          -3.00830385181402e-14,
          -3.004359871612718e-14,
          -3.000415891411416e-14,
          -2.996471911210114e-14,
          -2.992527931008812e-14,
          -2.9885839508075096e-14,
          -2.9846399706062076e-14,
          -2.9806959904049055e-14,
          -2.9767520102036035e-14,
          -2.9728080300023014e-14,
          -2.9688640498009994e-14,
          -2.964920069599696e-14,
          -2.960976089398394e-14,
          -2.957032109197092e-14,
          -2.95308812899579e-14,
          -2.949144148794488e-14,
          -2.945200168593186e-14,
          -2.941256188391884e-14,
          -2.937312208190582e-14,
          -2.9333682279892796e-14,
          -2.9294242477879776e-14,
          -2.9254802675866755e-14,
          -2.9215362873853735e-14,
          -2.9175923071840714e-14,
          -2.9136483269827694e-14,
          -2.909704346781467e-14,
          -2.9057603665801646e-14,
          -2.9018163863788626e-14,
          -2.8978724061775605e-14,
          -2.8939284259762585e-14,
          -2.8899844457749564e-14,
          -2.886040465573654e-14,
          -2.882096485372352e-14,
          -2.8781525051710496e-14,
          -2.8742085249697476e-14,
          -2.8702645447684455e-14,
          -2.866320564567143e-14,
          -2.862376584365841e-14,
          -2.858432604164539e-14,
          -2.854488623963237e-14,
          -2.8505446437619346e-14,
          -2.8466006635606326e-14,
          -2.8426566833593305e-14,
          -2.8387127031580285e-14,
          -2.8347687229567264e-14,
          -2.8308247427554244e-14,
          -2.8268807625541223e-14,
          -2.8229367823528203e-14,
          -2.8189928021515182e-14,
          -2.8150488219502162e-14,
          -2.811104841748914e-14,
          -2.8071608615476108e-14,
          -2.8032168813463087e-14
         ],
         "yaxis": "y"
        }
       ],
       "layout": {
        "legend": {
         "tracegroupgap": 0
        },
        "margin": {
         "t": 60
        },
        "template": {
         "data": {
          "bar": [
           {
            "error_x": {
             "color": "#2a3f5f"
            },
            "error_y": {
             "color": "#2a3f5f"
            },
            "marker": {
             "line": {
              "color": "#E5ECF6",
              "width": 0.5
             },
             "pattern": {
              "fillmode": "overlay",
              "size": 10,
              "solidity": 0.2
             }
            },
            "type": "bar"
           }
          ],
          "barpolar": [
           {
            "marker": {
             "line": {
              "color": "#E5ECF6",
              "width": 0.5
             },
             "pattern": {
              "fillmode": "overlay",
              "size": 10,
              "solidity": 0.2
             }
            },
            "type": "barpolar"
           }
          ],
          "carpet": [
           {
            "aaxis": {
             "endlinecolor": "#2a3f5f",
             "gridcolor": "white",
             "linecolor": "white",
             "minorgridcolor": "white",
             "startlinecolor": "#2a3f5f"
            },
            "baxis": {
             "endlinecolor": "#2a3f5f",
             "gridcolor": "white",
             "linecolor": "white",
             "minorgridcolor": "white",
             "startlinecolor": "#2a3f5f"
            },
            "type": "carpet"
           }
          ],
          "choropleth": [
           {
            "colorbar": {
             "outlinewidth": 0,
             "ticks": ""
            },
            "type": "choropleth"
           }
          ],
          "contour": [
           {
            "colorbar": {
             "outlinewidth": 0,
             "ticks": ""
            },
            "colorscale": [
             [
              0,
              "#0d0887"
             ],
             [
              0.1111111111111111,
              "#46039f"
             ],
             [
              0.2222222222222222,
              "#7201a8"
             ],
             [
              0.3333333333333333,
              "#9c179e"
             ],
             [
              0.4444444444444444,
              "#bd3786"
             ],
             [
              0.5555555555555556,
              "#d8576b"
             ],
             [
              0.6666666666666666,
              "#ed7953"
             ],
             [
              0.7777777777777778,
              "#fb9f3a"
             ],
             [
              0.8888888888888888,
              "#fdca26"
             ],
             [
              1,
              "#f0f921"
             ]
            ],
            "type": "contour"
           }
          ],
          "contourcarpet": [
           {
            "colorbar": {
             "outlinewidth": 0,
             "ticks": ""
            },
            "type": "contourcarpet"
           }
          ],
          "heatmap": [
           {
            "colorbar": {
             "outlinewidth": 0,
             "ticks": ""
            },
            "colorscale": [
             [
              0,
              "#0d0887"
             ],
             [
              0.1111111111111111,
              "#46039f"
             ],
             [
              0.2222222222222222,
              "#7201a8"
             ],
             [
              0.3333333333333333,
              "#9c179e"
             ],
             [
              0.4444444444444444,
              "#bd3786"
             ],
             [
              0.5555555555555556,
              "#d8576b"
             ],
             [
              0.6666666666666666,
              "#ed7953"
             ],
             [
              0.7777777777777778,
              "#fb9f3a"
             ],
             [
              0.8888888888888888,
              "#fdca26"
             ],
             [
              1,
              "#f0f921"
             ]
            ],
            "type": "heatmap"
           }
          ],
          "heatmapgl": [
           {
            "colorbar": {
             "outlinewidth": 0,
             "ticks": ""
            },
            "colorscale": [
             [
              0,
              "#0d0887"
             ],
             [
              0.1111111111111111,
              "#46039f"
             ],
             [
              0.2222222222222222,
              "#7201a8"
             ],
             [
              0.3333333333333333,
              "#9c179e"
             ],
             [
              0.4444444444444444,
              "#bd3786"
             ],
             [
              0.5555555555555556,
              "#d8576b"
             ],
             [
              0.6666666666666666,
              "#ed7953"
             ],
             [
              0.7777777777777778,
              "#fb9f3a"
             ],
             [
              0.8888888888888888,
              "#fdca26"
             ],
             [
              1,
              "#f0f921"
             ]
            ],
            "type": "heatmapgl"
           }
          ],
          "histogram": [
           {
            "marker": {
             "pattern": {
              "fillmode": "overlay",
              "size": 10,
              "solidity": 0.2
             }
            },
            "type": "histogram"
           }
          ],
          "histogram2d": [
           {
            "colorbar": {
             "outlinewidth": 0,
             "ticks": ""
            },
            "colorscale": [
             [
              0,
              "#0d0887"
             ],
             [
              0.1111111111111111,
              "#46039f"
             ],
             [
              0.2222222222222222,
              "#7201a8"
             ],
             [
              0.3333333333333333,
              "#9c179e"
             ],
             [
              0.4444444444444444,
              "#bd3786"
             ],
             [
              0.5555555555555556,
              "#d8576b"
             ],
             [
              0.6666666666666666,
              "#ed7953"
             ],
             [
              0.7777777777777778,
              "#fb9f3a"
             ],
             [
              0.8888888888888888,
              "#fdca26"
             ],
             [
              1,
              "#f0f921"
             ]
            ],
            "type": "histogram2d"
           }
          ],
          "histogram2dcontour": [
           {
            "colorbar": {
             "outlinewidth": 0,
             "ticks": ""
            },
            "colorscale": [
             [
              0,
              "#0d0887"
             ],
             [
              0.1111111111111111,
              "#46039f"
             ],
             [
              0.2222222222222222,
              "#7201a8"
             ],
             [
              0.3333333333333333,
              "#9c179e"
             ],
             [
              0.4444444444444444,
              "#bd3786"
             ],
             [
              0.5555555555555556,
              "#d8576b"
             ],
             [
              0.6666666666666666,
              "#ed7953"
             ],
             [
              0.7777777777777778,
              "#fb9f3a"
             ],
             [
              0.8888888888888888,
              "#fdca26"
             ],
             [
              1,
              "#f0f921"
             ]
            ],
            "type": "histogram2dcontour"
           }
          ],
          "mesh3d": [
           {
            "colorbar": {
             "outlinewidth": 0,
             "ticks": ""
            },
            "type": "mesh3d"
           }
          ],
          "parcoords": [
           {
            "line": {
             "colorbar": {
              "outlinewidth": 0,
              "ticks": ""
             }
            },
            "type": "parcoords"
           }
          ],
          "pie": [
           {
            "automargin": true,
            "type": "pie"
           }
          ],
          "scatter": [
           {
            "fillpattern": {
             "fillmode": "overlay",
             "size": 10,
             "solidity": 0.2
            },
            "type": "scatter"
           }
          ],
          "scatter3d": [
           {
            "line": {
             "colorbar": {
              "outlinewidth": 0,
              "ticks": ""
             }
            },
            "marker": {
             "colorbar": {
              "outlinewidth": 0,
              "ticks": ""
             }
            },
            "type": "scatter3d"
           }
          ],
          "scattercarpet": [
           {
            "marker": {
             "colorbar": {
              "outlinewidth": 0,
              "ticks": ""
             }
            },
            "type": "scattercarpet"
           }
          ],
          "scattergeo": [
           {
            "marker": {
             "colorbar": {
              "outlinewidth": 0,
              "ticks": ""
             }
            },
            "type": "scattergeo"
           }
          ],
          "scattergl": [
           {
            "marker": {
             "colorbar": {
              "outlinewidth": 0,
              "ticks": ""
             }
            },
            "type": "scattergl"
           }
          ],
          "scattermapbox": [
           {
            "marker": {
             "colorbar": {
              "outlinewidth": 0,
              "ticks": ""
             }
            },
            "type": "scattermapbox"
           }
          ],
          "scatterpolar": [
           {
            "marker": {
             "colorbar": {
              "outlinewidth": 0,
              "ticks": ""
             }
            },
            "type": "scatterpolar"
           }
          ],
          "scatterpolargl": [
           {
            "marker": {
             "colorbar": {
              "outlinewidth": 0,
              "ticks": ""
             }
            },
            "type": "scatterpolargl"
           }
          ],
          "scatterternary": [
           {
            "marker": {
             "colorbar": {
              "outlinewidth": 0,
              "ticks": ""
             }
            },
            "type": "scatterternary"
           }
          ],
          "surface": [
           {
            "colorbar": {
             "outlinewidth": 0,
             "ticks": ""
            },
            "colorscale": [
             [
              0,
              "#0d0887"
             ],
             [
              0.1111111111111111,
              "#46039f"
             ],
             [
              0.2222222222222222,
              "#7201a8"
             ],
             [
              0.3333333333333333,
              "#9c179e"
             ],
             [
              0.4444444444444444,
              "#bd3786"
             ],
             [
              0.5555555555555556,
              "#d8576b"
             ],
             [
              0.6666666666666666,
              "#ed7953"
             ],
             [
              0.7777777777777778,
              "#fb9f3a"
             ],
             [
              0.8888888888888888,
              "#fdca26"
             ],
             [
              1,
              "#f0f921"
             ]
            ],
            "type": "surface"
           }
          ],
          "table": [
           {
            "cells": {
             "fill": {
              "color": "#EBF0F8"
             },
             "line": {
              "color": "white"
             }
            },
            "header": {
             "fill": {
              "color": "#C8D4E3"
             },
             "line": {
              "color": "white"
             }
            },
            "type": "table"
           }
          ]
         },
         "layout": {
          "annotationdefaults": {
           "arrowcolor": "#2a3f5f",
           "arrowhead": 0,
           "arrowwidth": 1
          },
          "autotypenumbers": "strict",
          "coloraxis": {
           "colorbar": {
            "outlinewidth": 0,
            "ticks": ""
           }
          },
          "colorscale": {
           "diverging": [
            [
             0,
             "#8e0152"
            ],
            [
             0.1,
             "#c51b7d"
            ],
            [
             0.2,
             "#de77ae"
            ],
            [
             0.3,
             "#f1b6da"
            ],
            [
             0.4,
             "#fde0ef"
            ],
            [
             0.5,
             "#f7f7f7"
            ],
            [
             0.6,
             "#e6f5d0"
            ],
            [
             0.7,
             "#b8e186"
            ],
            [
             0.8,
             "#7fbc41"
            ],
            [
             0.9,
             "#4d9221"
            ],
            [
             1,
             "#276419"
            ]
           ],
           "sequential": [
            [
             0,
             "#0d0887"
            ],
            [
             0.1111111111111111,
             "#46039f"
            ],
            [
             0.2222222222222222,
             "#7201a8"
            ],
            [
             0.3333333333333333,
             "#9c179e"
            ],
            [
             0.4444444444444444,
             "#bd3786"
            ],
            [
             0.5555555555555556,
             "#d8576b"
            ],
            [
             0.6666666666666666,
             "#ed7953"
            ],
            [
             0.7777777777777778,
             "#fb9f3a"
            ],
            [
             0.8888888888888888,
             "#fdca26"
            ],
            [
             1,
             "#f0f921"
            ]
           ],
           "sequentialminus": [
            [
             0,
             "#0d0887"
            ],
            [
             0.1111111111111111,
             "#46039f"
            ],
            [
             0.2222222222222222,
             "#7201a8"
            ],
            [
             0.3333333333333333,
             "#9c179e"
            ],
            [
             0.4444444444444444,
             "#bd3786"
            ],
            [
             0.5555555555555556,
             "#d8576b"
            ],
            [
             0.6666666666666666,
             "#ed7953"
            ],
            [
             0.7777777777777778,
             "#fb9f3a"
            ],
            [
             0.8888888888888888,
             "#fdca26"
            ],
            [
             1,
             "#f0f921"
            ]
           ]
          },
          "colorway": [
           "#636efa",
           "#EF553B",
           "#00cc96",
           "#ab63fa",
           "#FFA15A",
           "#19d3f3",
           "#FF6692",
           "#B6E880",
           "#FF97FF",
           "#FECB52"
          ],
          "font": {
           "color": "#2a3f5f"
          },
          "geo": {
           "bgcolor": "white",
           "lakecolor": "white",
           "landcolor": "#E5ECF6",
           "showlakes": true,
           "showland": true,
           "subunitcolor": "white"
          },
          "hoverlabel": {
           "align": "left"
          },
          "hovermode": "closest",
          "mapbox": {
           "style": "light"
          },
          "paper_bgcolor": "white",
          "plot_bgcolor": "#E5ECF6",
          "polar": {
           "angularaxis": {
            "gridcolor": "white",
            "linecolor": "white",
            "ticks": ""
           },
           "bgcolor": "#E5ECF6",
           "radialaxis": {
            "gridcolor": "white",
            "linecolor": "white",
            "ticks": ""
           }
          },
          "scene": {
           "xaxis": {
            "backgroundcolor": "#E5ECF6",
            "gridcolor": "white",
            "gridwidth": 2,
            "linecolor": "white",
            "showbackground": true,
            "ticks": "",
            "zerolinecolor": "white"
           },
           "yaxis": {
            "backgroundcolor": "#E5ECF6",
            "gridcolor": "white",
            "gridwidth": 2,
            "linecolor": "white",
            "showbackground": true,
            "ticks": "",
            "zerolinecolor": "white"
           },
           "zaxis": {
            "backgroundcolor": "#E5ECF6",
            "gridcolor": "white",
            "gridwidth": 2,
            "linecolor": "white",
            "showbackground": true,
            "ticks": "",
            "zerolinecolor": "white"
           }
          },
          "shapedefaults": {
           "line": {
            "color": "#2a3f5f"
           }
          },
          "ternary": {
           "aaxis": {
            "gridcolor": "white",
            "linecolor": "white",
            "ticks": ""
           },
           "baxis": {
            "gridcolor": "white",
            "linecolor": "white",
            "ticks": ""
           },
           "bgcolor": "#E5ECF6",
           "caxis": {
            "gridcolor": "white",
            "linecolor": "white",
            "ticks": ""
           }
          },
          "title": {
           "x": 0.05
          },
          "xaxis": {
           "automargin": true,
           "gridcolor": "white",
           "linecolor": "white",
           "ticks": "",
           "title": {
            "standoff": 15
           },
           "zerolinecolor": "white",
           "zerolinewidth": 2
          },
          "yaxis": {
           "automargin": true,
           "gridcolor": "white",
           "linecolor": "white",
           "ticks": "",
           "title": {
            "standoff": 15
           },
           "zerolinecolor": "white",
           "zerolinewidth": 2
          }
         }
        },
        "xaxis": {
         "anchor": "y",
         "domain": [
          0,
          1
         ],
         "title": {
          "text": "pred"
         }
        },
        "yaxis": {
         "anchor": "x",
         "domain": [
          0,
          1
         ],
         "title": {
          "text": "Homeruns residuals"
         }
        }
       }
      }
     },
     "metadata": {},
     "output_type": "display_data"
    }
   ],
   "source": [
    "homeruns['Homeruns'] = np.sqrt(homeruns['Homeruns'])\n",
    "\n",
    "create_residual_plot(homeruns, 'Year', 'Homeruns')"
   ]
  },
  {
   "cell_type": "code",
   "execution_count": null,
   "id": "80cf53f7",
   "metadata": {},
   "outputs": [],
   "source": []
  },
  {
   "cell_type": "code",
   "execution_count": 247,
   "id": "f35bac5e",
   "metadata": {
    "deletable": false,
    "editable": false
   },
   "outputs": [
    {
     "data": {
      "text/html": [
       "<p><strong><pre style='display: inline;'>q1</pre></strong> passed!</p>"
      ],
      "text/plain": [
       "q1 results: All test cases passed!"
      ]
     },
     "execution_count": 247,
     "metadata": {},
     "output_type": "execute_result"
    }
   ],
   "source": [
    "grader.check(\"q1\")"
   ]
  },
  {
   "cell_type": "markdown",
   "id": "6d172e36",
   "metadata": {},
   "source": [
    "## Part 2: Diamond Pricing 💎\n",
    "\n",
    "In this next section, you will pretend you are a jewelry appraiser and predict the prices of diamonds given several standard characteristics of diamonds.\n",
    "\n",
    "You will use linear regression to predict prices, while improving the quality of your predictions using **feature engineering**. Since this question is supposed to help you understand feature engineering, **you will be building these features from scratch, instead of using the built in `sklearn` or `pandas` methods**.\n",
    "\n",
    "The `diamonds` dataset is accessible via `seaborn` (with `sns.load_dataset('diamonds')`), but we've skipped that step and loaded it for you below. The DataFrame has 53940 rows and 10 columns:\n",
    "\n",
    "|column|description|unique values or range|\n",
    "|---|---|---|\n",
    "|`'carat'`|weight of the diamond in carats (each carat is 0.2 grams)| 0.2 - 5.01 |\n",
    "|`'cut'`|quality of the cut | Fair, Good, Very Good, Premium, Ideal |\n",
    "|`'color'`|diamond colour | J (worst, near colorless), I, H, G, F, E, D (best, absolute colorless) |\n",
    "|`'clarity'`|a measurement of how clear the diamond is | I1 (worst), SI2, SI1, VS2, VS1, VVS2, VVS1, IF (best) |\n",
    "|`'depth'`|total depth percentage, computed as z / mean(x, y) = 2 * z / (x + y) | 43 - 79 |\n",
    "|`'table'`|width of top of diamond relative to widest point | 43 - 95 |\n",
    "|`'price'`|price in US dollars | \\\\$326 - \\\\$18,823 USD |\n",
    "|`'x'`|length in mm | 0 - 10.74 |\n",
    "|`'y'`|width in mm | 0 - 58.9 | \n",
    "|`'z'`|depth in mm | 0 - 31.8 |\n",
    "\n",
    "If you want to learn more about how diamonds are measured, refer to [this page by the American Gem Society](https://www.americangemsociety.org/4cs-of-diamonds/)."
   ]
  },
  {
   "cell_type": "code",
   "execution_count": 248,
   "id": "b85ff994",
   "metadata": {},
   "outputs": [
    {
     "data": {
      "text/html": [
       "<div>\n",
       "<style scoped>\n",
       "    .dataframe tbody tr th:only-of-type {\n",
       "        vertical-align: middle;\n",
       "    }\n",
       "\n",
       "    .dataframe tbody tr th {\n",
       "        vertical-align: top;\n",
       "    }\n",
       "\n",
       "    .dataframe thead th {\n",
       "        text-align: right;\n",
       "    }\n",
       "</style>\n",
       "<table border=\"1\" class=\"dataframe\">\n",
       "  <thead>\n",
       "    <tr style=\"text-align: right;\">\n",
       "      <th></th>\n",
       "      <th>carat</th>\n",
       "      <th>cut</th>\n",
       "      <th>color</th>\n",
       "      <th>clarity</th>\n",
       "      <th>depth</th>\n",
       "      <th>table</th>\n",
       "      <th>price</th>\n",
       "      <th>x</th>\n",
       "      <th>y</th>\n",
       "      <th>z</th>\n",
       "    </tr>\n",
       "  </thead>\n",
       "  <tbody>\n",
       "    <tr>\n",
       "      <th>0</th>\n",
       "      <td>0.23</td>\n",
       "      <td>Ideal</td>\n",
       "      <td>E</td>\n",
       "      <td>SI2</td>\n",
       "      <td>61.5</td>\n",
       "      <td>55.0</td>\n",
       "      <td>326</td>\n",
       "      <td>3.95</td>\n",
       "      <td>3.98</td>\n",
       "      <td>2.43</td>\n",
       "    </tr>\n",
       "    <tr>\n",
       "      <th>1</th>\n",
       "      <td>0.21</td>\n",
       "      <td>Premium</td>\n",
       "      <td>E</td>\n",
       "      <td>SI1</td>\n",
       "      <td>59.8</td>\n",
       "      <td>61.0</td>\n",
       "      <td>326</td>\n",
       "      <td>3.89</td>\n",
       "      <td>3.84</td>\n",
       "      <td>2.31</td>\n",
       "    </tr>\n",
       "    <tr>\n",
       "      <th>2</th>\n",
       "      <td>0.23</td>\n",
       "      <td>Good</td>\n",
       "      <td>E</td>\n",
       "      <td>VS1</td>\n",
       "      <td>56.9</td>\n",
       "      <td>65.0</td>\n",
       "      <td>327</td>\n",
       "      <td>4.05</td>\n",
       "      <td>4.07</td>\n",
       "      <td>2.31</td>\n",
       "    </tr>\n",
       "    <tr>\n",
       "      <th>3</th>\n",
       "      <td>0.29</td>\n",
       "      <td>Premium</td>\n",
       "      <td>I</td>\n",
       "      <td>VS2</td>\n",
       "      <td>62.4</td>\n",
       "      <td>58.0</td>\n",
       "      <td>334</td>\n",
       "      <td>4.20</td>\n",
       "      <td>4.23</td>\n",
       "      <td>2.63</td>\n",
       "    </tr>\n",
       "    <tr>\n",
       "      <th>4</th>\n",
       "      <td>0.31</td>\n",
       "      <td>Good</td>\n",
       "      <td>J</td>\n",
       "      <td>SI2</td>\n",
       "      <td>63.3</td>\n",
       "      <td>58.0</td>\n",
       "      <td>335</td>\n",
       "      <td>4.34</td>\n",
       "      <td>4.35</td>\n",
       "      <td>2.75</td>\n",
       "    </tr>\n",
       "  </tbody>\n",
       "</table>\n",
       "</div>"
      ],
      "text/plain": [
       "   carat      cut color clarity  depth  table  price     x     y     z\n",
       "0   0.23    Ideal     E     SI2   61.5   55.0    326  3.95  3.98  2.43\n",
       "1   0.21  Premium     E     SI1   59.8   61.0    326  3.89  3.84  2.31\n",
       "2   0.23     Good     E     VS1   56.9   65.0    327  4.05  4.07  2.31\n",
       "3   0.29  Premium     I     VS2   62.4   58.0    334  4.20  4.23  2.63\n",
       "4   0.31     Good     J     SI2   63.3   58.0    335  4.34  4.35  2.75"
      ]
     },
     "execution_count": 248,
     "metadata": {},
     "output_type": "execute_result"
    }
   ],
   "source": [
    "diamonds = pd.read_csv(Path('data')/'diamonds.csv')\n",
    "diamonds.head()"
   ]
  },
  {
   "cell_type": "markdown",
   "id": "a489cb11",
   "metadata": {},
   "source": [
    "### Question 2 – Ordinal Encoding 🔢\n",
    "\n",
    "Every categorical variable in the dataset is an ordinal column, meaning that there is an inherent order that we can use to sort the values in the column. Recall that **ordinal encoding** is a feature transformation that maps the values in an ordinal column to positive integers in a way that preserves the order of the column values. For instance, an ordinal encoding for Freshman, Sophomore, Junior, Senior is 0, 1, 2, 3.\n",
    "\n",
    "Complete the implementation of the function `create_ordinal`, which takes in the `diamonds` DataFrame and returns a DataFrame of ordinal features only with names of the form `'ordinal_<col>'`, where `'<col>'` is the original categorical column name. For instance, the `'ordinal_color'` column should consist of values from 0 to 6, where 0 refers to `'J'` and 6 refers to `'D'`. (In all cases, start counting from 0.)\n",
    "\n",
    "***Notes:*** \n",
    "- Remember, you are creating this function using basic `pandas`. You might want to create a helper function that takes in a single column and an ordering for that column.\n",
    "- Don't include non-ordinal features in the returned DataFrame. That is, if there are only three columns in `diamonds` that are ordinal, `create_ordinal` should return a DataFrame with three columns.\n",
    "- The orderings for each of the ordinal columns are displayed in the data dictionary above (in the `'unique values or range'` column)."
   ]
  },
  {
   "cell_type": "code",
   "execution_count": null,
   "id": "e211f857",
   "metadata": {},
   "outputs": [],
   "source": []
  },
  {
   "cell_type": "code",
   "execution_count": 249,
   "id": "8273c3ee",
   "metadata": {},
   "outputs": [
    {
     "data": {
      "text/html": [
       "<div>\n",
       "<style scoped>\n",
       "    .dataframe tbody tr th:only-of-type {\n",
       "        vertical-align: middle;\n",
       "    }\n",
       "\n",
       "    .dataframe tbody tr th {\n",
       "        vertical-align: top;\n",
       "    }\n",
       "\n",
       "    .dataframe thead th {\n",
       "        text-align: right;\n",
       "    }\n",
       "</style>\n",
       "<table border=\"1\" class=\"dataframe\">\n",
       "  <thead>\n",
       "    <tr style=\"text-align: right;\">\n",
       "      <th></th>\n",
       "      <th>ordinal_cut</th>\n",
       "      <th>ordinal_color</th>\n",
       "      <th>ordinal_clarity</th>\n",
       "    </tr>\n",
       "  </thead>\n",
       "  <tbody>\n",
       "    <tr>\n",
       "      <th>0</th>\n",
       "      <td>4</td>\n",
       "      <td>5</td>\n",
       "      <td>1</td>\n",
       "    </tr>\n",
       "    <tr>\n",
       "      <th>1</th>\n",
       "      <td>3</td>\n",
       "      <td>5</td>\n",
       "      <td>2</td>\n",
       "    </tr>\n",
       "    <tr>\n",
       "      <th>2</th>\n",
       "      <td>1</td>\n",
       "      <td>5</td>\n",
       "      <td>4</td>\n",
       "    </tr>\n",
       "    <tr>\n",
       "      <th>3</th>\n",
       "      <td>3</td>\n",
       "      <td>1</td>\n",
       "      <td>3</td>\n",
       "    </tr>\n",
       "    <tr>\n",
       "      <th>4</th>\n",
       "      <td>1</td>\n",
       "      <td>0</td>\n",
       "      <td>1</td>\n",
       "    </tr>\n",
       "    <tr>\n",
       "      <th>...</th>\n",
       "      <td>...</td>\n",
       "      <td>...</td>\n",
       "      <td>...</td>\n",
       "    </tr>\n",
       "    <tr>\n",
       "      <th>53935</th>\n",
       "      <td>4</td>\n",
       "      <td>6</td>\n",
       "      <td>2</td>\n",
       "    </tr>\n",
       "    <tr>\n",
       "      <th>53936</th>\n",
       "      <td>1</td>\n",
       "      <td>6</td>\n",
       "      <td>2</td>\n",
       "    </tr>\n",
       "    <tr>\n",
       "      <th>53937</th>\n",
       "      <td>2</td>\n",
       "      <td>6</td>\n",
       "      <td>2</td>\n",
       "    </tr>\n",
       "    <tr>\n",
       "      <th>53938</th>\n",
       "      <td>3</td>\n",
       "      <td>2</td>\n",
       "      <td>1</td>\n",
       "    </tr>\n",
       "    <tr>\n",
       "      <th>53939</th>\n",
       "      <td>4</td>\n",
       "      <td>6</td>\n",
       "      <td>1</td>\n",
       "    </tr>\n",
       "  </tbody>\n",
       "</table>\n",
       "<p>53940 rows × 3 columns</p>\n",
       "</div>"
      ],
      "text/plain": [
       "       ordinal_cut  ordinal_color  ordinal_clarity\n",
       "0                4              5                1\n",
       "1                3              5                2\n",
       "2                1              5                4\n",
       "3                3              1                3\n",
       "4                1              0                1\n",
       "...            ...            ...              ...\n",
       "53935            4              6                2\n",
       "53936            1              6                2\n",
       "53937            2              6                2\n",
       "53938            3              2                1\n",
       "53939            4              6                1\n",
       "\n",
       "[53940 rows x 3 columns]"
      ]
     },
     "execution_count": 249,
     "metadata": {},
     "output_type": "execute_result"
    }
   ],
   "source": [
    "create_ordinal(diamonds)"
   ]
  },
  {
   "cell_type": "code",
   "execution_count": 250,
   "id": "d900a811",
   "metadata": {},
   "outputs": [],
   "source": [
    "# don't change this cell, but do run it -- it is needed for the tests to work\n",
    "diamonds = pd.read_csv(Path('data')/'diamonds.csv')\n",
    "out_q2 = create_ordinal(diamonds)\n"
   ]
  },
  {
   "cell_type": "code",
   "execution_count": 251,
   "id": "240db2b1",
   "metadata": {
    "deletable": false,
    "editable": false
   },
   "outputs": [
    {
     "data": {
      "text/html": [
       "<p><strong><pre style='display: inline;'>q2</pre></strong> passed!</p>"
      ],
      "text/plain": [
       "q2 results: All test cases passed!"
      ]
     },
     "execution_count": 251,
     "metadata": {},
     "output_type": "execute_result"
    }
   ],
   "source": [
    "grader.check(\"q2\")"
   ]
  },
  {
   "cell_type": "markdown",
   "id": "138eb10f",
   "metadata": {},
   "source": [
    "### Question 3 – Nominal Encoding 📊\n",
    "\n",
    "Even though the categorical variables in the dataset are ordinal, we can still treat them as nominal by forgetting their order. To treat the categorical variables in our dataset as nominal, we might **one-hot encode** them. \n",
    "\n",
    "#### `create_one_hot`\n",
    "\n",
    "Complete the implementation of the function `create_one_hot`, which takes in the `diamonds` DataFrame and returns a DataFrame of one-hot encoded features with names of the form `'one_hot_<col>_<val>'`, where `'<col>'` is the original categorical column name, and `'<val>'` is the value found in the categorical column `'<col>'`. For instance, one of your column names will be `'one_hot_color_J'`.\n",
    "\n",
    "***Notes***:\n",
    "- Only include one-hot-encoded columns in the DataFrame that `create_one_hot` returns.\n",
    "- Create a helper function that creates the one-hot encoding for a single column. **Do not** use `sklearn` or `pd.get_dummies` for this question!\n",
    "- As per usual, write an efficient implementation. You may use a `for`-loop over **columns**, but not over rows. And the order of **columns** does not matter.\n",
    "- In lecture, we will look at cases where we need to drop one one-hot encoded column per categorical variable. **Do not drop** any one-hot encoded columns here!\n",
    "\n",
    "<br>\n",
    "\n",
    "#### `create_proportions`\n",
    "\n",
    "Similar to the one-hot encoding case, you can replace a value in a nominal column with the proportion of times that value appears in the column. For instance, if a column consists of the values `['a', 'b', 'a', 'c']`, then the proportion-encoded column is `[0.5, 0.25, 0.5, 0.25]`.  This might be a reasonable approach to predicting the price of a diamond, as you might expect *rarer attributes to be considered more valuable* than common ones.\n",
    "\n",
    "Complete the implementation of the function `create_proportions`, which takes in the `diamonds` DataFrame and returns a DataFrame of proportion-encoded features with names of the form `'proportion_<col>'`, where `'<col>'` is the original categorical column name."
   ]
  },
  {
   "cell_type": "code",
   "execution_count": null,
   "id": "a205d92b",
   "metadata": {},
   "outputs": [],
   "source": []
  },
  {
   "cell_type": "code",
   "execution_count": 252,
   "id": "cfc72abc",
   "metadata": {},
   "outputs": [
    {
     "data": {
      "text/html": [
       "<div>\n",
       "<style scoped>\n",
       "    .dataframe tbody tr th:only-of-type {\n",
       "        vertical-align: middle;\n",
       "    }\n",
       "\n",
       "    .dataframe tbody tr th {\n",
       "        vertical-align: top;\n",
       "    }\n",
       "\n",
       "    .dataframe thead th {\n",
       "        text-align: right;\n",
       "    }\n",
       "</style>\n",
       "<table border=\"1\" class=\"dataframe\">\n",
       "  <thead>\n",
       "    <tr style=\"text-align: right;\">\n",
       "      <th></th>\n",
       "      <th>proportion_ordinal_cut</th>\n",
       "      <th>proportion_ordinal_color</th>\n",
       "      <th>proportion_ordinal_clarity</th>\n",
       "    </tr>\n",
       "  </thead>\n",
       "  <tbody>\n",
       "    <tr>\n",
       "      <th>0</th>\n",
       "      <td>0.399537</td>\n",
       "      <td>0.181628</td>\n",
       "      <td>0.170449</td>\n",
       "    </tr>\n",
       "    <tr>\n",
       "      <th>1</th>\n",
       "      <td>0.255673</td>\n",
       "      <td>0.181628</td>\n",
       "      <td>0.242214</td>\n",
       "    </tr>\n",
       "    <tr>\n",
       "      <th>2</th>\n",
       "      <td>0.090953</td>\n",
       "      <td>0.181628</td>\n",
       "      <td>0.151483</td>\n",
       "    </tr>\n",
       "    <tr>\n",
       "      <th>3</th>\n",
       "      <td>0.255673</td>\n",
       "      <td>0.100519</td>\n",
       "      <td>0.227253</td>\n",
       "    </tr>\n",
       "    <tr>\n",
       "      <th>4</th>\n",
       "      <td>0.090953</td>\n",
       "      <td>0.052058</td>\n",
       "      <td>0.170449</td>\n",
       "    </tr>\n",
       "    <tr>\n",
       "      <th>...</th>\n",
       "      <td>...</td>\n",
       "      <td>...</td>\n",
       "      <td>...</td>\n",
       "    </tr>\n",
       "    <tr>\n",
       "      <th>53935</th>\n",
       "      <td>0.399537</td>\n",
       "      <td>0.125603</td>\n",
       "      <td>0.242214</td>\n",
       "    </tr>\n",
       "    <tr>\n",
       "      <th>53936</th>\n",
       "      <td>0.090953</td>\n",
       "      <td>0.125603</td>\n",
       "      <td>0.242214</td>\n",
       "    </tr>\n",
       "    <tr>\n",
       "      <th>53937</th>\n",
       "      <td>0.223990</td>\n",
       "      <td>0.125603</td>\n",
       "      <td>0.242214</td>\n",
       "    </tr>\n",
       "    <tr>\n",
       "      <th>53938</th>\n",
       "      <td>0.255673</td>\n",
       "      <td>0.153949</td>\n",
       "      <td>0.170449</td>\n",
       "    </tr>\n",
       "    <tr>\n",
       "      <th>53939</th>\n",
       "      <td>0.399537</td>\n",
       "      <td>0.125603</td>\n",
       "      <td>0.170449</td>\n",
       "    </tr>\n",
       "  </tbody>\n",
       "</table>\n",
       "<p>53940 rows × 3 columns</p>\n",
       "</div>"
      ],
      "text/plain": [
       "       proportion_ordinal_cut  proportion_ordinal_color  \\\n",
       "0                    0.399537                  0.181628   \n",
       "1                    0.255673                  0.181628   \n",
       "2                    0.090953                  0.181628   \n",
       "3                    0.255673                  0.100519   \n",
       "4                    0.090953                  0.052058   \n",
       "...                       ...                       ...   \n",
       "53935                0.399537                  0.125603   \n",
       "53936                0.090953                  0.125603   \n",
       "53937                0.223990                  0.125603   \n",
       "53938                0.255673                  0.153949   \n",
       "53939                0.399537                  0.125603   \n",
       "\n",
       "       proportion_ordinal_clarity  \n",
       "0                        0.170449  \n",
       "1                        0.242214  \n",
       "2                        0.151483  \n",
       "3                        0.227253  \n",
       "4                        0.170449  \n",
       "...                           ...  \n",
       "53935                    0.242214  \n",
       "53936                    0.242214  \n",
       "53937                    0.242214  \n",
       "53938                    0.170449  \n",
       "53939                    0.170449  \n",
       "\n",
       "[53940 rows x 3 columns]"
      ]
     },
     "execution_count": 252,
     "metadata": {},
     "output_type": "execute_result"
    }
   ],
   "source": [
    "create_proportions(diamonds)"
   ]
  },
  {
   "cell_type": "markdown",
   "id": "b954ab00",
   "metadata": {},
   "source": []
  },
  {
   "cell_type": "code",
   "execution_count": 253,
   "id": "69d741d4",
   "metadata": {},
   "outputs": [],
   "source": [
    "# don't change this cell, but do run it -- it is needed for the tests to work\n",
    "diamonds = pd.read_csv(Path('data')/'diamonds.csv')\n",
    "out1_q3 = create_one_hot(diamonds)\n",
    "out2_q3 = create_proportions(diamonds)"
   ]
  },
  {
   "cell_type": "code",
   "execution_count": 254,
   "id": "5ea8bb4c",
   "metadata": {
    "deletable": false,
    "editable": false
   },
   "outputs": [
    {
     "data": {
      "text/html": [
       "<p><strong><pre style='display: inline;'>q3</pre></strong> passed!</p>"
      ],
      "text/plain": [
       "q3 results: All test cases passed!"
      ]
     },
     "execution_count": 254,
     "metadata": {},
     "output_type": "execute_result"
    }
   ],
   "source": [
    "grader.check(\"q3\")"
   ]
  },
  {
   "cell_type": "markdown",
   "id": "5b6d1048",
   "metadata": {},
   "source": [
    "### Question 4 – Quadratic Features 📈\n",
    "\n",
    "Linear regression doesn't capture non-linear relationships between variables. However, you can create features that encode such dependencies **before** fitting your regression model. Creating polynomial features is one way to do this. For example, the diamonds dataset contains `'x'`, `'y'`, and `'z'` dimensions for each stone. However, different combinations of size may be more valuable than others: a \"deep and wide\" diamond might be considered more valuable than a shallow, but \"long and wide\" diamond.\n",
    "\n",
    "Complete the implementation of the function `create_quadratics`, which takes in the `diamonds` DataFrame and returns a DataFrame of quadratic features of the form `'<col1> * <col2>'`, where `'<col1>'` and `'<col2>'` are the original quantitative columns. The output DataFrame should contain a column for every distinct pair of quantitative columns in `diamonds` (aside from `price`, which should be left out as it is what we are predicting). For instance, one of the columns in the returned DataFrame should named either `'carat * x'` or `'x * carat'`; the order of column names is not important.\n",
    "\n",
    "***Notes***:\n",
    "- Again, **do not** use `sklearn` for this question! \n",
    "- Try finding all pairs of quantitative columns efficiently; don't use a nested loop (hint: you may `import itertools`). Our solution contains just a single `for`-loop (over pairs of columns).\n",
    "- If you import itertools, you must include the itertools import in both this notebook and in `lab.py`.\n",
    "- The columns of the resulting DataFrame may be in any order."
   ]
  },
  {
   "cell_type": "code",
   "execution_count": null,
   "id": "c8815b67",
   "metadata": {},
   "outputs": [],
   "source": []
  },
  {
   "cell_type": "code",
   "execution_count": 255,
   "id": "a364887d",
   "metadata": {},
   "outputs": [
    {
     "data": {
      "text/html": [
       "<div>\n",
       "<style scoped>\n",
       "    .dataframe tbody tr th:only-of-type {\n",
       "        vertical-align: middle;\n",
       "    }\n",
       "\n",
       "    .dataframe tbody tr th {\n",
       "        vertical-align: top;\n",
       "    }\n",
       "\n",
       "    .dataframe thead th {\n",
       "        text-align: right;\n",
       "    }\n",
       "</style>\n",
       "<table border=\"1\" class=\"dataframe\">\n",
       "  <thead>\n",
       "    <tr style=\"text-align: right;\">\n",
       "      <th></th>\n",
       "      <th>carat * x</th>\n",
       "      <th>carat * y</th>\n",
       "      <th>carat * z</th>\n",
       "      <th>depth * x</th>\n",
       "      <th>depth * y</th>\n",
       "      <th>depth * z</th>\n",
       "      <th>table * x</th>\n",
       "      <th>table * y</th>\n",
       "      <th>table * z</th>\n",
       "      <th>price * x</th>\n",
       "      <th>price * y</th>\n",
       "      <th>price * z</th>\n",
       "      <th>x * y</th>\n",
       "      <th>x * z</th>\n",
       "      <th>y * z</th>\n",
       "    </tr>\n",
       "  </thead>\n",
       "  <tbody>\n",
       "    <tr>\n",
       "      <th>0</th>\n",
       "      <td>0.9085</td>\n",
       "      <td>0.9154</td>\n",
       "      <td>0.5589</td>\n",
       "      <td>242.925</td>\n",
       "      <td>244.770</td>\n",
       "      <td>149.445</td>\n",
       "      <td>217.25</td>\n",
       "      <td>218.90</td>\n",
       "      <td>133.65</td>\n",
       "      <td>1287.70</td>\n",
       "      <td>1297.48</td>\n",
       "      <td>792.18</td>\n",
       "      <td>15.7210</td>\n",
       "      <td>9.5985</td>\n",
       "      <td>9.6714</td>\n",
       "    </tr>\n",
       "    <tr>\n",
       "      <th>1</th>\n",
       "      <td>0.8169</td>\n",
       "      <td>0.8064</td>\n",
       "      <td>0.4851</td>\n",
       "      <td>232.622</td>\n",
       "      <td>229.632</td>\n",
       "      <td>138.138</td>\n",
       "      <td>237.29</td>\n",
       "      <td>234.24</td>\n",
       "      <td>140.91</td>\n",
       "      <td>1268.14</td>\n",
       "      <td>1251.84</td>\n",
       "      <td>753.06</td>\n",
       "      <td>14.9376</td>\n",
       "      <td>8.9859</td>\n",
       "      <td>8.8704</td>\n",
       "    </tr>\n",
       "    <tr>\n",
       "      <th>2</th>\n",
       "      <td>0.9315</td>\n",
       "      <td>0.9361</td>\n",
       "      <td>0.5313</td>\n",
       "      <td>230.445</td>\n",
       "      <td>231.583</td>\n",
       "      <td>131.439</td>\n",
       "      <td>263.25</td>\n",
       "      <td>264.55</td>\n",
       "      <td>150.15</td>\n",
       "      <td>1324.35</td>\n",
       "      <td>1330.89</td>\n",
       "      <td>755.37</td>\n",
       "      <td>16.4835</td>\n",
       "      <td>9.3555</td>\n",
       "      <td>9.4017</td>\n",
       "    </tr>\n",
       "    <tr>\n",
       "      <th>3</th>\n",
       "      <td>1.2180</td>\n",
       "      <td>1.2267</td>\n",
       "      <td>0.7627</td>\n",
       "      <td>262.080</td>\n",
       "      <td>263.952</td>\n",
       "      <td>164.112</td>\n",
       "      <td>243.60</td>\n",
       "      <td>245.34</td>\n",
       "      <td>152.54</td>\n",
       "      <td>1402.80</td>\n",
       "      <td>1412.82</td>\n",
       "      <td>878.42</td>\n",
       "      <td>17.7660</td>\n",
       "      <td>11.0460</td>\n",
       "      <td>11.1249</td>\n",
       "    </tr>\n",
       "    <tr>\n",
       "      <th>4</th>\n",
       "      <td>1.3454</td>\n",
       "      <td>1.3485</td>\n",
       "      <td>0.8525</td>\n",
       "      <td>274.722</td>\n",
       "      <td>275.355</td>\n",
       "      <td>174.075</td>\n",
       "      <td>251.72</td>\n",
       "      <td>252.30</td>\n",
       "      <td>159.50</td>\n",
       "      <td>1453.90</td>\n",
       "      <td>1457.25</td>\n",
       "      <td>921.25</td>\n",
       "      <td>18.8790</td>\n",
       "      <td>11.9350</td>\n",
       "      <td>11.9625</td>\n",
       "    </tr>\n",
       "    <tr>\n",
       "      <th>...</th>\n",
       "      <td>...</td>\n",
       "      <td>...</td>\n",
       "      <td>...</td>\n",
       "      <td>...</td>\n",
       "      <td>...</td>\n",
       "      <td>...</td>\n",
       "      <td>...</td>\n",
       "      <td>...</td>\n",
       "      <td>...</td>\n",
       "      <td>...</td>\n",
       "      <td>...</td>\n",
       "      <td>...</td>\n",
       "      <td>...</td>\n",
       "      <td>...</td>\n",
       "      <td>...</td>\n",
       "    </tr>\n",
       "    <tr>\n",
       "      <th>53935</th>\n",
       "      <td>4.1400</td>\n",
       "      <td>4.1472</td>\n",
       "      <td>2.5200</td>\n",
       "      <td>349.600</td>\n",
       "      <td>350.208</td>\n",
       "      <td>212.800</td>\n",
       "      <td>327.75</td>\n",
       "      <td>328.32</td>\n",
       "      <td>199.50</td>\n",
       "      <td>15852.75</td>\n",
       "      <td>15880.32</td>\n",
       "      <td>9649.50</td>\n",
       "      <td>33.1200</td>\n",
       "      <td>20.1250</td>\n",
       "      <td>20.1600</td>\n",
       "    </tr>\n",
       "    <tr>\n",
       "      <th>53936</th>\n",
       "      <td>4.0968</td>\n",
       "      <td>4.1400</td>\n",
       "      <td>2.5992</td>\n",
       "      <td>359.039</td>\n",
       "      <td>362.825</td>\n",
       "      <td>227.791</td>\n",
       "      <td>312.95</td>\n",
       "      <td>316.25</td>\n",
       "      <td>198.55</td>\n",
       "      <td>15687.33</td>\n",
       "      <td>15852.75</td>\n",
       "      <td>9952.77</td>\n",
       "      <td>32.7175</td>\n",
       "      <td>20.5409</td>\n",
       "      <td>20.7575</td>\n",
       "    </tr>\n",
       "    <tr>\n",
       "      <th>53937</th>\n",
       "      <td>3.9620</td>\n",
       "      <td>3.9760</td>\n",
       "      <td>2.4920</td>\n",
       "      <td>355.448</td>\n",
       "      <td>356.704</td>\n",
       "      <td>223.568</td>\n",
       "      <td>339.60</td>\n",
       "      <td>340.80</td>\n",
       "      <td>213.60</td>\n",
       "      <td>15604.62</td>\n",
       "      <td>15659.76</td>\n",
       "      <td>9814.92</td>\n",
       "      <td>32.1488</td>\n",
       "      <td>20.1496</td>\n",
       "      <td>20.2208</td>\n",
       "    </tr>\n",
       "    <tr>\n",
       "      <th>53938</th>\n",
       "      <td>5.2890</td>\n",
       "      <td>5.2632</td>\n",
       "      <td>3.2164</td>\n",
       "      <td>375.150</td>\n",
       "      <td>373.320</td>\n",
       "      <td>228.140</td>\n",
       "      <td>356.70</td>\n",
       "      <td>354.96</td>\n",
       "      <td>216.92</td>\n",
       "      <td>16955.55</td>\n",
       "      <td>16872.84</td>\n",
       "      <td>10311.18</td>\n",
       "      <td>37.6380</td>\n",
       "      <td>23.0010</td>\n",
       "      <td>22.8888</td>\n",
       "    </tr>\n",
       "    <tr>\n",
       "      <th>53939</th>\n",
       "      <td>4.3725</td>\n",
       "      <td>4.4025</td>\n",
       "      <td>2.7300</td>\n",
       "      <td>362.626</td>\n",
       "      <td>365.114</td>\n",
       "      <td>226.408</td>\n",
       "      <td>320.65</td>\n",
       "      <td>322.85</td>\n",
       "      <td>200.20</td>\n",
       "      <td>16073.31</td>\n",
       "      <td>16183.59</td>\n",
       "      <td>10035.48</td>\n",
       "      <td>34.2221</td>\n",
       "      <td>21.2212</td>\n",
       "      <td>21.3668</td>\n",
       "    </tr>\n",
       "  </tbody>\n",
       "</table>\n",
       "<p>53940 rows × 15 columns</p>\n",
       "</div>"
      ],
      "text/plain": [
       "       carat * x  carat * y  carat * z  depth * x  depth * y  depth * z  \\\n",
       "0         0.9085     0.9154     0.5589    242.925    244.770    149.445   \n",
       "1         0.8169     0.8064     0.4851    232.622    229.632    138.138   \n",
       "2         0.9315     0.9361     0.5313    230.445    231.583    131.439   \n",
       "3         1.2180     1.2267     0.7627    262.080    263.952    164.112   \n",
       "4         1.3454     1.3485     0.8525    274.722    275.355    174.075   \n",
       "...          ...        ...        ...        ...        ...        ...   \n",
       "53935     4.1400     4.1472     2.5200    349.600    350.208    212.800   \n",
       "53936     4.0968     4.1400     2.5992    359.039    362.825    227.791   \n",
       "53937     3.9620     3.9760     2.4920    355.448    356.704    223.568   \n",
       "53938     5.2890     5.2632     3.2164    375.150    373.320    228.140   \n",
       "53939     4.3725     4.4025     2.7300    362.626    365.114    226.408   \n",
       "\n",
       "       table * x  table * y  table * z  price * x  price * y  price * z  \\\n",
       "0         217.25     218.90     133.65    1287.70    1297.48     792.18   \n",
       "1         237.29     234.24     140.91    1268.14    1251.84     753.06   \n",
       "2         263.25     264.55     150.15    1324.35    1330.89     755.37   \n",
       "3         243.60     245.34     152.54    1402.80    1412.82     878.42   \n",
       "4         251.72     252.30     159.50    1453.90    1457.25     921.25   \n",
       "...          ...        ...        ...        ...        ...        ...   \n",
       "53935     327.75     328.32     199.50   15852.75   15880.32    9649.50   \n",
       "53936     312.95     316.25     198.55   15687.33   15852.75    9952.77   \n",
       "53937     339.60     340.80     213.60   15604.62   15659.76    9814.92   \n",
       "53938     356.70     354.96     216.92   16955.55   16872.84   10311.18   \n",
       "53939     320.65     322.85     200.20   16073.31   16183.59   10035.48   \n",
       "\n",
       "         x * y    x * z    y * z  \n",
       "0      15.7210   9.5985   9.6714  \n",
       "1      14.9376   8.9859   8.8704  \n",
       "2      16.4835   9.3555   9.4017  \n",
       "3      17.7660  11.0460  11.1249  \n",
       "4      18.8790  11.9350  11.9625  \n",
       "...        ...      ...      ...  \n",
       "53935  33.1200  20.1250  20.1600  \n",
       "53936  32.7175  20.5409  20.7575  \n",
       "53937  32.1488  20.1496  20.2208  \n",
       "53938  37.6380  23.0010  22.8888  \n",
       "53939  34.2221  21.2212  21.3668  \n",
       "\n",
       "[53940 rows x 15 columns]"
      ]
     },
     "execution_count": 255,
     "metadata": {},
     "output_type": "execute_result"
    }
   ],
   "source": [
    "create_quadratics(diamonds)"
   ]
  },
  {
   "cell_type": "code",
   "execution_count": 256,
   "id": "f7f39359",
   "metadata": {},
   "outputs": [],
   "source": [
    "# don't change this cell, but do run it -- it is needed for the tests to work\n",
    "diamonds = pd.read_csv(Path('data')/'diamonds.csv')\n",
    "out_q4 = create_quadratics(diamonds)"
   ]
  },
  {
   "cell_type": "code",
   "execution_count": 257,
   "id": "9cef3504",
   "metadata": {
    "deletable": false,
    "editable": false
   },
   "outputs": [
    {
     "data": {
      "text/html": [
       "<p><strong><pre style='display: inline;'>q4</pre></strong> passed!</p>"
      ],
      "text/plain": [
       "q4 results: All test cases passed!"
      ]
     },
     "execution_count": 257,
     "metadata": {},
     "output_type": "execute_result"
    }
   ],
   "source": [
    "grader.check(\"q4\")"
   ]
  },
  {
   "cell_type": "markdown",
   "id": "024a374f",
   "metadata": {},
   "source": [
    "### Question 5 – Comparing Performance 🏆\n",
    "\n",
    "We've now created several sets of features. **Which features are best able to predict the price of a diamond in a linear regression model?** We'll look at both single-feature linear regression models and multiple regression models. In all cases, use the default arguments to `sklearn`'s `LinearRegression` object (i.e. assume there is an intercept term).\n",
    "\n",
    "<br>\n",
    "\n",
    "Two of the evaluation metrics we can use to compare regression models are RMSE and $R^2$.\n",
    "\n",
    "RMSE, or Root Mean Squared Error, roughly measures the average distance between a model's predicted values and the actual values. The RMSE indicates how concentrated predictions are around the line of best fit, with lower values typically indicating smaller residuals and better model performance. RMSE can be calculated using the formula below, where $\\text{n}$ is the number of data points, $\\hat{y_i}$ is the $i$th prediction, and $y_i$ is the corresponding actual value.\n",
    "\n",
    "$$\\text{RMSE} = \\sqrt{\\frac{\\sum_{i=1}^n (y_i - \\hat{y_i})^2}{n}}$$\n",
    "\n",
    "Remember that in least squares regression, we choose the model parameters that minimize RMSE.\n",
    "\n",
    "<br>\n",
    "\n",
    "$R^2$, also known as the coefficient of determination, denotes the proportion of variance in the dependent variable that the independent variable explains. It is used to assess the quality of a linear fit, and in the simple linear regression case, it is the square of the correlation coefficient $r$. $R^2$ values range between 0 and 1, with lower values indicating a worse linear fit and with higher values indicating a better linear fit. If `model` is a fitted `sklearn` regression object, $R^2$ can be computed by calling `model.score`. \n",
    "\n",
    "#### Single-Feature Models\n",
    "\n",
    "- (1) Fit a single-feature linear regression model on `'carat'`. What is the $R^2$ of the model? (Note that `'carat'` turns out to be the best single feature to use in a linear model that predicts price.)\n",
    "- (2) What is the RMSE of the model you created in (1)?\n",
    "- (3) Amongst the other **quantitative** features present in the original `diamonds`, which produces the single-feature linear regression model with the highest $R^2$?\n",
    "- (4) Amongst all the new features you created in Questions 2-4, which produces the single-feature linear regression model with the highest $R^2$?\n",
    "- (5) Amongst the new categorical features you created in Question 2 and 3, which produces the single-feature linear regression model with the highest $R^2$? \n",
    "\n",
    "#### Multiple Regression\n",
    "\n",
    "Now, fit a multiple regression model using:\n",
    "- the quantitative columns that were present in the original `diamonds` dataset, and\n",
    "- the quantitative features engineered in Question 4\n",
    "\n",
    "as features. (Don't use any of the encodings of categorical columns from Questions 2 and 3.)\n",
    "\n",
    "- (6) What is the RMSE of this new model?\n",
    "\n",
    "\n",
    "<br>\n",
    "\n",
    "Complete the implementation of the function `comparing_performance`, which returns a list containing the answers to the 6 questions numbered (1), (2), ..., (6) above. You don't need to round any of your answers.\n",
    "\n",
    "***Hint:*** Repeatedly use the `sklearn` pattern included below. It's a good idea to make a helper function that takes in a column, performs single-feature regression using the input column as the feature, and returns the $R^2$ and RMSE of the model."
   ]
  },
  {
   "cell_type": "code",
   "execution_count": 258,
   "id": "929352b9",
   "metadata": {},
   "outputs": [
    {
     "data": {
      "text/plain": [
       "0.7427546685902617"
      ]
     },
     "execution_count": 258,
     "metadata": {},
     "output_type": "execute_result"
    }
   ],
   "source": [
    "from sklearn.linear_model import LinearRegression\n",
    "df = create_ordinal(diamonds)\n",
    "X = out_q4[['depth * y']]\n",
    "y = diamonds[['price']]\n",
    "\n",
    "lr = LinearRegression()\n",
    "lr.fit(X, y)  # X is a DataFrame of training data; y is a Series of prices\n",
    "lr.score(X, y)  # R-squared\n",
    "p = lr.predict(X) # predicted prices\n",
    "lr.score(X, y)\n"
   ]
  },
  {
   "cell_type": "code",
   "execution_count": 261,
   "id": "c23f00e8",
   "metadata": {},
   "outputs": [
    {
     "data": {
      "text/html": [
       "<div>\n",
       "<style scoped>\n",
       "    .dataframe tbody tr th:only-of-type {\n",
       "        vertical-align: middle;\n",
       "    }\n",
       "\n",
       "    .dataframe tbody tr th {\n",
       "        vertical-align: top;\n",
       "    }\n",
       "\n",
       "    .dataframe thead th {\n",
       "        text-align: right;\n",
       "    }\n",
       "</style>\n",
       "<table border=\"1\" class=\"dataframe\">\n",
       "  <thead>\n",
       "    <tr style=\"text-align: right;\">\n",
       "      <th></th>\n",
       "      <th>carat</th>\n",
       "      <th>depth</th>\n",
       "      <th>table</th>\n",
       "      <th>x</th>\n",
       "      <th>y</th>\n",
       "      <th>z</th>\n",
       "    </tr>\n",
       "  </thead>\n",
       "  <tbody>\n",
       "    <tr>\n",
       "      <th>0</th>\n",
       "      <td>0.23</td>\n",
       "      <td>61.5</td>\n",
       "      <td>55.0</td>\n",
       "      <td>3.95</td>\n",
       "      <td>3.98</td>\n",
       "      <td>2.43</td>\n",
       "    </tr>\n",
       "    <tr>\n",
       "      <th>1</th>\n",
       "      <td>0.21</td>\n",
       "      <td>59.8</td>\n",
       "      <td>61.0</td>\n",
       "      <td>3.89</td>\n",
       "      <td>3.84</td>\n",
       "      <td>2.31</td>\n",
       "    </tr>\n",
       "    <tr>\n",
       "      <th>2</th>\n",
       "      <td>0.23</td>\n",
       "      <td>56.9</td>\n",
       "      <td>65.0</td>\n",
       "      <td>4.05</td>\n",
       "      <td>4.07</td>\n",
       "      <td>2.31</td>\n",
       "    </tr>\n",
       "    <tr>\n",
       "      <th>3</th>\n",
       "      <td>0.29</td>\n",
       "      <td>62.4</td>\n",
       "      <td>58.0</td>\n",
       "      <td>4.20</td>\n",
       "      <td>4.23</td>\n",
       "      <td>2.63</td>\n",
       "    </tr>\n",
       "    <tr>\n",
       "      <th>4</th>\n",
       "      <td>0.31</td>\n",
       "      <td>63.3</td>\n",
       "      <td>58.0</td>\n",
       "      <td>4.34</td>\n",
       "      <td>4.35</td>\n",
       "      <td>2.75</td>\n",
       "    </tr>\n",
       "    <tr>\n",
       "      <th>...</th>\n",
       "      <td>...</td>\n",
       "      <td>...</td>\n",
       "      <td>...</td>\n",
       "      <td>...</td>\n",
       "      <td>...</td>\n",
       "      <td>...</td>\n",
       "    </tr>\n",
       "    <tr>\n",
       "      <th>53935</th>\n",
       "      <td>0.72</td>\n",
       "      <td>60.8</td>\n",
       "      <td>57.0</td>\n",
       "      <td>5.75</td>\n",
       "      <td>5.76</td>\n",
       "      <td>3.50</td>\n",
       "    </tr>\n",
       "    <tr>\n",
       "      <th>53936</th>\n",
       "      <td>0.72</td>\n",
       "      <td>63.1</td>\n",
       "      <td>55.0</td>\n",
       "      <td>5.69</td>\n",
       "      <td>5.75</td>\n",
       "      <td>3.61</td>\n",
       "    </tr>\n",
       "    <tr>\n",
       "      <th>53937</th>\n",
       "      <td>0.70</td>\n",
       "      <td>62.8</td>\n",
       "      <td>60.0</td>\n",
       "      <td>5.66</td>\n",
       "      <td>5.68</td>\n",
       "      <td>3.56</td>\n",
       "    </tr>\n",
       "    <tr>\n",
       "      <th>53938</th>\n",
       "      <td>0.86</td>\n",
       "      <td>61.0</td>\n",
       "      <td>58.0</td>\n",
       "      <td>6.15</td>\n",
       "      <td>6.12</td>\n",
       "      <td>3.74</td>\n",
       "    </tr>\n",
       "    <tr>\n",
       "      <th>53939</th>\n",
       "      <td>0.75</td>\n",
       "      <td>62.2</td>\n",
       "      <td>55.0</td>\n",
       "      <td>5.83</td>\n",
       "      <td>5.87</td>\n",
       "      <td>3.64</td>\n",
       "    </tr>\n",
       "  </tbody>\n",
       "</table>\n",
       "<p>53940 rows × 6 columns</p>\n",
       "</div>"
      ],
      "text/plain": [
       "       carat  depth  table     x     y     z\n",
       "0       0.23   61.5   55.0  3.95  3.98  2.43\n",
       "1       0.21   59.8   61.0  3.89  3.84  2.31\n",
       "2       0.23   56.9   65.0  4.05  4.07  2.31\n",
       "3       0.29   62.4   58.0  4.20  4.23  2.63\n",
       "4       0.31   63.3   58.0  4.34  4.35  2.75\n",
       "...      ...    ...    ...   ...   ...   ...\n",
       "53935   0.72   60.8   57.0  5.75  5.76  3.50\n",
       "53936   0.72   63.1   55.0  5.69  5.75  3.61\n",
       "53937   0.70   62.8   60.0  5.66  5.68  3.56\n",
       "53938   0.86   61.0   58.0  6.15  6.12  3.74\n",
       "53939   0.75   62.2   55.0  5.83  5.87  3.64\n",
       "\n",
       "[53940 rows x 6 columns]"
      ]
     },
     "execution_count": 261,
     "metadata": {},
     "output_type": "execute_result"
    }
   ],
   "source": [
    "from sklearn.linear_model import LinearRegression\n",
    "from sklearn.metrics import r2_score\n",
    "# Assuming df is your dataset\n",
    "df = diamonds\n",
    "original_quantitative_features = ['carat','depth', 'table', 'x', 'y', 'z']\n",
    "df_quant_features = create_quadratics(df)\n",
    "string_to_drop = 'price.+'\n",
    "\n",
    "new_df = [i for i in df_quant_features if i in string_to_drop]\n",
    "\n",
    "# Combine original and new quantitative features\n",
    "X_multiple = pd.concat([df[original_quantitative_features], df_quant_features], axis=1)\n",
    "y_multiple = df['price']\n",
    "\n",
    "# Create and fit the multiple regression model\n",
    "model_multiple = LinearRegression()\n",
    "model_multiple.fit(X_multiple, y_multiple)\n",
    "\n",
    "# Make predictions on the same data\n",
    "y_pred_multiple = model_multiple.predict(X_multiple)\n",
    "\n",
    "# Calculate RMSE\n",
    "rmse_multiple = np.sqrt(r2_score(y_multiple, y_pred_multiple))\n",
    "df[original_quantitative_features]"
   ]
  },
  {
   "cell_type": "code",
   "execution_count": null,
   "id": "cea22566",
   "metadata": {},
   "outputs": [],
   "source": []
  },
  {
   "cell_type": "code",
   "execution_count": 208,
   "id": "d5b60b0c",
   "metadata": {},
   "outputs": [],
   "source": [
    "# don't change this cell, but do run it -- it is needed for the tests to work\n",
    "import numbers\n",
    "out_q5 = comparing_performance()"
   ]
  },
  {
   "cell_type": "code",
   "execution_count": 209,
   "id": "8650c71f",
   "metadata": {
    "deletable": false,
    "editable": false
   },
   "outputs": [
    {
     "data": {
      "text/html": [
       "<p><strong><pre style='display: inline;'>q5</pre></strong> passed!</p>"
      ],
      "text/plain": [
       "q5 results: All test cases passed!"
      ]
     },
     "execution_count": 209,
     "metadata": {},
     "output_type": "execute_result"
    }
   ],
   "source": [
    "grader.check(\"q5\")"
   ]
  },
  {
   "cell_type": "markdown",
   "id": "e13a16a7",
   "metadata": {},
   "source": [
    "## Part 3 – Feature Engineering with `sklearn` 🧠\n",
    "\n",
    "In this final question, you will use `sklearn`'s transformers and estimators for feature engineering. While everything you do with `sklearn` is possible to do with `pandas`, `sklearn` transformers enable you to couple your feature engineering with your modeling. This will allow you to more quickly build and assess your models in `sklearn`.\n",
    "\n",
    "Specifically, you will create a `TransformDiamonds` class that contains the three methods specified below – `transform_carat` (6.1), `transform_to_quantile` (6.2), and `transform_to_depth_pct` (6.3). In the starter code, there is a skeleton for `TransformDiamonds` that is initialized with a DataFrame `diamonds`.\n",
    "\n",
    "Each of the methods you implement in the `TransformDiamonds` class should take in a DataFrame, initialize a specific `sklearn.Transformer` object (like `Binarizer` or `FunctionTransformer`), and use the transformer to transform columns from the input DataFrame. You should **not** use DataFrame methods like `apply` in this problem."
   ]
  },
  {
   "cell_type": "code",
   "execution_count": 210,
   "id": "dbcc52d6",
   "metadata": {},
   "outputs": [],
   "source": [
    "from sklearn.preprocessing import Binarizer, QuantileTransformer, FunctionTransformer"
   ]
  },
  {
   "cell_type": "markdown",
   "id": "459a06b8",
   "metadata": {},
   "source": [
    "Question 6 is made up of the three subparts below."
   ]
  },
  {
   "cell_type": "markdown",
   "id": "924d9258",
   "metadata": {},
   "source": [
    "### Question 6.1 – Transforming a Quantitative Column into a Binary Column (`transform_carat`)\n",
    "\n",
    "We call a diamond **large** if its weight is strictly greater than 1 carat. We want to **binarize** weights, so that they are 1 for large diamonds and 0 for small diamonds. Complete the implementation fo the method `transform_carat`, which takes in a DataFrame like `diamonds` and returns a binarized **array** of weights. Use a `Binarizer` object as your transformer.\n",
    "\n",
    "***Notes***:\n",
    "- You will return an array, not a Series, because `sklearn` thinks in terms of `np.ndarray`s, not DataFrames.\n",
    "- The implementation of this function should only take two lines."
   ]
  },
  {
   "cell_type": "code",
   "execution_count": null,
   "id": "c08514db",
   "metadata": {},
   "outputs": [],
   "source": []
  },
  {
   "cell_type": "code",
   "execution_count": null,
   "id": "a51d5f84",
   "metadata": {},
   "outputs": [],
   "source": []
  },
  {
   "cell_type": "code",
   "execution_count": 211,
   "id": "5d784739",
   "metadata": {},
   "outputs": [],
   "source": [
    "# don't change this cell, but do run it -- it is needed for the tests to work\n",
    "diamonds = pd.read_csv(Path('data')/'diamonds.csv')\n",
    "q6a_trans = TransformDiamonds(diamonds)\n",
    "q6a_out = q6a_trans.transform_carat(diamonds)"
   ]
  },
  {
   "cell_type": "code",
   "execution_count": 212,
   "id": "a8d8b37d",
   "metadata": {
    "deletable": false,
    "editable": false
   },
   "outputs": [
    {
     "data": {
      "text/html": [
       "<p><strong style='color: red;'><pre style='display: inline;'>q6.1</pre> results:</strong></p><p><strong><pre style='display: inline;'>q6.1 - 1</pre> result:</strong></p><pre>    Trying:\n",
       "        isinstance(q6a_out, np.ndarray)\n",
       "    Expecting:\n",
       "        True\n",
       "    **********************************************************************\n",
       "    Line 1, in q6.1 0\n",
       "    Failed example:\n",
       "        isinstance(q6a_out, np.ndarray)\n",
       "    Expected:\n",
       "        True\n",
       "    Got:\n",
       "        False\n",
       "</pre><p><strong><pre style='display: inline;'>q6.1 - 2</pre> result:</strong></p><pre>    Trying:\n",
       "        q6a_out[172, 0] == 1\n",
       "    Expecting:\n",
       "        True\n",
       "    **********************************************************************\n",
       "    Line 1, in q6.1 1\n",
       "    Failed example:\n",
       "        q6a_out[172, 0] == 1\n",
       "    Exception raised:\n",
       "        Traceback (most recent call last):\n",
       "          File \"c:\\Users\\samue\\miniforge3\\envs\\dsc80\\lib\\doctest.py\", line 1336, in __run\n",
       "            exec(compile(example.source, filename, \"single\",\n",
       "          File \"<doctest q6.1 1[0]>\", line 1, in <module>\n",
       "            q6a_out[172, 0] == 1\n",
       "        TypeError: 'NoneType' object is not subscriptable\n",
       "</pre><p><strong><pre style='display: inline;'>q6.1 - 3</pre> result:</strong></p><pre>    Trying:\n",
       "        q6a_out[0, 0] == 0\n",
       "    Expecting:\n",
       "        True\n",
       "    **********************************************************************\n",
       "    Line 1, in q6.1 2\n",
       "    Failed example:\n",
       "        q6a_out[0, 0] == 0\n",
       "    Exception raised:\n",
       "        Traceback (most recent call last):\n",
       "          File \"c:\\Users\\samue\\miniforge3\\envs\\dsc80\\lib\\doctest.py\", line 1336, in __run\n",
       "            exec(compile(example.source, filename, \"single\",\n",
       "          File \"<doctest q6.1 2[0]>\", line 1, in <module>\n",
       "            q6a_out[0, 0] == 0\n",
       "        TypeError: 'NoneType' object is not subscriptable\n",
       "</pre>"
      ],
      "text/plain": [
       "q6.1 results:\n",
       "    q6.1 - 1 result:\n",
       "        Trying:\n",
       "            isinstance(q6a_out, np.ndarray)\n",
       "        Expecting:\n",
       "            True\n",
       "        **********************************************************************\n",
       "        Line 1, in q6.1 0\n",
       "        Failed example:\n",
       "            isinstance(q6a_out, np.ndarray)\n",
       "        Expected:\n",
       "            True\n",
       "        Got:\n",
       "            False\n",
       "\n",
       "    q6.1 - 2 result:\n",
       "        Trying:\n",
       "            q6a_out[172, 0] == 1\n",
       "        Expecting:\n",
       "            True\n",
       "        **********************************************************************\n",
       "        Line 1, in q6.1 1\n",
       "        Failed example:\n",
       "            q6a_out[172, 0] == 1\n",
       "        Exception raised:\n",
       "            Traceback (most recent call last):\n",
       "              File \"c:\\Users\\samue\\miniforge3\\envs\\dsc80\\lib\\doctest.py\", line 1336, in __run\n",
       "                exec(compile(example.source, filename, \"single\",\n",
       "              File \"<doctest q6.1 1[0]>\", line 1, in <module>\n",
       "                q6a_out[172, 0] == 1\n",
       "            TypeError: 'NoneType' object is not subscriptable\n",
       "\n",
       "    q6.1 - 3 result:\n",
       "        Trying:\n",
       "            q6a_out[0, 0] == 0\n",
       "        Expecting:\n",
       "            True\n",
       "        **********************************************************************\n",
       "        Line 1, in q6.1 2\n",
       "        Failed example:\n",
       "            q6a_out[0, 0] == 0\n",
       "        Exception raised:\n",
       "            Traceback (most recent call last):\n",
       "              File \"c:\\Users\\samue\\miniforge3\\envs\\dsc80\\lib\\doctest.py\", line 1336, in __run\n",
       "                exec(compile(example.source, filename, \"single\",\n",
       "              File \"<doctest q6.1 2[0]>\", line 1, in <module>\n",
       "                q6a_out[0, 0] == 0\n",
       "            TypeError: 'NoneType' object is not subscriptable"
      ]
     },
     "execution_count": 212,
     "metadata": {},
     "output_type": "execute_result"
    }
   ],
   "source": [
    "grader.check(\"q6.1\")"
   ]
  },
  {
   "cell_type": "markdown",
   "id": "56393cb1",
   "metadata": {},
   "source": [
    "### Question 6.2 – Transforming a Quantitative Column into Quantiles (`transform_to_quantile`)\n",
    "\n",
    "You will now transform the `'carat'` column so that each diamond's weight in carats is replaced with the **percentile** amongst all diamonds in which its weight lies.\n",
    "\n",
    "Complete the implementation of the method `transform_to_quantiles`, which takes in a DataFrame like `diamonds` and returns an array containing the percentiles of the weight of each diamond, amongst all diamonds in `self.data`. This array should consist of proportions between 0 and 1; for instance, 0.65 will refer to the 65th percentile. The relevant transformer is `QuantileTransformer`. \n",
    "\n",
    "Some guidance:\n",
    "\n",
    "- Unlike with `Binarizer`, you need to `fit` your `QuantileTransformer` before calling `transform` on the input DataFrame `data`. \n",
    "    - You should `fit` your transformer on the DataFrame `self.data`, but you should only `transform` the `data` that is passed to `transform_to_quantiles`. \n",
    "    - Note that these two DataFrames, `self.data` and `data`, don't have to be the same! For instance, in the last two lines of the testing setup cell below, we fit a `QuantileTransformer` using just the first 1000 rows of `diamonds`, and then `transform` the entire `diamonds` DataFrame. Make sure your `transform_to_quantiles` method works in such a case.\n",
    "- When initializing your `QuantileTransformer`, use `n_quantiles=100`."
   ]
  },
  {
   "cell_type": "code",
   "execution_count": null,
   "id": "55a713cd",
   "metadata": {},
   "outputs": [],
   "source": []
  },
  {
   "cell_type": "code",
   "execution_count": null,
   "id": "76b7f68f",
   "metadata": {},
   "outputs": [],
   "source": []
  },
  {
   "cell_type": "code",
   "execution_count": 213,
   "id": "36f18f1a",
   "metadata": {},
   "outputs": [],
   "source": [
    "# don't change this cell, but do run it -- it is needed for the tests to work\n",
    "q6b_trans = TransformDiamonds(diamonds)\n",
    "q6b_out = q6b_trans.transform_to_quantile(diamonds)\n",
    "q6b_trans_top_1000 = TransformDiamonds(diamonds[:1000])\n",
    "q6b_out_top_1000 = q6b_trans_top_1000.transform_to_quantile(diamonds)"
   ]
  },
  {
   "cell_type": "code",
   "execution_count": 214,
   "id": "74d484cd",
   "metadata": {
    "deletable": false,
    "editable": false
   },
   "outputs": [
    {
     "data": {
      "text/html": [
       "<p><strong style='color: red;'><pre style='display: inline;'>q6.2</pre> results:</strong></p><p><strong><pre style='display: inline;'>q6.2 - 1</pre> result:</strong></p><pre>    Trying:\n",
       "        isinstance(q6b_out, np.ndarray)\n",
       "    Expecting:\n",
       "        True\n",
       "    **********************************************************************\n",
       "    Line 1, in q6.2 0\n",
       "    Failed example:\n",
       "        isinstance(q6b_out, np.ndarray)\n",
       "    Expected:\n",
       "        True\n",
       "    Got:\n",
       "        False\n",
       "</pre><p><strong><pre style='display: inline;'>q6.2 - 2</pre> result:</strong></p><pre>    Trying:\n",
       "        np.isclose(q6b_out[0, 0], 0.0075757, atol=0.0001)\n",
       "    Expecting:\n",
       "        True\n",
       "    **********************************************************************\n",
       "    Line 1, in q6.2 1\n",
       "    Failed example:\n",
       "        np.isclose(q6b_out[0, 0], 0.0075757, atol=0.0001)\n",
       "    Exception raised:\n",
       "        Traceback (most recent call last):\n",
       "          File \"c:\\Users\\samue\\miniforge3\\envs\\dsc80\\lib\\doctest.py\", line 1336, in __run\n",
       "            exec(compile(example.source, filename, \"single\",\n",
       "          File \"<doctest q6.2 1[0]>\", line 1, in <module>\n",
       "            np.isclose(q6b_out[0, 0], 0.0075757, atol=0.0001)\n",
       "        TypeError: 'NoneType' object is not subscriptable\n",
       "</pre><p><strong><pre style='display: inline;'>q6.2 - 3</pre> result:</strong></p><pre>    Trying:\n",
       "        np.isclose(q6b_out[1, 0], 0.0025252, atol=0.0001)\n",
       "    Expecting:\n",
       "        True\n",
       "    **********************************************************************\n",
       "    Line 1, in q6.2 2\n",
       "    Failed example:\n",
       "        np.isclose(q6b_out[1, 0], 0.0025252, atol=0.0001)\n",
       "    Exception raised:\n",
       "        Traceback (most recent call last):\n",
       "          File \"c:\\Users\\samue\\miniforge3\\envs\\dsc80\\lib\\doctest.py\", line 1336, in __run\n",
       "            exec(compile(example.source, filename, \"single\",\n",
       "          File \"<doctest q6.2 2[0]>\", line 1, in <module>\n",
       "            np.isclose(q6b_out[1, 0], 0.0025252, atol=0.0001)\n",
       "        TypeError: 'NoneType' object is not subscriptable\n",
       "</pre>"
      ],
      "text/plain": [
       "q6.2 results:\n",
       "    q6.2 - 1 result:\n",
       "        Trying:\n",
       "            isinstance(q6b_out, np.ndarray)\n",
       "        Expecting:\n",
       "            True\n",
       "        **********************************************************************\n",
       "        Line 1, in q6.2 0\n",
       "        Failed example:\n",
       "            isinstance(q6b_out, np.ndarray)\n",
       "        Expected:\n",
       "            True\n",
       "        Got:\n",
       "            False\n",
       "\n",
       "    q6.2 - 2 result:\n",
       "        Trying:\n",
       "            np.isclose(q6b_out[0, 0], 0.0075757, atol=0.0001)\n",
       "        Expecting:\n",
       "            True\n",
       "        **********************************************************************\n",
       "        Line 1, in q6.2 1\n",
       "        Failed example:\n",
       "            np.isclose(q6b_out[0, 0], 0.0075757, atol=0.0001)\n",
       "        Exception raised:\n",
       "            Traceback (most recent call last):\n",
       "              File \"c:\\Users\\samue\\miniforge3\\envs\\dsc80\\lib\\doctest.py\", line 1336, in __run\n",
       "                exec(compile(example.source, filename, \"single\",\n",
       "              File \"<doctest q6.2 1[0]>\", line 1, in <module>\n",
       "                np.isclose(q6b_out[0, 0], 0.0075757, atol=0.0001)\n",
       "            TypeError: 'NoneType' object is not subscriptable\n",
       "\n",
       "    q6.2 - 3 result:\n",
       "        Trying:\n",
       "            np.isclose(q6b_out[1, 0], 0.0025252, atol=0.0001)\n",
       "        Expecting:\n",
       "            True\n",
       "        **********************************************************************\n",
       "        Line 1, in q6.2 2\n",
       "        Failed example:\n",
       "            np.isclose(q6b_out[1, 0], 0.0025252, atol=0.0001)\n",
       "        Exception raised:\n",
       "            Traceback (most recent call last):\n",
       "              File \"c:\\Users\\samue\\miniforge3\\envs\\dsc80\\lib\\doctest.py\", line 1336, in __run\n",
       "                exec(compile(example.source, filename, \"single\",\n",
       "              File \"<doctest q6.2 2[0]>\", line 1, in <module>\n",
       "                np.isclose(q6b_out[1, 0], 0.0025252, atol=0.0001)\n",
       "            TypeError: 'NoneType' object is not subscriptable"
      ]
     },
     "execution_count": 214,
     "metadata": {},
     "output_type": "execute_result"
    }
   ],
   "source": [
    "grader.check(\"q6.2\")"
   ]
  },
  {
   "cell_type": "markdown",
   "id": "4f976186",
   "metadata": {},
   "source": [
    "### Question 6.3 – Transforming a Quantitative Column Using a Formula\n",
    "\n",
    "Recall from the introduction to Part 2 that the \"depth percentage\" of a diamond is defined as\n",
    "\n",
    "$$\\text{Depth Pct.} = 100\\% \\cdot \\frac{2z}{x + y}$$\n",
    "\n",
    "where $x$, $y$, and $z$ come from the `'x'`, `'y'`, and `'z'` columns in `diamonds`.\n",
    "\n",
    "Let's suppose that for some reason we don't have access to the `'depth'` column in `diamonds`, and instead need to recreate it just by looking at the `'x'`, `'y'`, and `'z'` columns. \n",
    "\n",
    "Complete the implementation of the method `transform_to_depth_pct`, which takes in a DataFrame like `diamonds` and returns an array consisting of the depth percentages of each diamond. Percentages should be between 0 and 100. The relevant transformer is `FunctionTransformer`.\n",
    "\n",
    "***Notes***:\n",
    "- To use `FunctionTransformer`, you will need to define your own function that takes in a 2D array and returns a single array.\n",
    "- Ignore `ZeroDivisionError` errors, and leave `np.NaN`s as is.\n",
    "- To verify your work, compare your outputted array to the actual `'depth'` column in `diamonds`.\n",
    "- It may seem like `FunctionTransformer` is totally unnecessary, since we can compute depth percentages using broadcasting directly. However, as we will see in lecture, transformers can be **pipelined** with other processing steps which greatly simplifies our code."
   ]
  },
  {
   "cell_type": "code",
   "execution_count": null,
   "id": "a6695780",
   "metadata": {},
   "outputs": [],
   "source": []
  },
  {
   "cell_type": "code",
   "execution_count": null,
   "id": "949f0ac5",
   "metadata": {},
   "outputs": [],
   "source": []
  },
  {
   "cell_type": "code",
   "execution_count": 215,
   "id": "ce894021",
   "metadata": {},
   "outputs": [],
   "source": [
    "# don't change this cell, but do run it -- it is needed for the tests to work\n",
    "diamonds = pd.read_csv(Path('data')/'diamonds.csv')\n",
    "q6c_trans = TransformDiamonds(diamonds)\n",
    "q6c_out = q6c_trans.transform_to_depth_pct(diamonds)"
   ]
  },
  {
   "cell_type": "code",
   "execution_count": 216,
   "id": "3c74423c",
   "metadata": {
    "deletable": false,
    "editable": false
   },
   "outputs": [
    {
     "data": {
      "text/html": [
       "<p><strong style='color: red;'><pre style='display: inline;'>q6.3</pre> results:</strong></p><p><strong><pre style='display: inline;'>q6.3 - 1</pre> result:</strong></p><pre>    Trying:\n",
       "        len(q6c_out.shape) == 1\n",
       "    Expecting:\n",
       "        True\n",
       "    **********************************************************************\n",
       "    Line 1, in q6.3 0\n",
       "    Failed example:\n",
       "        len(q6c_out.shape) == 1\n",
       "    Exception raised:\n",
       "        Traceback (most recent call last):\n",
       "          File \"c:\\Users\\samue\\miniforge3\\envs\\dsc80\\lib\\doctest.py\", line 1336, in __run\n",
       "            exec(compile(example.source, filename, \"single\",\n",
       "          File \"<doctest q6.3 0[0]>\", line 1, in <module>\n",
       "            len(q6c_out.shape) == 1\n",
       "        AttributeError: 'NoneType' object has no attribute 'shape'\n",
       "</pre><p><strong><pre style='display: inline;'>q6.3 - 2</pre> result:</strong></p><pre>    Trying:\n",
       "        np.isclose(q6c_out[0], 61.286, atol=0.0001)\n",
       "    Expecting:\n",
       "        True\n",
       "    **********************************************************************\n",
       "    Line 1, in q6.3 1\n",
       "    Failed example:\n",
       "        np.isclose(q6c_out[0], 61.286, atol=0.0001)\n",
       "    Exception raised:\n",
       "        Traceback (most recent call last):\n",
       "          File \"c:\\Users\\samue\\miniforge3\\envs\\dsc80\\lib\\doctest.py\", line 1336, in __run\n",
       "            exec(compile(example.source, filename, \"single\",\n",
       "          File \"<doctest q6.3 1[0]>\", line 1, in <module>\n",
       "            np.isclose(q6c_out[0], 61.286, atol=0.0001)\n",
       "        TypeError: 'NoneType' object is not subscriptable\n",
       "</pre>"
      ],
      "text/plain": [
       "q6.3 results:\n",
       "    q6.3 - 1 result:\n",
       "        Trying:\n",
       "            len(q6c_out.shape) == 1\n",
       "        Expecting:\n",
       "            True\n",
       "        **********************************************************************\n",
       "        Line 1, in q6.3 0\n",
       "        Failed example:\n",
       "            len(q6c_out.shape) == 1\n",
       "        Exception raised:\n",
       "            Traceback (most recent call last):\n",
       "              File \"c:\\Users\\samue\\miniforge3\\envs\\dsc80\\lib\\doctest.py\", line 1336, in __run\n",
       "                exec(compile(example.source, filename, \"single\",\n",
       "              File \"<doctest q6.3 0[0]>\", line 1, in <module>\n",
       "                len(q6c_out.shape) == 1\n",
       "            AttributeError: 'NoneType' object has no attribute 'shape'\n",
       "\n",
       "    q6.3 - 2 result:\n",
       "        Trying:\n",
       "            np.isclose(q6c_out[0], 61.286, atol=0.0001)\n",
       "        Expecting:\n",
       "            True\n",
       "        **********************************************************************\n",
       "        Line 1, in q6.3 1\n",
       "        Failed example:\n",
       "            np.isclose(q6c_out[0], 61.286, atol=0.0001)\n",
       "        Exception raised:\n",
       "            Traceback (most recent call last):\n",
       "              File \"c:\\Users\\samue\\miniforge3\\envs\\dsc80\\lib\\doctest.py\", line 1336, in __run\n",
       "                exec(compile(example.source, filename, \"single\",\n",
       "              File \"<doctest q6.3 1[0]>\", line 1, in <module>\n",
       "                np.isclose(q6c_out[0], 61.286, atol=0.0001)\n",
       "            TypeError: 'NoneType' object is not subscriptable"
      ]
     },
     "execution_count": 216,
     "metadata": {},
     "output_type": "execute_result"
    }
   ],
   "source": [
    "grader.check(\"q6.3\")"
   ]
  },
  {
   "cell_type": "markdown",
   "id": "e651b248",
   "metadata": {},
   "source": [
    "## Congratulations! You're done Lab 8! 🏁\n",
    "\n",
    "As a reminder, all of the work you want to submit needs to be in `lab.py`.\n",
    "\n",
    "To ensure that all of the work you want to submit is in `lab.py`, we've included a script named `lab-validation.py` in the lab folder. You shouldn't edit it, but instead, you should call it from the command line (e.g. the Terminal) to test your work.\n",
    "\n",
    "Once you've finished the lab, you should open the command line and run, in the directory for this lab:\n",
    "\n",
    "```\n",
    "python lab-validation.py\n",
    "```\n",
    "\n",
    "**This will run all of the `grader.check` cells that you see in this notebook, but only using the code in `lab.py` – that is, it doesn't look at any of the code in this notebook. If all of your `grader.check` cells pass in this notebook but not all of them pass in your command line with the above command, then you likely have code in your notebook that isn't in your `lab.py`!**\n",
    "\n",
    "You can also use `lab-validation.py` to test individual questions. For instance,\n",
    "\n",
    "```\n",
    "python lab-validation.py q1 q2 q4\n",
    "```\n",
    "\n",
    "will run the `grader.check` cells for Questions 1, 2, and 4 – again, only using the code in `lab.py`. [This video](https://www.loom.com/share/0ea254b85b2745e59322b5e5a8692e91?sid=5acc92e6-0dfe-4555-9b6a-8115b6a52f99) how to use the script as well.\n",
    "\n",
    "Once `python lab-validation.py` shows that you're passing all test cases, you're ready to submit your `lab.py` (and only your `lab.py`) to Gradescope. Once submitting to Gradescope, make sure to stick around until all test cases pass.\n",
    "\n",
    "There is also a call to `grader.check_all()` below in _this_ notebook, but make sure to also follow the steps above."
   ]
  },
  {
   "cell_type": "markdown",
   "id": "0a53752a",
   "metadata": {
    "deletable": false,
    "editable": false
   },
   "source": [
    "---\n",
    "\n",
    "To double-check your work, the cell below will rerun all of the autograder tests."
   ]
  },
  {
   "cell_type": "code",
   "execution_count": 217,
   "id": "3262852e",
   "metadata": {
    "deletable": false,
    "editable": false
   },
   "outputs": [
    {
     "data": {
      "text/plain": [
       "q1 results: All test cases passed!\n",
       "\n",
       "q2 results: All test cases passed!\n",
       "\n",
       "q3 results: All test cases passed!\n",
       "\n",
       "q4 results: All test cases passed!\n",
       "\n",
       "q5 results: All test cases passed!\n",
       "\n",
       "q6.1 results:\n",
       "    q6.1 - 1 result:\n",
       "        Trying:\n",
       "            isinstance(q6a_out, np.ndarray)\n",
       "        Expecting:\n",
       "            True\n",
       "        **********************************************************************\n",
       "        Line 1, in q6.1 0\n",
       "        Failed example:\n",
       "            isinstance(q6a_out, np.ndarray)\n",
       "        Expected:\n",
       "            True\n",
       "        Got:\n",
       "            False\n",
       "\n",
       "    q6.1 - 2 result:\n",
       "        Trying:\n",
       "            q6a_out[172, 0] == 1\n",
       "        Expecting:\n",
       "            True\n",
       "        **********************************************************************\n",
       "        Line 1, in q6.1 1\n",
       "        Failed example:\n",
       "            q6a_out[172, 0] == 1\n",
       "        Exception raised:\n",
       "            Traceback (most recent call last):\n",
       "              File \"c:\\Users\\samue\\miniforge3\\envs\\dsc80\\lib\\doctest.py\", line 1336, in __run\n",
       "                exec(compile(example.source, filename, \"single\",\n",
       "              File \"<doctest q6.1 1[0]>\", line 1, in <module>\n",
       "                q6a_out[172, 0] == 1\n",
       "            TypeError: 'NoneType' object is not subscriptable\n",
       "\n",
       "    q6.1 - 3 result:\n",
       "        Trying:\n",
       "            q6a_out[0, 0] == 0\n",
       "        Expecting:\n",
       "            True\n",
       "        **********************************************************************\n",
       "        Line 1, in q6.1 2\n",
       "        Failed example:\n",
       "            q6a_out[0, 0] == 0\n",
       "        Exception raised:\n",
       "            Traceback (most recent call last):\n",
       "              File \"c:\\Users\\samue\\miniforge3\\envs\\dsc80\\lib\\doctest.py\", line 1336, in __run\n",
       "                exec(compile(example.source, filename, \"single\",\n",
       "              File \"<doctest q6.1 2[0]>\", line 1, in <module>\n",
       "                q6a_out[0, 0] == 0\n",
       "            TypeError: 'NoneType' object is not subscriptable\n",
       "\n",
       "q6.2 results:\n",
       "    q6.2 - 1 result:\n",
       "        Trying:\n",
       "            isinstance(q6b_out, np.ndarray)\n",
       "        Expecting:\n",
       "            True\n",
       "        **********************************************************************\n",
       "        Line 1, in q6.2 0\n",
       "        Failed example:\n",
       "            isinstance(q6b_out, np.ndarray)\n",
       "        Expected:\n",
       "            True\n",
       "        Got:\n",
       "            False\n",
       "\n",
       "    q6.2 - 2 result:\n",
       "        Trying:\n",
       "            np.isclose(q6b_out[0, 0], 0.0075757, atol=0.0001)\n",
       "        Expecting:\n",
       "            True\n",
       "        **********************************************************************\n",
       "        Line 1, in q6.2 1\n",
       "        Failed example:\n",
       "            np.isclose(q6b_out[0, 0], 0.0075757, atol=0.0001)\n",
       "        Exception raised:\n",
       "            Traceback (most recent call last):\n",
       "              File \"c:\\Users\\samue\\miniforge3\\envs\\dsc80\\lib\\doctest.py\", line 1336, in __run\n",
       "                exec(compile(example.source, filename, \"single\",\n",
       "              File \"<doctest q6.2 1[0]>\", line 1, in <module>\n",
       "                np.isclose(q6b_out[0, 0], 0.0075757, atol=0.0001)\n",
       "            TypeError: 'NoneType' object is not subscriptable\n",
       "\n",
       "    q6.2 - 3 result:\n",
       "        Trying:\n",
       "            np.isclose(q6b_out[1, 0], 0.0025252, atol=0.0001)\n",
       "        Expecting:\n",
       "            True\n",
       "        **********************************************************************\n",
       "        Line 1, in q6.2 2\n",
       "        Failed example:\n",
       "            np.isclose(q6b_out[1, 0], 0.0025252, atol=0.0001)\n",
       "        Exception raised:\n",
       "            Traceback (most recent call last):\n",
       "              File \"c:\\Users\\samue\\miniforge3\\envs\\dsc80\\lib\\doctest.py\", line 1336, in __run\n",
       "                exec(compile(example.source, filename, \"single\",\n",
       "              File \"<doctest q6.2 2[0]>\", line 1, in <module>\n",
       "                np.isclose(q6b_out[1, 0], 0.0025252, atol=0.0001)\n",
       "            TypeError: 'NoneType' object is not subscriptable\n",
       "\n",
       "q6.3 results:\n",
       "    q6.3 - 1 result:\n",
       "        Trying:\n",
       "            len(q6c_out.shape) == 1\n",
       "        Expecting:\n",
       "            True\n",
       "        **********************************************************************\n",
       "        Line 1, in q6.3 0\n",
       "        Failed example:\n",
       "            len(q6c_out.shape) == 1\n",
       "        Exception raised:\n",
       "            Traceback (most recent call last):\n",
       "              File \"c:\\Users\\samue\\miniforge3\\envs\\dsc80\\lib\\doctest.py\", line 1336, in __run\n",
       "                exec(compile(example.source, filename, \"single\",\n",
       "              File \"<doctest q6.3 0[0]>\", line 1, in <module>\n",
       "                len(q6c_out.shape) == 1\n",
       "            AttributeError: 'NoneType' object has no attribute 'shape'\n",
       "\n",
       "    q6.3 - 2 result:\n",
       "        Trying:\n",
       "            np.isclose(q6c_out[0], 61.286, atol=0.0001)\n",
       "        Expecting:\n",
       "            True\n",
       "        **********************************************************************\n",
       "        Line 1, in q6.3 1\n",
       "        Failed example:\n",
       "            np.isclose(q6c_out[0], 61.286, atol=0.0001)\n",
       "        Exception raised:\n",
       "            Traceback (most recent call last):\n",
       "              File \"c:\\Users\\samue\\miniforge3\\envs\\dsc80\\lib\\doctest.py\", line 1336, in __run\n",
       "                exec(compile(example.source, filename, \"single\",\n",
       "              File \"<doctest q6.3 1[0]>\", line 1, in <module>\n",
       "                np.isclose(q6c_out[0], 61.286, atol=0.0001)\n",
       "            TypeError: 'NoneType' object is not subscriptable"
      ]
     },
     "execution_count": 217,
     "metadata": {},
     "output_type": "execute_result"
    }
   ],
   "source": [
    "grader.check_all()"
   ]
  }
 ],
 "metadata": {
  "kernelspec": {
   "display_name": "Python 3 (ipykernel)",
   "language": "python",
   "name": "python3"
  },
  "language_info": {
   "codemirror_mode": {
    "name": "ipython",
    "version": 3
   },
   "file_extension": ".py",
   "mimetype": "text/x-python",
   "name": "python",
   "nbconvert_exporter": "python",
   "pygments_lexer": "ipython3",
   "version": "3.8.18"
  },
  "otter": {
   "tests": {
    "q1": {
     "name": "q1",
     "points": null,
     "suites": [
      {
       "cases": [
        {
         "code": ">>> best_transformation() in [1, 2, 3, 4]\nTrue",
         "hidden": false,
         "locked": false,
         "points": 1
        }
       ],
       "scored": true,
       "setup": "",
       "teardown": "",
       "type": "doctest"
      }
     ]
    },
    "q2": {
     "name": "q2",
     "points": null,
     "suites": [
      {
       "cases": [
        {
         "code": ">>> set(out_q2.columns) == {'ordinal_cut', 'ordinal_clarity', 'ordinal_color'}\nTrue",
         "hidden": false,
         "locked": false,
         "points": 0.5
        },
        {
         "code": ">>> np.unique(out_q2['ordinal_cut']).tolist() == [0, 1, 2, 3, 4]\nTrue",
         "hidden": false,
         "locked": false,
         "points": 0.5
        }
       ],
       "scored": true,
       "setup": "",
       "teardown": "",
       "type": "doctest"
      }
     ]
    },
    "q3": {
     "name": "q3",
     "points": null,
     "suites": [
      {
       "cases": [
        {
         "code": ">>> out1_q3.shape == (53940, 20)\nTrue",
         "hidden": false,
         "locked": false,
         "points": 1
        },
        {
         "code": ">>> out1_q3.columns.str.startswith('one_hot').all()\nTrue",
         "hidden": false,
         "locked": false,
         "points": 1
        },
        {
         "code": ">>> out1_q3.isin([0,1]).all().all()\nTrue",
         "hidden": false,
         "locked": false,
         "points": 1
        },
        {
         "code": ">>> out2_q3.shape[1] == 3\nTrue",
         "hidden": false,
         "locked": false,
         "points": 1
        },
        {
         "code": ">>> out2_q3.columns.str.startswith('proportion_').all()\nTrue",
         "hidden": false,
         "locked": false,
         "points": 1
        },
        {
         "code": ">>> ((out2_q3 >= 0) & (out2_q3 <= 1)).all().all()\nTrue",
         "hidden": false,
         "locked": false,
         "points": 1
        }
       ],
       "scored": true,
       "setup": "",
       "teardown": "",
       "type": "doctest"
      }
     ]
    },
    "q4": {
     "name": "q4",
     "points": null,
     "suites": [
      {
       "cases": [
        {
         "code": ">>> out_q4.columns.str.contains(' * ').all()\nTrue",
         "hidden": false,
         "locked": false,
         "points": 1
        },
        {
         "code": ">>> ('x * z' in out_q4.columns) or ('z * x' in out_q4.columns)\nTrue",
         "hidden": false,
         "locked": false,
         "points": 1
        },
        {
         "code": ">>> out_q4.shape[1] == 15\nTrue",
         "hidden": false,
         "locked": false,
         "points": 1
        }
       ],
       "scored": true,
       "setup": "",
       "teardown": "",
       "type": "doctest"
      }
     ]
    },
    "q5": {
     "name": "q5",
     "points": null,
     "suites": [
      {
       "cases": [
        {
         "code": ">>> len(out_q5) == 6\nTrue",
         "hidden": false,
         "locked": false,
         "points": 1
        },
        {
         "code": ">>> isinstance(out_q5[0], numbers.Real)\nTrue",
         "hidden": false,
         "locked": false,
         "points": 1
        },
        {
         "code": ">>> all(isinstance(x, str) for x in out_q5[2:-1])\nTrue",
         "hidden": false,
         "locked": false,
         "points": 1
        },
        {
         "code": ">>> out_q5[1] > out_q5[-1]\nTrue",
         "hidden": false,
         "locked": false,
         "points": 1
        }
       ],
       "scored": true,
       "setup": "",
       "teardown": "",
       "type": "doctest"
      }
     ]
    },
    "q6.1": {
     "name": "q6.1",
     "points": null,
     "suites": [
      {
       "cases": [
        {
         "code": ">>> isinstance(q6a_out, np.ndarray)\nTrue",
         "hidden": false,
         "locked": false,
         "points": 0.5
        },
        {
         "code": ">>> q6a_out[172, 0] == 1\nTrue",
         "hidden": false,
         "locked": false,
         "points": 0.5
        },
        {
         "code": ">>> q6a_out[0, 0] == 0\nTrue",
         "hidden": false,
         "locked": false,
         "points": 0.5
        }
       ],
       "scored": true,
       "setup": "",
       "teardown": "",
       "type": "doctest"
      }
     ]
    },
    "q6.2": {
     "name": "q6.2",
     "points": null,
     "suites": [
      {
       "cases": [
        {
         "code": ">>> isinstance(q6b_out, np.ndarray)\nTrue",
         "hidden": false,
         "locked": false,
         "points": 0.5
        },
        {
         "code": ">>> np.isclose(q6b_out[0, 0], 0.0075757, atol=0.0001)\nTrue",
         "hidden": false,
         "locked": false,
         "points": 0.5
        },
        {
         "code": ">>> np.isclose(q6b_out[1, 0], 0.0025252, atol=0.0001)\nTrue",
         "hidden": false,
         "locked": false,
         "points": 0.5
        }
       ],
       "scored": true,
       "setup": "",
       "teardown": "",
       "type": "doctest"
      }
     ]
    },
    "q6.3": {
     "name": "q6.3",
     "points": null,
     "suites": [
      {
       "cases": [
        {
         "code": ">>> len(q6c_out.shape) == 1\nTrue",
         "hidden": false,
         "locked": false,
         "points": 0.5
        },
        {
         "code": ">>> np.isclose(q6c_out[0], 61.286, atol=0.0001)\nTrue",
         "hidden": false,
         "locked": false,
         "points": 0.5
        }
       ],
       "scored": true,
       "setup": "",
       "teardown": "",
       "type": "doctest"
      }
     ]
    }
   }
  }
 },
 "nbformat": 4,
 "nbformat_minor": 5
}
